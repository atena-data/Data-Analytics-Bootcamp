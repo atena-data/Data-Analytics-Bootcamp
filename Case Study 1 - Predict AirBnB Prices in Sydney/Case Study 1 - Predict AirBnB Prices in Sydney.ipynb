{
 "cells": [
  {
   "cell_type": "markdown",
   "metadata": {
    "colab_type": "text",
    "id": "0aELHnRaw5E_"
   },
   "source": [
    "# AirBnB Fair Valuation\n",
    "\n",
    "Welcome to Airbnb Analysis Corp.! Your task is to set the competitive **daily accomodation rate** for a client's house in Bondi Beach. The owner currently charges $500. We have been tasked to estimate a **fair value** that the owner should be charging. The house has the following characteristics and constraints. While developing this model you came to realise that Airbnb can use your model to estimate the fair value of any property on their database, your are effectively creating a recommendation model for all prospective hosts!\n",
    "\n",
    "\n",
    "1. The owner has been a host since **August 2010**\n",
    "1. The location is **lon:151.274506, lat:33.889087**\n",
    "1. The current review score rating **95.0**\n",
    "1. Number of reviews **53**\n",
    "1. Minimum nights **4**\n",
    "1. The house can accomodate **10** people.\n",
    "1. The owner currently charges a cleaning fee of **370**\n",
    "1. The house has **3 bathrooms, 5 bedrooms, 7 beds**.\n",
    "1. The house is available for **255 of the next 365 days**\n",
    "1. The client is **verified**, and they are a **superhost**.\n",
    "1. The cancelation policy is **strict with a 14 days grace period**.\n",
    "1. The host requires a security deposit of **$1,500**\n",
    "\n",
    "\n",
    "*All values strictly apply to the month of July 2018*"
   ]
  },
  {
   "cell_type": "code",
   "execution_count": 1,
   "metadata": {
    "colab": {},
    "colab_type": "code",
    "id": "aKJYHFgSw5FB"
   },
   "outputs": [],
   "source": [
    "# Defining our Sample Client Data\n",
    "from dateutil import parser\n",
    "dict_client = {}\n",
    "\n",
    "dict_client[\"city\"] = \"Bondi Beach\"\n",
    "dict_client[\"longitude\"] = 151.274506\n",
    "dict_client[\"latitude\"] = -33.889087\n",
    "dict_client[\"review_scores_rating\"] = 95\n",
    "dict_client[\"number_of_reviews\"] = 53\n",
    "dict_client[\"minimum_nights\"] = 4\n",
    "dict_client[\"accommodates\"] = 10\n",
    "dict_client[\"bathrooms\"] = 3\n",
    "dict_client[\"bedrooms\"] = 5\n",
    "dict_client[\"beds\"] = 7\n",
    "dict_client[\"security_deposit\"] = 1500\n",
    "dict_client[\"cleaning_fee\"] = 370\n",
    "dict_client[\"property_type\"] = \"House\"\n",
    "dict_client[\"room_type\"] = \"Entire home/apt\"\n",
    "dict_client[\"availability_365\"] = 255\n",
    "dict_client[\"host_identity_verified\"] = 't'  ## 1 for yes, 0 for no\n",
    "dict_client[\"host_is_superhost\"] = 't'\n",
    "dict_client[\"cancellation_policy\"] = \"strict_14_with_grace_period\"\n",
    "dict_client[\"host_since\"] = parser.parse(\"01-08-2010\")"
   ]
  },
  {
   "cell_type": "code",
   "execution_count": null,
   "metadata": {},
   "outputs": [],
   "source": [
    "# To support both python 2 and python 3\n",
    "from __future__ import division, print_function, unicode_literals\n",
    "# Common imports\n",
    "import numpy as np\n",
    "import os\n",
    "import pandas as pd\n",
    "from pathlib import Path\n",
    "import re\n",
    "import seaborn as sns\n",
    "%matplotlib inline\n",
    "import matplotlib.pyplot as plt\n",
    "from sklearn.model_selection import train_test_split\n",
    "from sklearn import preprocessing\n",
    "from sklearn.model_selection import StratifiedShuffleSplit"
   ]
  },
  {
   "cell_type": "markdown",
   "metadata": {
    "colab_type": "text",
    "id": "0NqmpQhkw5FL"
   },
   "source": [
    "# Setup"
   ]
  },
  {
   "cell_type": "markdown",
   "metadata": {
    "colab_type": "text",
    "id": "h8BPo5jdw5FN"
   },
   "source": [
    "First, let's make sure this notebook works well in both python 2 and 3, import a few common modules, ensure MatplotLib plots figures inline and prepare a function to save the figures:"
   ]
  },
  {
   "cell_type": "code",
   "execution_count": 2,
   "metadata": {
    "colab": {},
    "colab_type": "code",
    "id": "CZK0NbLRw5FQ"
   },
   "outputs": [],
   "source": [
    "# to make this notebook's output stable across runs\n",
    "np.random.seed(42)\n",
    "\n",
    "# To plot pretty figures\n",
    "%matplotlib inline\n",
    "import matplotlib\n",
    "import matplotlib.pyplot as plt\n",
    "plt.rcParams['axes.labelsize'] = 14\n",
    "plt.rcParams['xtick.labelsize'] = 12\n",
    "plt.rcParams['ytick.labelsize'] = 12\n",
    "\n",
    "# Where to save the figures\n",
    "PROJECT_ROOT_DIR = \".\"\n",
    "CHAPTER_ID = \"end_to_end_project\"\n",
    "IMAGES_PATH = os.path.join(PROJECT_ROOT_DIR, \"images\", CHAPTER_ID)\n",
    "\n",
    "def save_fig(fig_id, tight_layout=True, fig_extension=\"png\", resolution=300):\n",
    "    path = os.path.join(IMAGES_PATH, fig_id + \".\" + fig_extension)\n",
    "    print(\"Saving figure\", fig_id)\n",
    "    if tight_layout:\n",
    "        plt.tight_layout()\n",
    "    try:\n",
    "        plt.savefig(path, format=fig_extension, dpi=resolution)\n",
    "    except:\n",
    "        plt.savefig(fig_id + \".\" + fig_extension, format=fig_extension, dpi=resolution)\n",
    "\n",
    "# Ignore useless warnings (see SciPy issue #5998)\n",
    "import warnings\n",
    "warnings.filterwarnings(action=\"ignore\", message=\"^internal gelsd\")\n",
    "pd.options.display.max_columns = None"
   ]
  },
  {
   "cell_type": "markdown",
   "metadata": {
    "colab_type": "text",
    "id": "8R-FkkOFw5FY"
   },
   "source": [
    "# Get the data"
   ]
  },
  {
   "cell_type": "code",
   "execution_count": 3,
   "metadata": {
    "colab": {
     "base_uri": "https://localhost:8080/",
     "height": 107
    },
    "colab_type": "code",
    "executionInfo": {
     "elapsed": 3224,
     "status": "ok",
     "timestamp": 1573949454337,
     "user": {
      "displayName": "Rajeev Ratan",
      "photoUrl": "https://lh3.googleusercontent.com/a-/AAuE7mCGo6aIm0tOcd5EhqWlYb0rime9sBvHS9YMpx0D2w=s64",
      "userId": "08597265227091462140"
     },
     "user_tz": 0
    },
    "id": "JY4PmIA-w5Fa",
    "outputId": "c3b934ee-f52c-441b-99f0-98af90bb60e1"
   },
   "outputs": [
    {
     "name": "stdout",
     "output_type": "stream",
     "text": [
      "Be patient: loading from github (2 minutes)\n",
      "Done\n"
     ]
    },
    {
     "name": "stderr",
     "output_type": "stream",
     "text": [
      "C:\\Users\\Atena\\anaconda\\lib\\site-packages\\IPython\\core\\interactiveshell.py:3146: DtypeWarning: Columns (36,54,55) have mixed types.Specify dtype option on import or set low_memory=False.\n",
      "  has_raised = await self.run_ast_nodes(code_ast.body, cell_name,\n"
     ]
    }
   ],
   "source": [
    "\n",
    "github_p = \"https://raw.githubusercontent.com/Finance-781/FinML/master/Lecture%202%20-%20End-to-End%20ML%20Project%20/Practice/\"\n",
    "\n",
    "my_file = Path(\"datasets/sydney_airbnb.csv\") # Defines path\n",
    "if my_file.is_file():              # See if file exists\n",
    "    print(\"Local file found\")      \n",
    "    df = pd.read_csv('datasets/sydney_airbnb.csv')\n",
    "else:\n",
    "    print(\"Be patient: loading from github (2 minutes)\")\n",
    "    df = pd.read_csv(github_p+'datasets/sydney_airbnb.csv')\n",
    "    print(\"Done\")"
   ]
  },
  {
   "cell_type": "code",
   "execution_count": 4,
   "metadata": {
    "colab": {
     "base_uri": "https://localhost:8080/",
     "height": 759
    },
    "colab_type": "code",
    "executionInfo": {
     "elapsed": 760,
     "status": "ok",
     "timestamp": 1573949462201,
     "user": {
      "displayName": "Rajeev Ratan",
      "photoUrl": "https://lh3.googleusercontent.com/a-/AAuE7mCGo6aIm0tOcd5EhqWlYb0rime9sBvHS9YMpx0D2w=s64",
      "userId": "08597265227091462140"
     },
     "user_tz": 0
    },
    "id": "O_zMrQfcXjJs",
    "outputId": "81c8a0cf-ce16-4c90-991c-dfd11b690268"
   },
   "outputs": [
    {
     "data": {
      "text/html": [
       "<div>\n",
       "<style scoped>\n",
       "    .dataframe tbody tr th:only-of-type {\n",
       "        vertical-align: middle;\n",
       "    }\n",
       "\n",
       "    .dataframe tbody tr th {\n",
       "        vertical-align: top;\n",
       "    }\n",
       "\n",
       "    .dataframe thead th {\n",
       "        text-align: right;\n",
       "    }\n",
       "</style>\n",
       "<table border=\"1\" class=\"dataframe\">\n",
       "  <thead>\n",
       "    <tr style=\"text-align: right;\">\n",
       "      <th></th>\n",
       "      <th>id</th>\n",
       "      <th>listing_url</th>\n",
       "      <th>name</th>\n",
       "      <th>summary</th>\n",
       "      <th>space</th>\n",
       "      <th>description</th>\n",
       "      <th>neighborhood_overview</th>\n",
       "      <th>notes</th>\n",
       "      <th>transit</th>\n",
       "      <th>access</th>\n",
       "      <th>interaction</th>\n",
       "      <th>house_rules</th>\n",
       "      <th>picture_url</th>\n",
       "      <th>host_id</th>\n",
       "      <th>host_url</th>\n",
       "      <th>host_name</th>\n",
       "      <th>host_since</th>\n",
       "      <th>host_location</th>\n",
       "      <th>host_about</th>\n",
       "      <th>host_response_time</th>\n",
       "      <th>host_response_rate</th>\n",
       "      <th>host_is_superhost</th>\n",
       "      <th>host_thumbnail_url</th>\n",
       "      <th>host_picture_url</th>\n",
       "      <th>host_neighbourhood</th>\n",
       "      <th>host_listings_count</th>\n",
       "      <th>host_total_listings_count</th>\n",
       "      <th>host_verifications</th>\n",
       "      <th>host_has_profile_pic</th>\n",
       "      <th>host_identity_verified</th>\n",
       "      <th>street</th>\n",
       "      <th>neighbourhood</th>\n",
       "      <th>neighbourhood_cleansed</th>\n",
       "      <th>neighbourhood_group_cleansed</th>\n",
       "      <th>city</th>\n",
       "      <th>state</th>\n",
       "      <th>zipcode</th>\n",
       "      <th>market</th>\n",
       "      <th>smart_location</th>\n",
       "      <th>country_code</th>\n",
       "      <th>country</th>\n",
       "      <th>latitude</th>\n",
       "      <th>longitude</th>\n",
       "      <th>is_location_exact</th>\n",
       "      <th>property_type</th>\n",
       "      <th>room_type</th>\n",
       "      <th>accommodates</th>\n",
       "      <th>bathrooms</th>\n",
       "      <th>bedrooms</th>\n",
       "      <th>beds</th>\n",
       "      <th>bed_type</th>\n",
       "      <th>amenities</th>\n",
       "      <th>square_feet</th>\n",
       "      <th>price</th>\n",
       "      <th>weekly_price</th>\n",
       "      <th>monthly_price</th>\n",
       "      <th>security_deposit</th>\n",
       "      <th>cleaning_fee</th>\n",
       "      <th>guests_included</th>\n",
       "      <th>extra_people</th>\n",
       "      <th>minimum_nights</th>\n",
       "      <th>maximum_nights</th>\n",
       "      <th>calendar_updated</th>\n",
       "      <th>has_availability</th>\n",
       "      <th>availability_30</th>\n",
       "      <th>availability_60</th>\n",
       "      <th>availability_90</th>\n",
       "      <th>availability_365</th>\n",
       "      <th>number_of_reviews</th>\n",
       "      <th>first_review</th>\n",
       "      <th>last_review</th>\n",
       "      <th>review_scores_rating</th>\n",
       "      <th>review_scores_accuracy</th>\n",
       "      <th>review_scores_cleanliness</th>\n",
       "      <th>review_scores_checkin</th>\n",
       "      <th>review_scores_communication</th>\n",
       "      <th>review_scores_location</th>\n",
       "      <th>review_scores_value</th>\n",
       "      <th>instant_bookable</th>\n",
       "      <th>cancellation_policy</th>\n",
       "      <th>require_guest_profile_picture</th>\n",
       "      <th>require_guest_phone_verification</th>\n",
       "      <th>calculated_host_listings_count</th>\n",
       "      <th>reviews_per_month</th>\n",
       "    </tr>\n",
       "  </thead>\n",
       "  <tbody>\n",
       "    <tr>\n",
       "      <th>0</th>\n",
       "      <td>11156</td>\n",
       "      <td>https://www.airbnb.com/rooms/11156</td>\n",
       "      <td>An Oasis in the City</td>\n",
       "      <td>Very central to the city which can be reached ...</td>\n",
       "      <td>Potts Pt. is a vibrant  and popular inner-city...</td>\n",
       "      <td>Very central to the city which can be reached ...</td>\n",
       "      <td>It is very close to everything and everywhere,...</td>\n",
       "      <td>$150.00 key security deposit, refundable on re...</td>\n",
       "      <td>It is 7 minutes walk to the Kings Cross.train ...</td>\n",
       "      <td>Kitchen &amp; laundry facilities.   Shared bathroom.</td>\n",
       "      <td>As much as they want.</td>\n",
       "      <td>Be considerate.   No showering after 2330h.</td>\n",
       "      <td>https://a0.muscache.com/im/pictures/2797669/17...</td>\n",
       "      <td>40855</td>\n",
       "      <td>https://www.airbnb.com/users/show/40855</td>\n",
       "      <td>Colleen</td>\n",
       "      <td>23/09/09</td>\n",
       "      <td>Potts Point, New South Wales, Australia</td>\n",
       "      <td>Recently retired, I've lived &amp; worked on 4 con...</td>\n",
       "      <td>within a day</td>\n",
       "      <td>67%</td>\n",
       "      <td>t</td>\n",
       "      <td>https://a0.muscache.com/im/users/40855/profile...</td>\n",
       "      <td>https://a0.muscache.com/im/users/40855/profile...</td>\n",
       "      <td>Potts Point</td>\n",
       "      <td>1.0</td>\n",
       "      <td>1.0</td>\n",
       "      <td>['email', 'phone', 'reviews']</td>\n",
       "      <td>t</td>\n",
       "      <td>f</td>\n",
       "      <td>Potts Point, NSW, Australia</td>\n",
       "      <td>Potts Point</td>\n",
       "      <td>Sydney</td>\n",
       "      <td>NaN</td>\n",
       "      <td>Potts Point</td>\n",
       "      <td>NSW</td>\n",
       "      <td>2011</td>\n",
       "      <td>Sydney</td>\n",
       "      <td>Potts Point, Australia</td>\n",
       "      <td>AU</td>\n",
       "      <td>Australia</td>\n",
       "      <td>-33.869168</td>\n",
       "      <td>151.226562</td>\n",
       "      <td>t</td>\n",
       "      <td>Apartment</td>\n",
       "      <td>Private room</td>\n",
       "      <td>1</td>\n",
       "      <td>NaN</td>\n",
       "      <td>1.0</td>\n",
       "      <td>1.0</td>\n",
       "      <td>Real Bed</td>\n",
       "      <td>{TV,Kitchen,Elevator,\"Buzzer/wireless intercom...</td>\n",
       "      <td>NaN</td>\n",
       "      <td>$65.00</td>\n",
       "      <td>NaN</td>\n",
       "      <td>NaN</td>\n",
       "      <td>NaN</td>\n",
       "      <td>NaN</td>\n",
       "      <td>1</td>\n",
       "      <td>$0.00</td>\n",
       "      <td>2</td>\n",
       "      <td>180</td>\n",
       "      <td>4 weeks ago</td>\n",
       "      <td>t</td>\n",
       "      <td>9</td>\n",
       "      <td>39</td>\n",
       "      <td>69</td>\n",
       "      <td>339</td>\n",
       "      <td>177</td>\n",
       "      <td>5/12/09</td>\n",
       "      <td>1/07/18</td>\n",
       "      <td>92.0</td>\n",
       "      <td>9.0</td>\n",
       "      <td>9.0</td>\n",
       "      <td>10.0</td>\n",
       "      <td>10.0</td>\n",
       "      <td>10.0</td>\n",
       "      <td>9.0</td>\n",
       "      <td>f</td>\n",
       "      <td>moderate</td>\n",
       "      <td>f</td>\n",
       "      <td>f</td>\n",
       "      <td>1</td>\n",
       "      <td>1.69</td>\n",
       "    </tr>\n",
       "    <tr>\n",
       "      <th>1</th>\n",
       "      <td>12351</td>\n",
       "      <td>https://www.airbnb.com/rooms/12351</td>\n",
       "      <td>Sydney City &amp; Harbour at the door</td>\n",
       "      <td>Come stay with Vinh &amp; Stuart (Awarded as one o...</td>\n",
       "      <td>We're pretty relaxed hosts, and we fully appre...</td>\n",
       "      <td>Come stay with Vinh &amp; Stuart (Awarded as one o...</td>\n",
       "      <td>Pyrmont is an inner-city village of Sydney, on...</td>\n",
       "      <td>We've a few reasons for the 6.00pm arrival tim...</td>\n",
       "      <td>Our home is centrally located and an easy walk...</td>\n",
       "      <td>We look forward to welcoming you just as we wo...</td>\n",
       "      <td>As much or as little as you like. We live here...</td>\n",
       "      <td>We look forward to welcoming you to stay you j...</td>\n",
       "      <td>https://a0.muscache.com/im/pictures/763ad5c8-c...</td>\n",
       "      <td>17061</td>\n",
       "      <td>https://www.airbnb.com/users/show/17061</td>\n",
       "      <td>Stuart</td>\n",
       "      <td>14/05/09</td>\n",
       "      <td>Sydney, New South Wales, Australia</td>\n",
       "      <td>G'Day from Australia!\\r\\n\\r\\nHe's Vinh, and I'...</td>\n",
       "      <td>within an hour</td>\n",
       "      <td>100%</td>\n",
       "      <td>f</td>\n",
       "      <td>https://a0.muscache.com/im/users/17061/profile...</td>\n",
       "      <td>https://a0.muscache.com/im/users/17061/profile...</td>\n",
       "      <td>Pyrmont</td>\n",
       "      <td>2.0</td>\n",
       "      <td>2.0</td>\n",
       "      <td>['email', 'phone', 'manual_online', 'reviews',...</td>\n",
       "      <td>t</td>\n",
       "      <td>t</td>\n",
       "      <td>Pyrmont, NSW, Australia</td>\n",
       "      <td>Pyrmont</td>\n",
       "      <td>Sydney</td>\n",
       "      <td>NaN</td>\n",
       "      <td>Pyrmont</td>\n",
       "      <td>NSW</td>\n",
       "      <td>2009</td>\n",
       "      <td>Sydney</td>\n",
       "      <td>Pyrmont, Australia</td>\n",
       "      <td>AU</td>\n",
       "      <td>Australia</td>\n",
       "      <td>-33.865153</td>\n",
       "      <td>151.191896</td>\n",
       "      <td>t</td>\n",
       "      <td>Townhouse</td>\n",
       "      <td>Private room</td>\n",
       "      <td>2</td>\n",
       "      <td>1.0</td>\n",
       "      <td>1.0</td>\n",
       "      <td>1.0</td>\n",
       "      <td>Real Bed</td>\n",
       "      <td>{TV,Internet,Wifi,\"Air conditioning\",\"Paid par...</td>\n",
       "      <td>NaN</td>\n",
       "      <td>$98.00</td>\n",
       "      <td>$800.00</td>\n",
       "      <td>NaN</td>\n",
       "      <td>$0.00</td>\n",
       "      <td>$55.00</td>\n",
       "      <td>2</td>\n",
       "      <td>$395.00</td>\n",
       "      <td>2</td>\n",
       "      <td>7</td>\n",
       "      <td>yesterday</td>\n",
       "      <td>t</td>\n",
       "      <td>13</td>\n",
       "      <td>30</td>\n",
       "      <td>45</td>\n",
       "      <td>188</td>\n",
       "      <td>468</td>\n",
       "      <td>24/07/10</td>\n",
       "      <td>27/06/18</td>\n",
       "      <td>95.0</td>\n",
       "      <td>10.0</td>\n",
       "      <td>9.0</td>\n",
       "      <td>10.0</td>\n",
       "      <td>10.0</td>\n",
       "      <td>10.0</td>\n",
       "      <td>10.0</td>\n",
       "      <td>f</td>\n",
       "      <td>strict_14_with_grace_period</td>\n",
       "      <td>t</td>\n",
       "      <td>t</td>\n",
       "      <td>2</td>\n",
       "      <td>4.83</td>\n",
       "    </tr>\n",
       "    <tr>\n",
       "      <th>2</th>\n",
       "      <td>14250</td>\n",
       "      <td>https://www.airbnb.com/rooms/14250</td>\n",
       "      <td>Manly Harbour House</td>\n",
       "      <td>Beautifully renovated, spacious and quiet, our...</td>\n",
       "      <td>Our home is a thirty minute walk along the sea...</td>\n",
       "      <td>Beautifully renovated, spacious and quiet, our...</td>\n",
       "      <td>Balgowlah Heights is one of the most prestigio...</td>\n",
       "      <td>NaN</td>\n",
       "      <td>Balgowlah - Manly bus # 131 or #132  (Bus stop...</td>\n",
       "      <td>Guests have access to whole house except locke...</td>\n",
       "      <td>NaN</td>\n",
       "      <td>Standard Terms and Conditions of Temporary Hol...</td>\n",
       "      <td>https://a0.muscache.com/im/pictures/56935671/f...</td>\n",
       "      <td>55948</td>\n",
       "      <td>https://www.airbnb.com/users/show/55948</td>\n",
       "      <td>Heidi</td>\n",
       "      <td>20/11/09</td>\n",
       "      <td>Sydney, New South Wales, Australia</td>\n",
       "      <td>I am a Canadian who has made Australia her hom...</td>\n",
       "      <td>within a few hours</td>\n",
       "      <td>100%</td>\n",
       "      <td>f</td>\n",
       "      <td>https://a0.muscache.com/im/users/55948/profile...</td>\n",
       "      <td>https://a0.muscache.com/im/users/55948/profile...</td>\n",
       "      <td>Balgowlah</td>\n",
       "      <td>2.0</td>\n",
       "      <td>2.0</td>\n",
       "      <td>['email', 'phone', 'reviews', 'jumio']</td>\n",
       "      <td>t</td>\n",
       "      <td>t</td>\n",
       "      <td>Balgowlah, NSW, Australia</td>\n",
       "      <td>Balgowlah</td>\n",
       "      <td>Manly</td>\n",
       "      <td>NaN</td>\n",
       "      <td>Balgowlah</td>\n",
       "      <td>NSW</td>\n",
       "      <td>2093</td>\n",
       "      <td>Sydney</td>\n",
       "      <td>Balgowlah, Australia</td>\n",
       "      <td>AU</td>\n",
       "      <td>Australia</td>\n",
       "      <td>-33.800929</td>\n",
       "      <td>151.261722</td>\n",
       "      <td>t</td>\n",
       "      <td>House</td>\n",
       "      <td>Entire home/apt</td>\n",
       "      <td>6</td>\n",
       "      <td>3.0</td>\n",
       "      <td>3.0</td>\n",
       "      <td>3.0</td>\n",
       "      <td>Real Bed</td>\n",
       "      <td>{TV,Wifi,\"Air conditioning\",Kitchen,\"Pets live...</td>\n",
       "      <td>NaN</td>\n",
       "      <td>$469.00</td>\n",
       "      <td>$3,000.00</td>\n",
       "      <td>NaN</td>\n",
       "      <td>$900.00</td>\n",
       "      <td>$100.00</td>\n",
       "      <td>6</td>\n",
       "      <td>$40.00</td>\n",
       "      <td>5</td>\n",
       "      <td>22</td>\n",
       "      <td>4 months ago</td>\n",
       "      <td>t</td>\n",
       "      <td>0</td>\n",
       "      <td>0</td>\n",
       "      <td>0</td>\n",
       "      <td>168</td>\n",
       "      <td>1</td>\n",
       "      <td>2/01/16</td>\n",
       "      <td>2/01/16</td>\n",
       "      <td>100.0</td>\n",
       "      <td>10.0</td>\n",
       "      <td>10.0</td>\n",
       "      <td>10.0</td>\n",
       "      <td>8.0</td>\n",
       "      <td>10.0</td>\n",
       "      <td>10.0</td>\n",
       "      <td>f</td>\n",
       "      <td>strict_14_with_grace_period</td>\n",
       "      <td>f</td>\n",
       "      <td>f</td>\n",
       "      <td>2</td>\n",
       "      <td>0.03</td>\n",
       "    </tr>\n",
       "    <tr>\n",
       "      <th>3</th>\n",
       "      <td>14935</td>\n",
       "      <td>https://www.airbnb.com/rooms/14935</td>\n",
       "      <td>Eco-conscious Travellers: Private Room</td>\n",
       "      <td>Welcome! This apartment will suit a short term...</td>\n",
       "      <td>I live upstairs in my own room with my own bat...</td>\n",
       "      <td>Welcome! This apartment will suit a short term...</td>\n",
       "      <td>NaN</td>\n",
       "      <td>The building can be hard to find, so please en...</td>\n",
       "      <td>DIRECTIONS VIA TAXI: Get dropped off at Renwic...</td>\n",
       "      <td>I work from home most times - so if I'm home, ...</td>\n",
       "      <td>I'm not a big chatter, so don't get offended i...</td>\n",
       "      <td>1. Enjoy and always bring a smile during your ...</td>\n",
       "      <td>https://a0.muscache.com/im/pictures/2257353/d3...</td>\n",
       "      <td>58796</td>\n",
       "      <td>https://www.airbnb.com/users/show/58796</td>\n",
       "      <td>Kevin</td>\n",
       "      <td>30/11/09</td>\n",
       "      <td>Sydney, New South Wales, Australia</td>\n",
       "      <td>I've moved countries twice in the span of 10 y...</td>\n",
       "      <td>within an hour</td>\n",
       "      <td>100%</td>\n",
       "      <td>f</td>\n",
       "      <td>https://a0.muscache.com/im/users/58796/profile...</td>\n",
       "      <td>https://a0.muscache.com/im/users/58796/profile...</td>\n",
       "      <td>Redfern</td>\n",
       "      <td>2.0</td>\n",
       "      <td>2.0</td>\n",
       "      <td>['email', 'phone', 'facebook', 'reviews', 'jum...</td>\n",
       "      <td>t</td>\n",
       "      <td>t</td>\n",
       "      <td>Redfern, NSW, Australia</td>\n",
       "      <td>Redfern</td>\n",
       "      <td>Sydney</td>\n",
       "      <td>NaN</td>\n",
       "      <td>Redfern</td>\n",
       "      <td>NSW</td>\n",
       "      <td>2016</td>\n",
       "      <td>Sydney</td>\n",
       "      <td>Redfern, Australia</td>\n",
       "      <td>AU</td>\n",
       "      <td>Australia</td>\n",
       "      <td>-33.890765</td>\n",
       "      <td>151.200450</td>\n",
       "      <td>t</td>\n",
       "      <td>Apartment</td>\n",
       "      <td>Private room</td>\n",
       "      <td>2</td>\n",
       "      <td>1.0</td>\n",
       "      <td>1.0</td>\n",
       "      <td>1.0</td>\n",
       "      <td>Real Bed</td>\n",
       "      <td>{Internet,Wifi,\"Wheelchair accessible\",Pool,Ki...</td>\n",
       "      <td>NaN</td>\n",
       "      <td>$63.00</td>\n",
       "      <td>NaN</td>\n",
       "      <td>NaN</td>\n",
       "      <td>NaN</td>\n",
       "      <td>NaN</td>\n",
       "      <td>1</td>\n",
       "      <td>$40.00</td>\n",
       "      <td>2</td>\n",
       "      <td>1125</td>\n",
       "      <td>today</td>\n",
       "      <td>t</td>\n",
       "      <td>13</td>\n",
       "      <td>31</td>\n",
       "      <td>31</td>\n",
       "      <td>215</td>\n",
       "      <td>172</td>\n",
       "      <td>28/11/11</td>\n",
       "      <td>26/06/18</td>\n",
       "      <td>89.0</td>\n",
       "      <td>9.0</td>\n",
       "      <td>8.0</td>\n",
       "      <td>9.0</td>\n",
       "      <td>10.0</td>\n",
       "      <td>9.0</td>\n",
       "      <td>9.0</td>\n",
       "      <td>f</td>\n",
       "      <td>moderate</td>\n",
       "      <td>f</td>\n",
       "      <td>f</td>\n",
       "      <td>2</td>\n",
       "      <td>2.14</td>\n",
       "    </tr>\n",
       "    <tr>\n",
       "      <th>4</th>\n",
       "      <td>14974</td>\n",
       "      <td>https://www.airbnb.com/rooms/14974</td>\n",
       "      <td>Eco-conscious Traveller: Sofa Couch</td>\n",
       "      <td>Welcome! This apartment will suit a short term...</td>\n",
       "      <td>Comes with a fully equipped gym and pool - whi...</td>\n",
       "      <td>Welcome! This apartment will suit a short term...</td>\n",
       "      <td>NaN</td>\n",
       "      <td>I live upstairs in my own room with my own bat...</td>\n",
       "      <td>DIRECTIONS VIA TAXI: Get dropped off at Renwic...</td>\n",
       "      <td>I work from home most times - so if I'm home, ...</td>\n",
       "      <td>I'm not a big chatter, so don't get offended i...</td>\n",
       "      <td>1. Enjoy and always bring a smile during your ...</td>\n",
       "      <td>https://a0.muscache.com/im/pictures/2197966/6e...</td>\n",
       "      <td>58796</td>\n",
       "      <td>https://www.airbnb.com/users/show/58796</td>\n",
       "      <td>Kevin</td>\n",
       "      <td>30/11/09</td>\n",
       "      <td>Sydney, New South Wales, Australia</td>\n",
       "      <td>I've moved countries twice in the span of 10 y...</td>\n",
       "      <td>within an hour</td>\n",
       "      <td>100%</td>\n",
       "      <td>f</td>\n",
       "      <td>https://a0.muscache.com/im/users/58796/profile...</td>\n",
       "      <td>https://a0.muscache.com/im/users/58796/profile...</td>\n",
       "      <td>Redfern</td>\n",
       "      <td>2.0</td>\n",
       "      <td>2.0</td>\n",
       "      <td>['email', 'phone', 'facebook', 'reviews', 'jum...</td>\n",
       "      <td>t</td>\n",
       "      <td>t</td>\n",
       "      <td>Redfern, NSW, Australia</td>\n",
       "      <td>Redfern</td>\n",
       "      <td>Sydney</td>\n",
       "      <td>NaN</td>\n",
       "      <td>Redfern</td>\n",
       "      <td>NSW</td>\n",
       "      <td>2016</td>\n",
       "      <td>Sydney</td>\n",
       "      <td>Redfern, Australia</td>\n",
       "      <td>AU</td>\n",
       "      <td>Australia</td>\n",
       "      <td>-33.889667</td>\n",
       "      <td>151.200896</td>\n",
       "      <td>t</td>\n",
       "      <td>Apartment</td>\n",
       "      <td>Shared room</td>\n",
       "      <td>1</td>\n",
       "      <td>2.0</td>\n",
       "      <td>1.0</td>\n",
       "      <td>1.0</td>\n",
       "      <td>Pull-out Sofa</td>\n",
       "      <td>{Internet,Wifi,Pool,Kitchen,Gym,Elevator,\"Buzz...</td>\n",
       "      <td>0.0</td>\n",
       "      <td>$39.00</td>\n",
       "      <td>NaN</td>\n",
       "      <td>NaN</td>\n",
       "      <td>NaN</td>\n",
       "      <td>NaN</td>\n",
       "      <td>1</td>\n",
       "      <td>$0.00</td>\n",
       "      <td>2</td>\n",
       "      <td>1125</td>\n",
       "      <td>4 days ago</td>\n",
       "      <td>t</td>\n",
       "      <td>24</td>\n",
       "      <td>50</td>\n",
       "      <td>50</td>\n",
       "      <td>287</td>\n",
       "      <td>147</td>\n",
       "      <td>23/09/11</td>\n",
       "      <td>2/07/18</td>\n",
       "      <td>90.0</td>\n",
       "      <td>9.0</td>\n",
       "      <td>8.0</td>\n",
       "      <td>9.0</td>\n",
       "      <td>9.0</td>\n",
       "      <td>9.0</td>\n",
       "      <td>9.0</td>\n",
       "      <td>f</td>\n",
       "      <td>moderate</td>\n",
       "      <td>f</td>\n",
       "      <td>f</td>\n",
       "      <td>2</td>\n",
       "      <td>1.78</td>\n",
       "    </tr>\n",
       "  </tbody>\n",
       "</table>\n",
       "</div>"
      ],
      "text/plain": [
       "      id                         listing_url  \\\n",
       "0  11156  https://www.airbnb.com/rooms/11156   \n",
       "1  12351  https://www.airbnb.com/rooms/12351   \n",
       "2  14250  https://www.airbnb.com/rooms/14250   \n",
       "3  14935  https://www.airbnb.com/rooms/14935   \n",
       "4  14974  https://www.airbnb.com/rooms/14974   \n",
       "\n",
       "                                     name  \\\n",
       "0                    An Oasis in the City   \n",
       "1       Sydney City & Harbour at the door   \n",
       "2                     Manly Harbour House   \n",
       "3  Eco-conscious Travellers: Private Room   \n",
       "4     Eco-conscious Traveller: Sofa Couch   \n",
       "\n",
       "                                             summary  \\\n",
       "0  Very central to the city which can be reached ...   \n",
       "1  Come stay with Vinh & Stuart (Awarded as one o...   \n",
       "2  Beautifully renovated, spacious and quiet, our...   \n",
       "3  Welcome! This apartment will suit a short term...   \n",
       "4  Welcome! This apartment will suit a short term...   \n",
       "\n",
       "                                               space  \\\n",
       "0  Potts Pt. is a vibrant  and popular inner-city...   \n",
       "1  We're pretty relaxed hosts, and we fully appre...   \n",
       "2  Our home is a thirty minute walk along the sea...   \n",
       "3  I live upstairs in my own room with my own bat...   \n",
       "4  Comes with a fully equipped gym and pool - whi...   \n",
       "\n",
       "                                         description  \\\n",
       "0  Very central to the city which can be reached ...   \n",
       "1  Come stay with Vinh & Stuart (Awarded as one o...   \n",
       "2  Beautifully renovated, spacious and quiet, our...   \n",
       "3  Welcome! This apartment will suit a short term...   \n",
       "4  Welcome! This apartment will suit a short term...   \n",
       "\n",
       "                               neighborhood_overview  \\\n",
       "0  It is very close to everything and everywhere,...   \n",
       "1  Pyrmont is an inner-city village of Sydney, on...   \n",
       "2  Balgowlah Heights is one of the most prestigio...   \n",
       "3                                                NaN   \n",
       "4                                                NaN   \n",
       "\n",
       "                                               notes  \\\n",
       "0  $150.00 key security deposit, refundable on re...   \n",
       "1  We've a few reasons for the 6.00pm arrival tim...   \n",
       "2                                                NaN   \n",
       "3  The building can be hard to find, so please en...   \n",
       "4  I live upstairs in my own room with my own bat...   \n",
       "\n",
       "                                             transit  \\\n",
       "0  It is 7 minutes walk to the Kings Cross.train ...   \n",
       "1  Our home is centrally located and an easy walk...   \n",
       "2  Balgowlah - Manly bus # 131 or #132  (Bus stop...   \n",
       "3  DIRECTIONS VIA TAXI: Get dropped off at Renwic...   \n",
       "4  DIRECTIONS VIA TAXI: Get dropped off at Renwic...   \n",
       "\n",
       "                                              access  \\\n",
       "0   Kitchen & laundry facilities.   Shared bathroom.   \n",
       "1  We look forward to welcoming you just as we wo...   \n",
       "2  Guests have access to whole house except locke...   \n",
       "3  I work from home most times - so if I'm home, ...   \n",
       "4  I work from home most times - so if I'm home, ...   \n",
       "\n",
       "                                         interaction  \\\n",
       "0                              As much as they want.   \n",
       "1  As much or as little as you like. We live here...   \n",
       "2                                                NaN   \n",
       "3  I'm not a big chatter, so don't get offended i...   \n",
       "4  I'm not a big chatter, so don't get offended i...   \n",
       "\n",
       "                                         house_rules  \\\n",
       "0        Be considerate.   No showering after 2330h.   \n",
       "1  We look forward to welcoming you to stay you j...   \n",
       "2  Standard Terms and Conditions of Temporary Hol...   \n",
       "3  1. Enjoy and always bring a smile during your ...   \n",
       "4  1. Enjoy and always bring a smile during your ...   \n",
       "\n",
       "                                         picture_url  host_id  \\\n",
       "0  https://a0.muscache.com/im/pictures/2797669/17...    40855   \n",
       "1  https://a0.muscache.com/im/pictures/763ad5c8-c...    17061   \n",
       "2  https://a0.muscache.com/im/pictures/56935671/f...    55948   \n",
       "3  https://a0.muscache.com/im/pictures/2257353/d3...    58796   \n",
       "4  https://a0.muscache.com/im/pictures/2197966/6e...    58796   \n",
       "\n",
       "                                  host_url host_name host_since  \\\n",
       "0  https://www.airbnb.com/users/show/40855   Colleen   23/09/09   \n",
       "1  https://www.airbnb.com/users/show/17061    Stuart   14/05/09   \n",
       "2  https://www.airbnb.com/users/show/55948     Heidi   20/11/09   \n",
       "3  https://www.airbnb.com/users/show/58796     Kevin   30/11/09   \n",
       "4  https://www.airbnb.com/users/show/58796     Kevin   30/11/09   \n",
       "\n",
       "                             host_location  \\\n",
       "0  Potts Point, New South Wales, Australia   \n",
       "1       Sydney, New South Wales, Australia   \n",
       "2       Sydney, New South Wales, Australia   \n",
       "3       Sydney, New South Wales, Australia   \n",
       "4       Sydney, New South Wales, Australia   \n",
       "\n",
       "                                          host_about  host_response_time  \\\n",
       "0  Recently retired, I've lived & worked on 4 con...        within a day   \n",
       "1  G'Day from Australia!\\r\\n\\r\\nHe's Vinh, and I'...      within an hour   \n",
       "2  I am a Canadian who has made Australia her hom...  within a few hours   \n",
       "3  I've moved countries twice in the span of 10 y...      within an hour   \n",
       "4  I've moved countries twice in the span of 10 y...      within an hour   \n",
       "\n",
       "  host_response_rate host_is_superhost  \\\n",
       "0                67%                 t   \n",
       "1               100%                 f   \n",
       "2               100%                 f   \n",
       "3               100%                 f   \n",
       "4               100%                 f   \n",
       "\n",
       "                                  host_thumbnail_url  \\\n",
       "0  https://a0.muscache.com/im/users/40855/profile...   \n",
       "1  https://a0.muscache.com/im/users/17061/profile...   \n",
       "2  https://a0.muscache.com/im/users/55948/profile...   \n",
       "3  https://a0.muscache.com/im/users/58796/profile...   \n",
       "4  https://a0.muscache.com/im/users/58796/profile...   \n",
       "\n",
       "                                    host_picture_url host_neighbourhood  \\\n",
       "0  https://a0.muscache.com/im/users/40855/profile...        Potts Point   \n",
       "1  https://a0.muscache.com/im/users/17061/profile...            Pyrmont   \n",
       "2  https://a0.muscache.com/im/users/55948/profile...          Balgowlah   \n",
       "3  https://a0.muscache.com/im/users/58796/profile...            Redfern   \n",
       "4  https://a0.muscache.com/im/users/58796/profile...            Redfern   \n",
       "\n",
       "   host_listings_count  host_total_listings_count  \\\n",
       "0                  1.0                        1.0   \n",
       "1                  2.0                        2.0   \n",
       "2                  2.0                        2.0   \n",
       "3                  2.0                        2.0   \n",
       "4                  2.0                        2.0   \n",
       "\n",
       "                                  host_verifications host_has_profile_pic  \\\n",
       "0                      ['email', 'phone', 'reviews']                    t   \n",
       "1  ['email', 'phone', 'manual_online', 'reviews',...                    t   \n",
       "2             ['email', 'phone', 'reviews', 'jumio']                    t   \n",
       "3  ['email', 'phone', 'facebook', 'reviews', 'jum...                    t   \n",
       "4  ['email', 'phone', 'facebook', 'reviews', 'jum...                    t   \n",
       "\n",
       "  host_identity_verified                       street neighbourhood  \\\n",
       "0                      f  Potts Point, NSW, Australia   Potts Point   \n",
       "1                      t      Pyrmont, NSW, Australia       Pyrmont   \n",
       "2                      t    Balgowlah, NSW, Australia     Balgowlah   \n",
       "3                      t      Redfern, NSW, Australia       Redfern   \n",
       "4                      t      Redfern, NSW, Australia       Redfern   \n",
       "\n",
       "  neighbourhood_cleansed  neighbourhood_group_cleansed         city state  \\\n",
       "0                 Sydney                           NaN  Potts Point   NSW   \n",
       "1                 Sydney                           NaN      Pyrmont   NSW   \n",
       "2                  Manly                           NaN    Balgowlah   NSW   \n",
       "3                 Sydney                           NaN      Redfern   NSW   \n",
       "4                 Sydney                           NaN      Redfern   NSW   \n",
       "\n",
       "  zipcode  market          smart_location country_code    country   latitude  \\\n",
       "0    2011  Sydney  Potts Point, Australia           AU  Australia -33.869168   \n",
       "1    2009  Sydney      Pyrmont, Australia           AU  Australia -33.865153   \n",
       "2    2093  Sydney    Balgowlah, Australia           AU  Australia -33.800929   \n",
       "3    2016  Sydney      Redfern, Australia           AU  Australia -33.890765   \n",
       "4    2016  Sydney      Redfern, Australia           AU  Australia -33.889667   \n",
       "\n",
       "    longitude is_location_exact property_type        room_type  accommodates  \\\n",
       "0  151.226562                 t     Apartment     Private room             1   \n",
       "1  151.191896                 t     Townhouse     Private room             2   \n",
       "2  151.261722                 t         House  Entire home/apt             6   \n",
       "3  151.200450                 t     Apartment     Private room             2   \n",
       "4  151.200896                 t     Apartment      Shared room             1   \n",
       "\n",
       "   bathrooms  bedrooms  beds       bed_type  \\\n",
       "0        NaN       1.0   1.0       Real Bed   \n",
       "1        1.0       1.0   1.0       Real Bed   \n",
       "2        3.0       3.0   3.0       Real Bed   \n",
       "3        1.0       1.0   1.0       Real Bed   \n",
       "4        2.0       1.0   1.0  Pull-out Sofa   \n",
       "\n",
       "                                           amenities  square_feet     price  \\\n",
       "0  {TV,Kitchen,Elevator,\"Buzzer/wireless intercom...          NaN   $65.00    \n",
       "1  {TV,Internet,Wifi,\"Air conditioning\",\"Paid par...          NaN   $98.00    \n",
       "2  {TV,Wifi,\"Air conditioning\",Kitchen,\"Pets live...          NaN  $469.00    \n",
       "3  {Internet,Wifi,\"Wheelchair accessible\",Pool,Ki...          NaN   $63.00    \n",
       "4  {Internet,Wifi,Pool,Kitchen,Gym,Elevator,\"Buzz...          0.0   $39.00    \n",
       "\n",
       "  weekly_price monthly_price security_deposit cleaning_fee  guests_included  \\\n",
       "0          NaN           NaN              NaN          NaN                1   \n",
       "1     $800.00            NaN           $0.00       $55.00                 2   \n",
       "2   $3,000.00            NaN         $900.00      $100.00                 6   \n",
       "3          NaN           NaN              NaN          NaN                1   \n",
       "4          NaN           NaN              NaN          NaN                1   \n",
       "\n",
       "  extra_people  minimum_nights  maximum_nights calendar_updated  \\\n",
       "0       $0.00                2             180      4 weeks ago   \n",
       "1     $395.00                2               7        yesterday   \n",
       "2      $40.00                5              22     4 months ago   \n",
       "3      $40.00                2            1125            today   \n",
       "4       $0.00                2            1125       4 days ago   \n",
       "\n",
       "  has_availability  availability_30  availability_60  availability_90  \\\n",
       "0                t                9               39               69   \n",
       "1                t               13               30               45   \n",
       "2                t                0                0                0   \n",
       "3                t               13               31               31   \n",
       "4                t               24               50               50   \n",
       "\n",
       "   availability_365  number_of_reviews first_review last_review  \\\n",
       "0               339                177      5/12/09     1/07/18   \n",
       "1               188                468     24/07/10    27/06/18   \n",
       "2               168                  1      2/01/16     2/01/16   \n",
       "3               215                172     28/11/11    26/06/18   \n",
       "4               287                147     23/09/11     2/07/18   \n",
       "\n",
       "   review_scores_rating  review_scores_accuracy  review_scores_cleanliness  \\\n",
       "0                  92.0                     9.0                        9.0   \n",
       "1                  95.0                    10.0                        9.0   \n",
       "2                 100.0                    10.0                       10.0   \n",
       "3                  89.0                     9.0                        8.0   \n",
       "4                  90.0                     9.0                        8.0   \n",
       "\n",
       "   review_scores_checkin  review_scores_communication  review_scores_location  \\\n",
       "0                   10.0                         10.0                    10.0   \n",
       "1                   10.0                         10.0                    10.0   \n",
       "2                   10.0                          8.0                    10.0   \n",
       "3                    9.0                         10.0                     9.0   \n",
       "4                    9.0                          9.0                     9.0   \n",
       "\n",
       "   review_scores_value instant_bookable          cancellation_policy  \\\n",
       "0                  9.0                f                     moderate   \n",
       "1                 10.0                f  strict_14_with_grace_period   \n",
       "2                 10.0                f  strict_14_with_grace_period   \n",
       "3                  9.0                f                     moderate   \n",
       "4                  9.0                f                     moderate   \n",
       "\n",
       "  require_guest_profile_picture require_guest_phone_verification  \\\n",
       "0                             f                                f   \n",
       "1                             t                                t   \n",
       "2                             f                                f   \n",
       "3                             f                                f   \n",
       "4                             f                                f   \n",
       "\n",
       "   calculated_host_listings_count  reviews_per_month  \n",
       "0                               1               1.69  \n",
       "1                               2               4.83  \n",
       "2                               2               0.03  \n",
       "3                               2               2.14  \n",
       "4                               2               1.78  "
      ]
     },
     "execution_count": 4,
     "metadata": {},
     "output_type": "execute_result"
    }
   ],
   "source": [
    "df.head()"
   ]
  },
  {
   "cell_type": "code",
   "execution_count": 5,
   "metadata": {
    "colab": {},
    "colab_type": "code",
    "id": "Y8GZ8Mv4w5Fy"
   },
   "outputs": [],
   "source": [
    "### We select only a small number of features as the others we can discard for this study"
   ]
  },
  {
   "cell_type": "code",
   "execution_count": 6,
   "metadata": {
    "colab": {},
    "colab_type": "code",
    "id": "nzXpxiqDw5F7"
   },
   "outputs": [],
   "source": [
    "incl = [\"price\",\"city\",\"longitude\",\"latitude\",\"review_scores_rating\",\"number_of_reviews\",\"minimum_nights\",\"security_deposit\",\"cleaning_fee\",\n",
    "        \"accommodates\",\"bathrooms\",\"bedrooms\",\"beds\",\"property_type\",\"room_type\",\"availability_365\" ,\"host_identity_verified\", \n",
    "        \"host_is_superhost\",\"host_since\",\"cancellation_policy\"] \n",
    "\n",
    "df = df[incl]"
   ]
  },
  {
   "cell_type": "code",
   "execution_count": 7,
   "metadata": {
    "colab": {
     "base_uri": "https://localhost:8080/",
     "height": 309
    },
    "colab_type": "code",
    "executionInfo": {
     "elapsed": 611,
     "status": "ok",
     "timestamp": 1573949540123,
     "user": {
      "displayName": "Rajeev Ratan",
      "photoUrl": "https://lh3.googleusercontent.com/a-/AAuE7mCGo6aIm0tOcd5EhqWlYb0rime9sBvHS9YMpx0D2w=s64",
      "userId": "08597265227091462140"
     },
     "user_tz": 0
    },
    "id": "1kfoO1K-XghF",
    "outputId": "08c420d9-e95f-472a-9dd0-2bb64b8cf239"
   },
   "outputs": [
    {
     "data": {
      "text/html": [
       "<div>\n",
       "<style scoped>\n",
       "    .dataframe tbody tr th:only-of-type {\n",
       "        vertical-align: middle;\n",
       "    }\n",
       "\n",
       "    .dataframe tbody tr th {\n",
       "        vertical-align: top;\n",
       "    }\n",
       "\n",
       "    .dataframe thead th {\n",
       "        text-align: right;\n",
       "    }\n",
       "</style>\n",
       "<table border=\"1\" class=\"dataframe\">\n",
       "  <thead>\n",
       "    <tr style=\"text-align: right;\">\n",
       "      <th></th>\n",
       "      <th>price</th>\n",
       "      <th>city</th>\n",
       "      <th>longitude</th>\n",
       "      <th>latitude</th>\n",
       "      <th>review_scores_rating</th>\n",
       "      <th>number_of_reviews</th>\n",
       "      <th>minimum_nights</th>\n",
       "      <th>security_deposit</th>\n",
       "      <th>cleaning_fee</th>\n",
       "      <th>accommodates</th>\n",
       "      <th>bathrooms</th>\n",
       "      <th>bedrooms</th>\n",
       "      <th>beds</th>\n",
       "      <th>property_type</th>\n",
       "      <th>room_type</th>\n",
       "      <th>availability_365</th>\n",
       "      <th>host_identity_verified</th>\n",
       "      <th>host_is_superhost</th>\n",
       "      <th>host_since</th>\n",
       "      <th>cancellation_policy</th>\n",
       "    </tr>\n",
       "  </thead>\n",
       "  <tbody>\n",
       "    <tr>\n",
       "      <th>0</th>\n",
       "      <td>$65.00</td>\n",
       "      <td>Potts Point</td>\n",
       "      <td>151.226562</td>\n",
       "      <td>-33.869168</td>\n",
       "      <td>92.0</td>\n",
       "      <td>177</td>\n",
       "      <td>2</td>\n",
       "      <td>NaN</td>\n",
       "      <td>NaN</td>\n",
       "      <td>1</td>\n",
       "      <td>NaN</td>\n",
       "      <td>1.0</td>\n",
       "      <td>1.0</td>\n",
       "      <td>Apartment</td>\n",
       "      <td>Private room</td>\n",
       "      <td>339</td>\n",
       "      <td>f</td>\n",
       "      <td>t</td>\n",
       "      <td>23/09/09</td>\n",
       "      <td>moderate</td>\n",
       "    </tr>\n",
       "    <tr>\n",
       "      <th>1</th>\n",
       "      <td>$98.00</td>\n",
       "      <td>Pyrmont</td>\n",
       "      <td>151.191896</td>\n",
       "      <td>-33.865153</td>\n",
       "      <td>95.0</td>\n",
       "      <td>468</td>\n",
       "      <td>2</td>\n",
       "      <td>$0.00</td>\n",
       "      <td>$55.00</td>\n",
       "      <td>2</td>\n",
       "      <td>1.0</td>\n",
       "      <td>1.0</td>\n",
       "      <td>1.0</td>\n",
       "      <td>Townhouse</td>\n",
       "      <td>Private room</td>\n",
       "      <td>188</td>\n",
       "      <td>t</td>\n",
       "      <td>f</td>\n",
       "      <td>14/05/09</td>\n",
       "      <td>strict_14_with_grace_period</td>\n",
       "    </tr>\n",
       "    <tr>\n",
       "      <th>2</th>\n",
       "      <td>$469.00</td>\n",
       "      <td>Balgowlah</td>\n",
       "      <td>151.261722</td>\n",
       "      <td>-33.800929</td>\n",
       "      <td>100.0</td>\n",
       "      <td>1</td>\n",
       "      <td>5</td>\n",
       "      <td>$900.00</td>\n",
       "      <td>$100.00</td>\n",
       "      <td>6</td>\n",
       "      <td>3.0</td>\n",
       "      <td>3.0</td>\n",
       "      <td>3.0</td>\n",
       "      <td>House</td>\n",
       "      <td>Entire home/apt</td>\n",
       "      <td>168</td>\n",
       "      <td>t</td>\n",
       "      <td>f</td>\n",
       "      <td>20/11/09</td>\n",
       "      <td>strict_14_with_grace_period</td>\n",
       "    </tr>\n",
       "    <tr>\n",
       "      <th>3</th>\n",
       "      <td>$63.00</td>\n",
       "      <td>Redfern</td>\n",
       "      <td>151.200450</td>\n",
       "      <td>-33.890765</td>\n",
       "      <td>89.0</td>\n",
       "      <td>172</td>\n",
       "      <td>2</td>\n",
       "      <td>NaN</td>\n",
       "      <td>NaN</td>\n",
       "      <td>2</td>\n",
       "      <td>1.0</td>\n",
       "      <td>1.0</td>\n",
       "      <td>1.0</td>\n",
       "      <td>Apartment</td>\n",
       "      <td>Private room</td>\n",
       "      <td>215</td>\n",
       "      <td>t</td>\n",
       "      <td>f</td>\n",
       "      <td>30/11/09</td>\n",
       "      <td>moderate</td>\n",
       "    </tr>\n",
       "    <tr>\n",
       "      <th>4</th>\n",
       "      <td>$39.00</td>\n",
       "      <td>Redfern</td>\n",
       "      <td>151.200896</td>\n",
       "      <td>-33.889667</td>\n",
       "      <td>90.0</td>\n",
       "      <td>147</td>\n",
       "      <td>2</td>\n",
       "      <td>NaN</td>\n",
       "      <td>NaN</td>\n",
       "      <td>1</td>\n",
       "      <td>2.0</td>\n",
       "      <td>1.0</td>\n",
       "      <td>1.0</td>\n",
       "      <td>Apartment</td>\n",
       "      <td>Shared room</td>\n",
       "      <td>287</td>\n",
       "      <td>t</td>\n",
       "      <td>f</td>\n",
       "      <td>30/11/09</td>\n",
       "      <td>moderate</td>\n",
       "    </tr>\n",
       "  </tbody>\n",
       "</table>\n",
       "</div>"
      ],
      "text/plain": [
       "      price         city   longitude   latitude  review_scores_rating  \\\n",
       "0   $65.00   Potts Point  151.226562 -33.869168                  92.0   \n",
       "1   $98.00       Pyrmont  151.191896 -33.865153                  95.0   \n",
       "2  $469.00     Balgowlah  151.261722 -33.800929                 100.0   \n",
       "3   $63.00       Redfern  151.200450 -33.890765                  89.0   \n",
       "4   $39.00       Redfern  151.200896 -33.889667                  90.0   \n",
       "\n",
       "   number_of_reviews  minimum_nights security_deposit cleaning_fee  \\\n",
       "0                177               2              NaN          NaN   \n",
       "1                468               2           $0.00       $55.00    \n",
       "2                  1               5         $900.00      $100.00    \n",
       "3                172               2              NaN          NaN   \n",
       "4                147               2              NaN          NaN   \n",
       "\n",
       "   accommodates  bathrooms  bedrooms  beds property_type        room_type  \\\n",
       "0             1        NaN       1.0   1.0     Apartment     Private room   \n",
       "1             2        1.0       1.0   1.0     Townhouse     Private room   \n",
       "2             6        3.0       3.0   3.0         House  Entire home/apt   \n",
       "3             2        1.0       1.0   1.0     Apartment     Private room   \n",
       "4             1        2.0       1.0   1.0     Apartment      Shared room   \n",
       "\n",
       "   availability_365 host_identity_verified host_is_superhost host_since  \\\n",
       "0               339                      f                 t   23/09/09   \n",
       "1               188                      t                 f   14/05/09   \n",
       "2               168                      t                 f   20/11/09   \n",
       "3               215                      t                 f   30/11/09   \n",
       "4               287                      t                 f   30/11/09   \n",
       "\n",
       "           cancellation_policy  \n",
       "0                     moderate  \n",
       "1  strict_14_with_grace_period  \n",
       "2  strict_14_with_grace_period  \n",
       "3                     moderate  \n",
       "4                     moderate  "
      ]
     },
     "execution_count": 7,
     "metadata": {},
     "output_type": "execute_result"
    }
   ],
   "source": [
    "df.head()"
   ]
  },
  {
   "cell_type": "code",
   "execution_count": 8,
   "metadata": {
    "colab": {
     "base_uri": "https://localhost:8080/",
     "height": 35
    },
    "colab_type": "code",
    "executionInfo": {
     "elapsed": 501,
     "status": "ok",
     "timestamp": 1573949542840,
     "user": {
      "displayName": "Rajeev Ratan",
      "photoUrl": "https://lh3.googleusercontent.com/a-/AAuE7mCGo6aIm0tOcd5EhqWlYb0rime9sBvHS9YMpx0D2w=s64",
      "userId": "08597265227091462140"
     },
     "user_tz": 0
    },
    "id": "bOyTJvQJtAO0",
    "outputId": "7da3d0f5-1714-4c80-9758-f1cd55a0e967"
   },
   "outputs": [
    {
     "data": {
      "text/plain": [
       "(27070, 20)"
      ]
     },
     "execution_count": 8,
     "metadata": {},
     "output_type": "execute_result"
    }
   ],
   "source": [
    "df.shape"
   ]
  },
  {
   "cell_type": "markdown",
   "metadata": {
    "colab_type": "text",
    "id": "5MFo1B34w5GN"
   },
   "source": [
    "The price field currently has the \"$\" in it and is a string. So lets remove it and convert it to a float datatype.\n",
    "\n",
    "Also lets conver the 'host_since' field to a date time format. "
   ]
  },
  {
   "cell_type": "code",
   "execution_count": 9,
   "metadata": {
    "colab": {},
    "colab_type": "code",
    "id": "9KajhaZew5GO"
   },
   "outputs": [],
   "source": [
    "\n",
    "# The price fields in our data frame\n",
    "price_list = [\"price\",\"cleaning_fee\",\"security_deposit\"]\n",
    "\n",
    "# We change any blanks to 0 and use our regex function to remove anything that isn't a number (or negative number which is changed to 0)\n",
    "for col in price_list:\n",
    "    df[col] = df[col].fillna(\"0\")\n",
    "    df[col] = df[col].apply(lambda x: float(re.compile('[^0-9eE.]').sub('', x)) if len(x)>0 else 0)\n",
    "\n",
    "df['host_since'] = pd.to_datetime(df['host_since'])"
   ]
  },
  {
   "cell_type": "code",
   "execution_count": 10,
   "metadata": {
    "colab": {
     "base_uri": "https://localhost:8080/",
     "height": 121
    },
    "colab_type": "code",
    "executionInfo": {
     "elapsed": 423,
     "status": "ok",
     "timestamp": 1573949588388,
     "user": {
      "displayName": "Rajeev Ratan",
      "photoUrl": "https://lh3.googleusercontent.com/a-/AAuE7mCGo6aIm0tOcd5EhqWlYb0rime9sBvHS9YMpx0D2w=s64",
      "userId": "08597265227091462140"
     },
     "user_tz": 0
    },
    "id": "EDYefLGIw5Gc",
    "outputId": "52edb749-1937-4d91-e672-4b61a9fcf1e5"
   },
   "outputs": [
    {
     "data": {
      "text/plain": [
       "0     65.0\n",
       "1     98.0\n",
       "2    469.0\n",
       "3     63.0\n",
       "4     39.0\n",
       "Name: price, dtype: float64"
      ]
     },
     "execution_count": 10,
     "metadata": {},
     "output_type": "execute_result"
    }
   ],
   "source": [
    "# Let's see if it worked\n",
    "df[\"price\"].head()"
   ]
  },
  {
   "cell_type": "code",
   "execution_count": 11,
   "metadata": {
    "colab": {
     "base_uri": "https://localhost:8080/",
     "height": 451
    },
    "colab_type": "code",
    "executionInfo": {
     "elapsed": 453,
     "status": "ok",
     "timestamp": 1573949591922,
     "user": {
      "displayName": "Rajeev Ratan",
      "photoUrl": "https://lh3.googleusercontent.com/a-/AAuE7mCGo6aIm0tOcd5EhqWlYb0rime9sBvHS9YMpx0D2w=s64",
      "userId": "08597265227091462140"
     },
     "user_tz": 0
    },
    "id": "XBShMJ-ZZBBy",
    "outputId": "f3e148d7-4c37-4c30-d97a-12779c21a68e"
   },
   "outputs": [
    {
     "name": "stdout",
     "output_type": "stream",
     "text": [
      "<class 'pandas.core.frame.DataFrame'>\n",
      "RangeIndex: 27070 entries, 0 to 27069\n",
      "Data columns (total 20 columns):\n",
      " #   Column                  Non-Null Count  Dtype         \n",
      "---  ------                  --------------  -----         \n",
      " 0   price                   27070 non-null  float64       \n",
      " 1   city                    27037 non-null  object        \n",
      " 2   longitude               27070 non-null  float64       \n",
      " 3   latitude                27070 non-null  float64       \n",
      " 4   review_scores_rating    19512 non-null  float64       \n",
      " 5   number_of_reviews       27070 non-null  int64         \n",
      " 6   minimum_nights          27070 non-null  int64         \n",
      " 7   security_deposit        27070 non-null  float64       \n",
      " 8   cleaning_fee            27070 non-null  float64       \n",
      " 9   accommodates            27070 non-null  int64         \n",
      " 10  bathrooms               27048 non-null  float64       \n",
      " 11  bedrooms                27062 non-null  float64       \n",
      " 12  beds                    27037 non-null  float64       \n",
      " 13  property_type           27070 non-null  object        \n",
      " 14  room_type               27070 non-null  object        \n",
      " 15  availability_365        27070 non-null  int64         \n",
      " 16  host_identity_verified  27035 non-null  object        \n",
      " 17  host_is_superhost       27035 non-null  object        \n",
      " 18  host_since              27035 non-null  datetime64[ns]\n",
      " 19  cancellation_policy     27070 non-null  object        \n",
      "dtypes: datetime64[ns](1), float64(9), int64(4), object(6)\n",
      "memory usage: 4.1+ MB\n"
     ]
    }
   ],
   "source": [
    "df.info()"
   ]
  },
  {
   "cell_type": "code",
   "execution_count": 12,
   "metadata": {
    "colab": {
     "base_uri": "https://localhost:8080/",
     "height": 269
    },
    "colab_type": "code",
    "executionInfo": {
     "elapsed": 841,
     "status": "ok",
     "timestamp": 1573949610662,
     "user": {
      "displayName": "Rajeev Ratan",
      "photoUrl": "https://lh3.googleusercontent.com/a-/AAuE7mCGo6aIm0tOcd5EhqWlYb0rime9sBvHS9YMpx0D2w=s64",
      "userId": "08597265227091462140"
     },
     "user_tz": 0
    },
    "id": "D56JFFrVw5Gt",
    "outputId": "5c83aa6a-9ad4-463c-c158-617b8146d4c0"
   },
   "outputs": [
    {
     "data": {
      "text/plain": [
       "<AxesSubplot:ylabel='price'>"
      ]
     },
     "execution_count": 12,
     "metadata": {},
     "output_type": "execute_result"
    },
    {
     "data": {
      "image/png": "[encoded data removed]",
      "text/plain": [
       "<Figure size 432x288 with 1 Axes>"
      ]
     },
     "metadata": {
      "needs_background": "light"
     },
     "output_type": "display_data"
    }
   ],
   "source": [
    "## Use a boxplot to check for high price values (outliers)\n",
    "\n",
    "sns.boxplot( y=df[\"price\"] )"
   ]
  },
  {
   "cell_type": "code",
   "execution_count": 13,
   "metadata": {
    "colab": {
     "base_uri": "https://localhost:8080/",
     "height": 35
    },
    "colab_type": "code",
    "executionInfo": {
     "elapsed": 489,
     "status": "ok",
     "timestamp": 1573949641663,
     "user": {
      "displayName": "Rajeev Ratan",
      "photoUrl": "https://lh3.googleusercontent.com/a-/AAuE7mCGo6aIm0tOcd5EhqWlYb0rime9sBvHS9YMpx0D2w=s64",
      "userId": "08597265227091462140"
     },
     "user_tz": 0
    },
    "id": "z7JM4sHqw5G1",
    "outputId": "dd5e8669-4271-49a4-d065-d61b3d8d9cdd"
   },
   "outputs": [
    {
     "data": {
      "text/plain": [
       "13.808558337216192"
      ]
     },
     "execution_count": 13,
     "metadata": {},
     "output_type": "execute_result"
    }
   ],
   "source": [
    "# We can see a few high value pries, with the majority being close to bottom (seems like ~100-200)\n",
    "\n",
    "# We now use skew to check for the symmetry of the data distribution (0 being perfectly symmetrical)\n",
    "# https://www.spcforexcel.com/knowledge/basic-statistics/are-skewness-and-kurtosis-useful-statistics\n",
    "df[\"price\"].skew()"
   ]
  },
  {
   "cell_type": "code",
   "execution_count": 14,
   "metadata": {
    "colab": {
     "base_uri": "https://localhost:8080/",
     "height": 35
    },
    "colab_type": "code",
    "executionInfo": {
     "elapsed": 463,
     "status": "ok",
     "timestamp": 1573949642835,
     "user": {
      "displayName": "Rajeev Ratan",
      "photoUrl": "https://lh3.googleusercontent.com/a-/AAuE7mCGo6aIm0tOcd5EhqWlYb0rime9sBvHS9YMpx0D2w=s64",
      "userId": "08597265227091462140"
     },
     "user_tz": 0
    },
    "id": "KH8OFVGhaRvn",
    "outputId": "75aa117e-4666-46b6-a78f-1c0055ea66f7"
   },
   "outputs": [
    {
     "data": {
      "text/plain": [
       "413.4301463784445"
      ]
     },
     "execution_count": 14,
     "metadata": {},
     "output_type": "execute_result"
    }
   ],
   "source": [
    "# We can also use Kurtosis to analyze our data\n",
    "# “Kurtosis is the degree of peakedness of a distribution” – Wolfram MathWorld\n",
    "\n",
    "df[\"price\"].kurtosis()"
   ]
  },
  {
   "cell_type": "code",
   "execution_count": 15,
   "metadata": {
    "colab": {
     "base_uri": "https://localhost:8080/",
     "height": 69
    },
    "colab_type": "code",
    "executionInfo": {
     "elapsed": 1289,
     "status": "ok",
     "timestamp": 1573949722390,
     "user": {
      "displayName": "Rajeev Ratan",
      "photoUrl": "https://lh3.googleusercontent.com/a-/AAuE7mCGo6aIm0tOcd5EhqWlYb0rime9sBvHS9YMpx0D2w=s64",
      "userId": "08597265227091462140"
     },
     "user_tz": 0
    },
    "id": "AHr5vYEZw5G-",
    "outputId": "68d6929a-18bd-4726-cc1b-8bdfa3dcaf1a"
   },
   "outputs": [
    {
     "name": "stdout",
     "output_type": "stream",
     "text": [
      "1600.0\n",
      "209.27879571481344\n",
      "135.0\n"
     ]
    }
   ],
   "source": [
    "## So in order to remove or filter out our high value 'outliers' let's consider taking our data from the 99.5% percentile and exclude the bottom .25% and top 0.25% of prices\n",
    "## This function returns the highest value of the 99.5% percentile which is still relatively high when compared to the mean and median\n",
    "print(df[\"price\"].quantile(0.995))\n",
    "print(df[\"price\"].mean())\n",
    "print(df[\"price\"].median())"
   ]
  },
  {
   "cell_type": "code",
   "execution_count": 16,
   "metadata": {
    "colab": {},
    "colab_type": "code",
    "id": "5YfvE8BTw5HI"
   },
   "outputs": [],
   "source": [
    "# Now we remove all prices over the 99.5% percentile (or in order words, we keep all data rows under the 99.5% value of 1600)\n",
    "df = df[df[\"price\"]<df[\"price\"].quantile(0.995)].reset_index(drop=True)"
   ]
  },
  {
   "cell_type": "code",
   "execution_count": 17,
   "metadata": {
    "colab": {
     "base_uri": "https://localhost:8080/",
     "height": 35
    },
    "colab_type": "code",
    "executionInfo": {
     "elapsed": 872,
     "status": "ok",
     "timestamp": 1573949775630,
     "user": {
      "displayName": "Rajeev Ratan",
      "photoUrl": "https://lh3.googleusercontent.com/a-/AAuE7mCGo6aIm0tOcd5EhqWlYb0rime9sBvHS9YMpx0D2w=s64",
      "userId": "08597265227091462140"
     },
     "user_tz": 0
    },
    "id": "3ORYKN6Yw5HO",
    "outputId": "f669c594-8504-42f5-c540-74dd240edb0e"
   },
   "outputs": [
    {
     "data": {
      "text/plain": [
       "2.957872457159033"
      ]
     },
     "execution_count": 17,
     "metadata": {},
     "output_type": "execute_result"
    }
   ],
   "source": [
    "# Let's check our skew now\n",
    "df[\"price\"].skew()"
   ]
  },
  {
   "cell_type": "code",
   "execution_count": 18,
   "metadata": {
    "colab": {
     "base_uri": "https://localhost:8080/",
     "height": 381
    },
    "colab_type": "code",
    "executionInfo": {
     "elapsed": 442,
     "status": "ok",
     "timestamp": 1573949782778,
     "user": {
      "displayName": "Rajeev Ratan",
      "photoUrl": "https://lh3.googleusercontent.com/a-/AAuE7mCGo6aIm0tOcd5EhqWlYb0rime9sBvHS9YMpx0D2w=s64",
      "userId": "08597265227091462140"
     },
     "user_tz": 0
    },
    "id": "mjQ3evsZw5HY",
    "outputId": "9d6f4193-f4ff-468d-bf70-efbc3c8118b7"
   },
   "outputs": [
    {
     "data": {
      "text/plain": [
       "price                        0\n",
       "city                        32\n",
       "longitude                    0\n",
       "latitude                     0\n",
       "review_scores_rating      7466\n",
       "number_of_reviews            0\n",
       "minimum_nights               0\n",
       "security_deposit             0\n",
       "cleaning_fee                 0\n",
       "accommodates                 0\n",
       "bathrooms                   22\n",
       "bedrooms                     8\n",
       "beds                        33\n",
       "property_type                0\n",
       "room_type                    0\n",
       "availability_365             0\n",
       "host_identity_verified      34\n",
       "host_is_superhost           34\n",
       "host_since                  34\n",
       "cancellation_policy          0\n",
       "dtype: int64"
      ]
     },
     "execution_count": 18,
     "metadata": {},
     "output_type": "execute_result"
    }
   ],
   "source": [
    "# Let's check our data for null values\n",
    "df.isnull().sum()"
   ]
  },
  {
   "cell_type": "code",
   "execution_count": 19,
   "metadata": {
    "colab": {
     "base_uri": "https://localhost:8080/",
     "height": 451
    },
    "colab_type": "code",
    "executionInfo": {
     "elapsed": 416,
     "status": "ok",
     "timestamp": 1573949796346,
     "user": {
      "displayName": "Rajeev Ratan",
      "photoUrl": "https://lh3.googleusercontent.com/a-/AAuE7mCGo6aIm0tOcd5EhqWlYb0rime9sBvHS9YMpx0D2w=s64",
      "userId": "08597265227091462140"
     },
     "user_tz": 0
    },
    "id": "lCaILI1hejFQ",
    "outputId": "831727b8-a0f9-49d9-8f2a-97d440dd7db9"
   },
   "outputs": [
    {
     "name": "stdout",
     "output_type": "stream",
     "text": [
      "<class 'pandas.core.frame.DataFrame'>\n",
      "RangeIndex: 26931 entries, 0 to 26930\n",
      "Data columns (total 20 columns):\n",
      " #   Column                  Non-Null Count  Dtype         \n",
      "---  ------                  --------------  -----         \n",
      " 0   price                   26931 non-null  float64       \n",
      " 1   city                    26899 non-null  object        \n",
      " 2   longitude               26931 non-null  float64       \n",
      " 3   latitude                26931 non-null  float64       \n",
      " 4   review_scores_rating    19465 non-null  float64       \n",
      " 5   number_of_reviews       26931 non-null  int64         \n",
      " 6   minimum_nights          26931 non-null  int64         \n",
      " 7   security_deposit        26931 non-null  float64       \n",
      " 8   cleaning_fee            26931 non-null  float64       \n",
      " 9   accommodates            26931 non-null  int64         \n",
      " 10  bathrooms               26909 non-null  float64       \n",
      " 11  bedrooms                26923 non-null  float64       \n",
      " 12  beds                    26898 non-null  float64       \n",
      " 13  property_type           26931 non-null  object        \n",
      " 14  room_type               26931 non-null  object        \n",
      " 15  availability_365        26931 non-null  int64         \n",
      " 16  host_identity_verified  26897 non-null  object        \n",
      " 17  host_is_superhost       26897 non-null  object        \n",
      " 18  host_since              26897 non-null  datetime64[ns]\n",
      " 19  cancellation_policy     26931 non-null  object        \n",
      "dtypes: datetime64[ns](1), float64(9), int64(4), object(6)\n",
      "memory usage: 4.1+ MB\n"
     ]
    }
   ],
   "source": [
    "df.info()"
   ]
  },
  {
   "cell_type": "code",
   "execution_count": 20,
   "metadata": {
    "colab": {
     "base_uri": "https://localhost:8080/",
     "height": 1000
    },
    "colab_type": "code",
    "executionInfo": {
     "elapsed": 450,
     "status": "ok",
     "timestamp": 1573949812755,
     "user": {
      "displayName": "Rajeev Ratan",
      "photoUrl": "https://lh3.googleusercontent.com/a-/AAuE7mCGo6aIm0tOcd5EhqWlYb0rime9sBvHS9YMpx0D2w=s64",
      "userId": "08597265227091462140"
     },
     "user_tz": 0
    },
    "id": "H4Uw7ou7w5Hz",
    "outputId": "cb565d61-431b-457e-f03d-010129f6b5e6"
   },
   "outputs": [
    {
     "name": "stdout",
     "output_type": "stream",
     "text": [
      "strict_14_with_grace_period    11585\n",
      "flexible                        8538\n",
      "moderate                        6776\n",
      "super_strict_60                   31\n",
      "super_strict_30                    1\n",
      "Name: cancellation_policy, dtype: int64\n",
      "Bondi Beach                         1671\n",
      "Manly                                958\n",
      "Surry Hills                          919\n",
      "Bondi                                785\n",
      "Randwick                             684\n",
      "                                    ... \n",
      "Hassall Grove                          1\n",
      "Bronte                                 1\n",
      "Northern Beaches                       1\n",
      "Hurstville Sydney                      1\n",
      "Gladesville, New South Wales, AU       1\n",
      "Name: city, Length: 741, dtype: int64\n",
      "Apartment                 15901\n",
      "House                      7722\n",
      "Townhouse                  1145\n",
      "Condominium                 351\n",
      "Guest suite                 350\n",
      "Guesthouse                  287\n",
      "Villa                       201\n",
      "Loft                        175\n",
      "Bed and breakfast           156\n",
      "Other                       147\n",
      "Bungalow                    118\n",
      "Cabin                        77\n",
      "Serviced apartment           74\n",
      "Cottage                      60\n",
      "Hostel                       53\n",
      "Boutique hotel               25\n",
      "Boat                         18\n",
      "Hotel                        13\n",
      "Tent                         13\n",
      "Tiny house                    9\n",
      "Camper/RV                     6\n",
      "Resort                        6\n",
      "Farm stay                     3\n",
      "Island                        3\n",
      "Yurt                          2\n",
      "Tipi                          2\n",
      "Chalet                        2\n",
      "Treehouse                     1\n",
      "Casa particular (Cuba)        1\n",
      "Dome house                    1\n",
      "Campsite                      1\n",
      "Castle                        1\n",
      "Earth house                   1\n",
      "Train                         1\n",
      "Nature lodge                  1\n",
      "Hut                           1\n",
      "Houseboat                     1\n",
      "Barn                          1\n",
      "Aparthotel                    1\n",
      "Name: property_type, dtype: int64\n",
      "Entire home/apt    16789\n",
      "Private room        9745\n",
      "Shared room          397\n",
      "Name: room_type, dtype: int64\n"
     ]
    }
   ],
   "source": [
    "print(df[\"cancellation_policy\"].value_counts())\n",
    "print(df[\"city\"].value_counts())\n",
    "print(df[\"property_type\"].value_counts())\n",
    "print(df[\"room_type\"].value_counts())"
   ]
  },
  {
   "cell_type": "code",
   "execution_count": 21,
   "metadata": {
    "colab": {
     "base_uri": "https://localhost:8080/",
     "height": 314
    },
    "colab_type": "code",
    "executionInfo": {
     "elapsed": 431,
     "status": "ok",
     "timestamp": 1573949859969,
     "user": {
      "displayName": "Rajeev Ratan",
      "photoUrl": "https://lh3.googleusercontent.com/a-/AAuE7mCGo6aIm0tOcd5EhqWlYb0rime9sBvHS9YMpx0D2w=s64",
      "userId": "08597265227091462140"
     },
     "user_tz": 0
    },
    "id": "Z2B1YEXrw5H7",
    "outputId": "f48417a9-aeaa-43bd-de2a-8a78a1e5b8ec"
   },
   "outputs": [
    {
     "data": {
      "text/html": [
       "<div>\n",
       "<style scoped>\n",
       "    .dataframe tbody tr th:only-of-type {\n",
       "        vertical-align: middle;\n",
       "    }\n",
       "\n",
       "    .dataframe tbody tr th {\n",
       "        vertical-align: top;\n",
       "    }\n",
       "\n",
       "    .dataframe thead th {\n",
       "        text-align: right;\n",
       "    }\n",
       "</style>\n",
       "<table border=\"1\" class=\"dataframe\">\n",
       "  <thead>\n",
       "    <tr style=\"text-align: right;\">\n",
       "      <th></th>\n",
       "      <th>price</th>\n",
       "      <th>longitude</th>\n",
       "      <th>latitude</th>\n",
       "      <th>review_scores_rating</th>\n",
       "      <th>number_of_reviews</th>\n",
       "      <th>minimum_nights</th>\n",
       "      <th>security_deposit</th>\n",
       "      <th>cleaning_fee</th>\n",
       "      <th>accommodates</th>\n",
       "      <th>bathrooms</th>\n",
       "      <th>bedrooms</th>\n",
       "      <th>beds</th>\n",
       "      <th>availability_365</th>\n",
       "    </tr>\n",
       "  </thead>\n",
       "  <tbody>\n",
       "    <tr>\n",
       "      <th>count</th>\n",
       "      <td>26931.000000</td>\n",
       "      <td>26931.000000</td>\n",
       "      <td>26931.000000</td>\n",
       "      <td>19465.000000</td>\n",
       "      <td>26931.000000</td>\n",
       "      <td>26931.000000</td>\n",
       "      <td>26931.000000</td>\n",
       "      <td>26931.000000</td>\n",
       "      <td>26931.000000</td>\n",
       "      <td>26909.000000</td>\n",
       "      <td>26923.000000</td>\n",
       "      <td>26898.000000</td>\n",
       "      <td>26931.000000</td>\n",
       "    </tr>\n",
       "    <tr>\n",
       "      <th>mean</th>\n",
       "      <td>196.065464</td>\n",
       "      <td>151.210438</td>\n",
       "      <td>-33.862675</td>\n",
       "      <td>93.404932</td>\n",
       "      <td>14.070031</td>\n",
       "      <td>4.482010</td>\n",
       "      <td>293.870261</td>\n",
       "      <td>65.268687</td>\n",
       "      <td>3.357395</td>\n",
       "      <td>1.340964</td>\n",
       "      <td>1.600787</td>\n",
       "      <td>1.996542</td>\n",
       "      <td>101.575916</td>\n",
       "    </tr>\n",
       "    <tr>\n",
       "      <th>std</th>\n",
       "      <td>199.813830</td>\n",
       "      <td>0.079425</td>\n",
       "      <td>0.071861</td>\n",
       "      <td>9.358515</td>\n",
       "      <td>29.870227</td>\n",
       "      <td>14.421896</td>\n",
       "      <td>549.642202</td>\n",
       "      <td>84.886663</td>\n",
       "      <td>2.160004</td>\n",
       "      <td>0.638187</td>\n",
       "      <td>1.091213</td>\n",
       "      <td>1.506535</td>\n",
       "      <td>127.822623</td>\n",
       "    </tr>\n",
       "    <tr>\n",
       "      <th>min</th>\n",
       "      <td>0.000000</td>\n",
       "      <td>150.644964</td>\n",
       "      <td>-34.135212</td>\n",
       "      <td>20.000000</td>\n",
       "      <td>0.000000</td>\n",
       "      <td>1.000000</td>\n",
       "      <td>0.000000</td>\n",
       "      <td>0.000000</td>\n",
       "      <td>1.000000</td>\n",
       "      <td>0.000000</td>\n",
       "      <td>0.000000</td>\n",
       "      <td>0.000000</td>\n",
       "      <td>0.000000</td>\n",
       "    </tr>\n",
       "    <tr>\n",
       "      <th>25%</th>\n",
       "      <td>80.000000</td>\n",
       "      <td>151.184336</td>\n",
       "      <td>-33.897653</td>\n",
       "      <td>90.000000</td>\n",
       "      <td>1.000000</td>\n",
       "      <td>1.000000</td>\n",
       "      <td>0.000000</td>\n",
       "      <td>0.000000</td>\n",
       "      <td>2.000000</td>\n",
       "      <td>1.000000</td>\n",
       "      <td>1.000000</td>\n",
       "      <td>1.000000</td>\n",
       "      <td>0.000000</td>\n",
       "    </tr>\n",
       "    <tr>\n",
       "      <th>50%</th>\n",
       "      <td>132.000000</td>\n",
       "      <td>151.223029</td>\n",
       "      <td>-33.883161</td>\n",
       "      <td>96.000000</td>\n",
       "      <td>3.000000</td>\n",
       "      <td>2.000000</td>\n",
       "      <td>0.000000</td>\n",
       "      <td>40.000000</td>\n",
       "      <td>2.000000</td>\n",
       "      <td>1.000000</td>\n",
       "      <td>1.000000</td>\n",
       "      <td>1.000000</td>\n",
       "      <td>32.000000</td>\n",
       "    </tr>\n",
       "    <tr>\n",
       "      <th>75%</th>\n",
       "      <td>225.000000</td>\n",
       "      <td>151.264706</td>\n",
       "      <td>-33.832189</td>\n",
       "      <td>100.000000</td>\n",
       "      <td>13.000000</td>\n",
       "      <td>5.000000</td>\n",
       "      <td>400.000000</td>\n",
       "      <td>99.000000</td>\n",
       "      <td>4.000000</td>\n",
       "      <td>1.500000</td>\n",
       "      <td>2.000000</td>\n",
       "      <td>2.000000</td>\n",
       "      <td>179.000000</td>\n",
       "    </tr>\n",
       "    <tr>\n",
       "      <th>max</th>\n",
       "      <td>1599.000000</td>\n",
       "      <td>151.339811</td>\n",
       "      <td>-33.389728</td>\n",
       "      <td>100.000000</td>\n",
       "      <td>468.000000</td>\n",
       "      <td>1000.000000</td>\n",
       "      <td>7000.000000</td>\n",
       "      <td>999.000000</td>\n",
       "      <td>16.000000</td>\n",
       "      <td>10.000000</td>\n",
       "      <td>46.000000</td>\n",
       "      <td>29.000000</td>\n",
       "      <td>365.000000</td>\n",
       "    </tr>\n",
       "  </tbody>\n",
       "</table>\n",
       "</div>"
      ],
      "text/plain": [
       "              price     longitude      latitude  review_scores_rating  \\\n",
       "count  26931.000000  26931.000000  26931.000000          19465.000000   \n",
       "mean     196.065464    151.210438    -33.862675             93.404932   \n",
       "std      199.813830      0.079425      0.071861              9.358515   \n",
       "min        0.000000    150.644964    -34.135212             20.000000   \n",
       "25%       80.000000    151.184336    -33.897653             90.000000   \n",
       "50%      132.000000    151.223029    -33.883161             96.000000   \n",
       "75%      225.000000    151.264706    -33.832189            100.000000   \n",
       "max     1599.000000    151.339811    -33.389728            100.000000   \n",
       "\n",
       "       number_of_reviews  minimum_nights  security_deposit  cleaning_fee  \\\n",
       "count       26931.000000    26931.000000      26931.000000  26931.000000   \n",
       "mean           14.070031        4.482010        293.870261     65.268687   \n",
       "std            29.870227       14.421896        549.642202     84.886663   \n",
       "min             0.000000        1.000000          0.000000      0.000000   \n",
       "25%             1.000000        1.000000          0.000000      0.000000   \n",
       "50%             3.000000        2.000000          0.000000     40.000000   \n",
       "75%            13.000000        5.000000        400.000000     99.000000   \n",
       "max           468.000000     1000.000000       7000.000000    999.000000   \n",
       "\n",
       "       accommodates     bathrooms      bedrooms          beds  \\\n",
       "count  26931.000000  26909.000000  26923.000000  26898.000000   \n",
       "mean       3.357395      1.340964      1.600787      1.996542   \n",
       "std        2.160004      0.638187      1.091213      1.506535   \n",
       "min        1.000000      0.000000      0.000000      0.000000   \n",
       "25%        2.000000      1.000000      1.000000      1.000000   \n",
       "50%        2.000000      1.000000      1.000000      1.000000   \n",
       "75%        4.000000      1.500000      2.000000      2.000000   \n",
       "max       16.000000     10.000000     46.000000     29.000000   \n",
       "\n",
       "       availability_365  \n",
       "count      26931.000000  \n",
       "mean         101.575916  \n",
       "std          127.822623  \n",
       "min            0.000000  \n",
       "25%            0.000000  \n",
       "50%           32.000000  \n",
       "75%          179.000000  \n",
       "max          365.000000  "
      ]
     },
     "execution_count": 21,
     "metadata": {},
     "output_type": "execute_result"
    }
   ],
   "source": [
    "df.describe()"
   ]
  },
  {
   "cell_type": "code",
   "execution_count": 22,
   "metadata": {
    "colab": {
     "base_uri": "https://localhost:8080/",
     "height": 1000
    },
    "colab_type": "code",
    "executionInfo": {
     "elapsed": 7603,
     "status": "ok",
     "timestamp": 1573949920474,
     "user": {
      "displayName": "Rajeev Ratan",
      "photoUrl": "https://lh3.googleusercontent.com/a-/AAuE7mCGo6aIm0tOcd5EhqWlYb0rime9sBvHS9YMpx0D2w=s64",
      "userId": "08597265227091462140"
     },
     "user_tz": 0
    },
    "id": "ysvjJRt1w5II",
    "outputId": "956b3812-8e34-4aeb-a580-5834fa612b51"
   },
   "outputs": [
    {
     "name": "stdout",
     "output_type": "stream",
     "text": [
      "Saving figure attribute_histogram_plots\n"
     ]
    },
    {
     "data": {
      "image/png": "[encoded data removed]",
      "text/plain": [
       "<Figure size 1440x1080 with 9 Axes>"
      ]
     },
     "metadata": {
      "needs_background": "light"
     },
     "output_type": "display_data"
    }
   ],
   "source": [
    "# Data Exploration - Let's explore \n",
    "\n",
    "try:\n",
    "    # We select all rows and all columns after the 6th\n",
    "    df.iloc[:,6:].hist(bins=50, figsize=(20,15))\n",
    "    save_fig(\"attribute_histogram_plots\")\n",
    "    plt.show()\n",
    "except AttributeError:\n",
    "    pass\n"
   ]
  },
  {
   "cell_type": "code",
   "execution_count": 23,
   "metadata": {
    "colab": {
     "base_uri": "https://localhost:8080/",
     "height": 208
    },
    "colab_type": "code",
    "executionInfo": {
     "elapsed": 543,
     "status": "ok",
     "timestamp": 1573950056099,
     "user": {
      "displayName": "Rajeev Ratan",
      "photoUrl": "https://lh3.googleusercontent.com/a-/AAuE7mCGo6aIm0tOcd5EhqWlYb0rime9sBvHS9YMpx0D2w=s64",
      "userId": "08597265227091462140"
     },
     "user_tz": 0
    },
    "id": "XsCwHu6Aw5IU",
    "outputId": "1157df3b-1ab7-4e0a-d8a8-6a964746f71e"
   },
   "outputs": [
    {
     "data": {
      "text/plain": [
       "Bondi Beach     1671\n",
       "Manly            958\n",
       "Surry Hills      919\n",
       "Bondi            785\n",
       "Randwick         684\n",
       "Sydney           682\n",
       "Coogee           675\n",
       "Darlinghurst     660\n",
       "North Bondi      629\n",
       "Newtown          490\n",
       "Name: city, dtype: int64"
      ]
     },
     "execution_count": 23,
     "metadata": {},
     "output_type": "execute_result"
    }
   ],
   "source": [
    "## We keep all the city types to create our model (more is data usually better), even though our customer, sepecifcally wants information about Bondi Beach \n",
    "\n",
    "df[\"city\"].value_counts().head(10)"
   ]
  },
  {
   "cell_type": "code",
   "execution_count": 24,
   "metadata": {
    "colab": {},
    "colab_type": "code",
    "id": "4wL-UHLfw5Ij"
   },
   "outputs": [],
   "source": [
    "## For this taks we will keep the top 20 Sydney locations\n",
    "\n",
    "list_of_20 = list(df[\"city\"].value_counts().head(10).index)\n",
    "df = df[df[\"city\"].isin(list_of_20)].reset_index(drop=True)"
   ]
  },
  {
   "cell_type": "code",
   "execution_count": 25,
   "metadata": {
    "colab": {
     "base_uri": "https://localhost:8080/",
     "height": 648
    },
    "colab_type": "code",
    "executionInfo": {
     "elapsed": 8775,
     "status": "ok",
     "timestamp": 1573168406290,
     "user": {
      "displayName": "Rajeev Ratan",
      "photoUrl": "https://lh3.googleusercontent.com/a-/AAuE7mCGo6aIm0tOcd5EhqWlYb0rime9sBvHS9YMpx0D2w=s64",
      "userId": "08597265227091462140"
     },
     "user_tz": 0
    },
    "id": "XNg25DOfiswe",
    "outputId": "f6faac21-bc5a-457a-9303-1cdc1410dd19"
   },
   "outputs": [
    {
     "data": {
      "image/png": "[encoded data removed]",
      "text/plain": [
       "<Figure size 1152x720 with 1 Axes>"
      ]
     },
     "metadata": {
      "needs_background": "light"
     },
     "output_type": "display_data"
    }
   ],
   "source": [
    "plt.figure(figsize=(16,10))\n",
    "ax = sns.countplot(x=\"city\", data=df)"
   ]
  },
  {
   "cell_type": "code",
   "execution_count": 26,
   "metadata": {
    "colab": {
     "base_uri": "https://localhost:8080/",
     "height": 485
    },
    "colab_type": "code",
    "executionInfo": {
     "elapsed": 470,
     "status": "ok",
     "timestamp": 1573950109600,
     "user": {
      "displayName": "Rajeev Ratan",
      "photoUrl": "https://lh3.googleusercontent.com/a-/AAuE7mCGo6aIm0tOcd5EhqWlYb0rime9sBvHS9YMpx0D2w=s64",
      "userId": "08597265227091462140"
     },
     "user_tz": 0
    },
    "id": "bW8eqhsjkeNh",
    "outputId": "356243f0-54af-4049-dc56-cffcfac0dc61"
   },
   "outputs": [
    {
     "data": {
      "text/plain": [
       "Apartment             5970\n",
       "House                 1497\n",
       "Townhouse              271\n",
       "Condominium            115\n",
       "Loft                    59\n",
       "Guest suite             44\n",
       "Other                   33\n",
       "Hostel                  30\n",
       "Bed and breakfast       25\n",
       "Guesthouse              24\n",
       "Serviced apartment      23\n",
       "Villa                   16\n",
       "Bungalow                 7\n",
       "Tent                     6\n",
       "Cottage                  6\n",
       "Boutique hotel           6\n",
       "Resort                   5\n",
       "Tiny house               5\n",
       "Hotel                    3\n",
       "Cabin                    2\n",
       "Camper/RV                1\n",
       "Aparthotel               1\n",
       "Houseboat                1\n",
       "Earth house              1\n",
       "Yurt                     1\n",
       "Chalet                   1\n",
       "Name: property_type, dtype: int64"
      ]
     },
     "execution_count": 26,
     "metadata": {},
     "output_type": "execute_result"
    }
   ],
   "source": [
    "df[\"property_type\"].value_counts()"
   ]
  },
  {
   "cell_type": "code",
   "execution_count": 27,
   "metadata": {
    "colab": {
     "base_uri": "https://localhost:8080/",
     "height": 243
    },
    "colab_type": "code",
    "executionInfo": {
     "elapsed": 449,
     "status": "ok",
     "timestamp": 1573950169763,
     "user": {
      "displayName": "Rajeev Ratan",
      "photoUrl": "https://lh3.googleusercontent.com/a-/AAuE7mCGo6aIm0tOcd5EhqWlYb0rime9sBvHS9YMpx0D2w=s64",
      "userId": "08597265227091462140"
     },
     "user_tz": 0
    },
    "id": "pEA9rG38w5I6",
    "outputId": "3ccb8ef5-13d6-4eec-93e5-7f4e0476ac2c"
   },
   "outputs": [
    {
     "data": {
      "text/plain": [
       "Apartment             5970\n",
       "House                 1497\n",
       "Townhouse              271\n",
       "Condominium            115\n",
       "Loft                    59\n",
       "Guest suite             44\n",
       "Other                   33\n",
       "Hostel                  30\n",
       "Bed and breakfast       25\n",
       "Guesthouse              24\n",
       "Serviced apartment      23\n",
       "Villa                   16\n",
       "Name: property_type, dtype: int64"
      ]
     },
     "execution_count": 27,
     "metadata": {},
     "output_type": "execute_result"
    }
   ],
   "source": [
    "# We now remove the rare occurences in categories as it's necessary for the cross validation step\n",
    "# the below step is somewhat similar for what has been done with cities above\n",
    "\n",
    "# We store the counts of each type in the variable item_counts\n",
    "item_counts = df.groupby(['property_type']).size()\n",
    "\n",
    "# Store a list of the rare property types here i.e. the types that have a count less than 10 \n",
    "rare_items = list(item_counts.loc[item_counts <= 10].index.values)\n",
    "\n",
    "# drop the property types that were rare\n",
    "df = df[~df[\"property_type\"].isin(rare_items)].reset_index(drop=True)\n",
    "\n",
    "# Sanity check\n",
    "df[\"property_type\"].value_counts()"
   ]
  },
  {
   "cell_type": "code",
   "execution_count": 28,
   "metadata": {
    "colab": {},
    "colab_type": "code",
    "id": "1-wPuzs1w5Kd"
   },
   "outputs": [],
   "source": [
    "train_set, test_set = train_test_split(df, test_size=0.2, random_state=42)"
   ]
  },
  {
   "cell_type": "code",
   "execution_count": 29,
   "metadata": {
    "colab": {
     "base_uri": "https://localhost:8080/",
     "height": 309
    },
    "colab_type": "code",
    "executionInfo": {
     "elapsed": 384,
     "status": "ok",
     "timestamp": 1573950196975,
     "user": {
      "displayName": "Rajeev Ratan",
      "photoUrl": "https://lh3.googleusercontent.com/a-/AAuE7mCGo6aIm0tOcd5EhqWlYb0rime9sBvHS9YMpx0D2w=s64",
      "userId": "08597265227091462140"
     },
     "user_tz": 0
    },
    "id": "sc7D0atAw5Km",
    "outputId": "67c694c7-db46-471c-b9bf-4338fd1b6d61"
   },
   "outputs": [
    {
     "data": {
      "text/html": [
       "<div>\n",
       "<style scoped>\n",
       "    .dataframe tbody tr th:only-of-type {\n",
       "        vertical-align: middle;\n",
       "    }\n",
       "\n",
       "    .dataframe tbody tr th {\n",
       "        vertical-align: top;\n",
       "    }\n",
       "\n",
       "    .dataframe thead th {\n",
       "        text-align: right;\n",
       "    }\n",
       "</style>\n",
       "<table border=\"1\" class=\"dataframe\">\n",
       "  <thead>\n",
       "    <tr style=\"text-align: right;\">\n",
       "      <th></th>\n",
       "      <th>price</th>\n",
       "      <th>city</th>\n",
       "      <th>longitude</th>\n",
       "      <th>latitude</th>\n",
       "      <th>review_scores_rating</th>\n",
       "      <th>number_of_reviews</th>\n",
       "      <th>minimum_nights</th>\n",
       "      <th>security_deposit</th>\n",
       "      <th>cleaning_fee</th>\n",
       "      <th>accommodates</th>\n",
       "      <th>bathrooms</th>\n",
       "      <th>bedrooms</th>\n",
       "      <th>beds</th>\n",
       "      <th>property_type</th>\n",
       "      <th>room_type</th>\n",
       "      <th>availability_365</th>\n",
       "      <th>host_identity_verified</th>\n",
       "      <th>host_is_superhost</th>\n",
       "      <th>host_since</th>\n",
       "      <th>cancellation_policy</th>\n",
       "    </tr>\n",
       "  </thead>\n",
       "  <tbody>\n",
       "    <tr>\n",
       "      <th>4084</th>\n",
       "      <td>68.0</td>\n",
       "      <td>North Bondi</td>\n",
       "      <td>151.279684</td>\n",
       "      <td>-33.884092</td>\n",
       "      <td>93.0</td>\n",
       "      <td>3</td>\n",
       "      <td>7</td>\n",
       "      <td>150.0</td>\n",
       "      <td>0.0</td>\n",
       "      <td>2</td>\n",
       "      <td>2.5</td>\n",
       "      <td>1.0</td>\n",
       "      <td>1.0</td>\n",
       "      <td>House</td>\n",
       "      <td>Private room</td>\n",
       "      <td>4</td>\n",
       "      <td>t</td>\n",
       "      <td>f</td>\n",
       "      <td>2016-08-18</td>\n",
       "      <td>strict_14_with_grace_period</td>\n",
       "    </tr>\n",
       "    <tr>\n",
       "      <th>965</th>\n",
       "      <td>128.0</td>\n",
       "      <td>Surry Hills</td>\n",
       "      <td>151.212610</td>\n",
       "      <td>-33.891416</td>\n",
       "      <td>100.0</td>\n",
       "      <td>4</td>\n",
       "      <td>5</td>\n",
       "      <td>690.0</td>\n",
       "      <td>99.0</td>\n",
       "      <td>4</td>\n",
       "      <td>1.0</td>\n",
       "      <td>2.0</td>\n",
       "      <td>2.0</td>\n",
       "      <td>Townhouse</td>\n",
       "      <td>Entire home/apt</td>\n",
       "      <td>173</td>\n",
       "      <td>t</td>\n",
       "      <td>t</td>\n",
       "      <td>2014-10-31</td>\n",
       "      <td>moderate</td>\n",
       "    </tr>\n",
       "    <tr>\n",
       "      <th>8100</th>\n",
       "      <td>115.0</td>\n",
       "      <td>Darlinghurst</td>\n",
       "      <td>151.217882</td>\n",
       "      <td>-33.874271</td>\n",
       "      <td>98.0</td>\n",
       "      <td>8</td>\n",
       "      <td>2</td>\n",
       "      <td>0.0</td>\n",
       "      <td>30.0</td>\n",
       "      <td>3</td>\n",
       "      <td>1.0</td>\n",
       "      <td>1.0</td>\n",
       "      <td>1.0</td>\n",
       "      <td>Apartment</td>\n",
       "      <td>Entire home/apt</td>\n",
       "      <td>12</td>\n",
       "      <td>f</td>\n",
       "      <td>f</td>\n",
       "      <td>2017-04-02</td>\n",
       "      <td>moderate</td>\n",
       "    </tr>\n",
       "    <tr>\n",
       "      <th>3882</th>\n",
       "      <td>125.0</td>\n",
       "      <td>Sydney</td>\n",
       "      <td>151.204837</td>\n",
       "      <td>-33.875924</td>\n",
       "      <td>NaN</td>\n",
       "      <td>0</td>\n",
       "      <td>2</td>\n",
       "      <td>150.0</td>\n",
       "      <td>50.0</td>\n",
       "      <td>4</td>\n",
       "      <td>1.0</td>\n",
       "      <td>1.0</td>\n",
       "      <td>3.0</td>\n",
       "      <td>Other</td>\n",
       "      <td>Shared room</td>\n",
       "      <td>363</td>\n",
       "      <td>f</td>\n",
       "      <td>f</td>\n",
       "      <td>2014-12-01</td>\n",
       "      <td>flexible</td>\n",
       "    </tr>\n",
       "    <tr>\n",
       "      <th>1010</th>\n",
       "      <td>250.0</td>\n",
       "      <td>North Bondi</td>\n",
       "      <td>151.274298</td>\n",
       "      <td>-33.885652</td>\n",
       "      <td>100.0</td>\n",
       "      <td>4</td>\n",
       "      <td>2</td>\n",
       "      <td>0.0</td>\n",
       "      <td>80.0</td>\n",
       "      <td>2</td>\n",
       "      <td>1.0</td>\n",
       "      <td>1.0</td>\n",
       "      <td>1.0</td>\n",
       "      <td>Apartment</td>\n",
       "      <td>Entire home/apt</td>\n",
       "      <td>363</td>\n",
       "      <td>t</td>\n",
       "      <td>f</td>\n",
       "      <td>2012-09-29</td>\n",
       "      <td>strict_14_with_grace_period</td>\n",
       "    </tr>\n",
       "  </tbody>\n",
       "</table>\n",
       "</div>"
      ],
      "text/plain": [
       "      price          city   longitude   latitude  review_scores_rating  \\\n",
       "4084   68.0   North Bondi  151.279684 -33.884092                  93.0   \n",
       "965   128.0   Surry Hills  151.212610 -33.891416                 100.0   \n",
       "8100  115.0  Darlinghurst  151.217882 -33.874271                  98.0   \n",
       "3882  125.0        Sydney  151.204837 -33.875924                   NaN   \n",
       "1010  250.0   North Bondi  151.274298 -33.885652                 100.0   \n",
       "\n",
       "      number_of_reviews  minimum_nights  security_deposit  cleaning_fee  \\\n",
       "4084                  3               7             150.0           0.0   \n",
       "965                   4               5             690.0          99.0   \n",
       "8100                  8               2               0.0          30.0   \n",
       "3882                  0               2             150.0          50.0   \n",
       "1010                  4               2               0.0          80.0   \n",
       "\n",
       "      accommodates  bathrooms  bedrooms  beds property_type        room_type  \\\n",
       "4084             2        2.5       1.0   1.0         House     Private room   \n",
       "965              4        1.0       2.0   2.0     Townhouse  Entire home/apt   \n",
       "8100             3        1.0       1.0   1.0     Apartment  Entire home/apt   \n",
       "3882             4        1.0       1.0   3.0         Other      Shared room   \n",
       "1010             2        1.0       1.0   1.0     Apartment  Entire home/apt   \n",
       "\n",
       "      availability_365 host_identity_verified host_is_superhost host_since  \\\n",
       "4084                 4                      t                 f 2016-08-18   \n",
       "965                173                      t                 t 2014-10-31   \n",
       "8100                12                      f                 f 2017-04-02   \n",
       "3882               363                      f                 f 2014-12-01   \n",
       "1010               363                      t                 f 2012-09-29   \n",
       "\n",
       "              cancellation_policy  \n",
       "4084  strict_14_with_grace_period  \n",
       "965                      moderate  \n",
       "8100                     moderate  \n",
       "3882                     flexible  \n",
       "1010  strict_14_with_grace_period  "
      ]
     },
     "execution_count": 29,
     "metadata": {},
     "output_type": "execute_result"
    }
   ],
   "source": [
    "test_set.head()"
   ]
  },
  {
   "cell_type": "code",
   "execution_count": 30,
   "metadata": {
    "colab": {},
    "colab_type": "code",
    "id": "UW7POEbXw5LG"
   },
   "outputs": [],
   "source": [
    "##  Similar to above encoding, here we encode binary 1, 0 for t and f. \n",
    "\n",
    "df[\"host_identity_verified\"] = df[\"host_identity_verified\"].apply(lambda x: 1 if x==\"t\" else 0)\n",
    "df[\"host_is_superhost\"] = df[\"host_is_superhost\"].apply(lambda x: 1 if x==\"t\" else 0)"
   ]
  },
  {
   "cell_type": "code",
   "execution_count": 31,
   "metadata": {
    "colab": {},
    "colab_type": "code",
    "id": "P6GhLgIZw5K-"
   },
   "outputs": [],
   "source": [
    "# We need to convert our categorical columns to numeric, so we use the sklearn's funtion LabelEncoder to do this\n",
    "le = preprocessing.LabelEncoder()\n",
    "\n",
    "for col in [\"city\"]:\n",
    "    df[col+\"_code\"] = le.fit_transform(df[col])"
   ]
  },
  {
   "cell_type": "code",
   "execution_count": 32,
   "metadata": {
    "colab": {
     "base_uri": "https://localhost:8080/",
     "height": 309
    },
    "colab_type": "code",
    "executionInfo": {
     "elapsed": 440,
     "status": "ok",
     "timestamp": 1573950246772,
     "user": {
      "displayName": "Rajeev Ratan",
      "photoUrl": "https://lh3.googleusercontent.com/a-/AAuE7mCGo6aIm0tOcd5EhqWlYb0rime9sBvHS9YMpx0D2w=s64",
      "userId": "08597265227091462140"
     },
     "user_tz": 0
    },
    "id": "KNPv7-zto22G",
    "outputId": "ef5d6c7f-ffac-49e4-8d96-1cc6f420e648"
   },
   "outputs": [
    {
     "data": {
      "text/html": [
       "<div>\n",
       "<style scoped>\n",
       "    .dataframe tbody tr th:only-of-type {\n",
       "        vertical-align: middle;\n",
       "    }\n",
       "\n",
       "    .dataframe tbody tr th {\n",
       "        vertical-align: top;\n",
       "    }\n",
       "\n",
       "    .dataframe thead th {\n",
       "        text-align: right;\n",
       "    }\n",
       "</style>\n",
       "<table border=\"1\" class=\"dataframe\">\n",
       "  <thead>\n",
       "    <tr style=\"text-align: right;\">\n",
       "      <th></th>\n",
       "      <th>price</th>\n",
       "      <th>city</th>\n",
       "      <th>longitude</th>\n",
       "      <th>latitude</th>\n",
       "      <th>review_scores_rating</th>\n",
       "      <th>number_of_reviews</th>\n",
       "      <th>minimum_nights</th>\n",
       "      <th>security_deposit</th>\n",
       "      <th>cleaning_fee</th>\n",
       "      <th>accommodates</th>\n",
       "      <th>bathrooms</th>\n",
       "      <th>bedrooms</th>\n",
       "      <th>beds</th>\n",
       "      <th>property_type</th>\n",
       "      <th>room_type</th>\n",
       "      <th>availability_365</th>\n",
       "      <th>host_identity_verified</th>\n",
       "      <th>host_is_superhost</th>\n",
       "      <th>host_since</th>\n",
       "      <th>cancellation_policy</th>\n",
       "      <th>city_code</th>\n",
       "    </tr>\n",
       "  </thead>\n",
       "  <tbody>\n",
       "    <tr>\n",
       "      <th>0</th>\n",
       "      <td>111.0</td>\n",
       "      <td>Darlinghurst</td>\n",
       "      <td>151.216541</td>\n",
       "      <td>-33.880455</td>\n",
       "      <td>88.0</td>\n",
       "      <td>272</td>\n",
       "      <td>2</td>\n",
       "      <td>0.0</td>\n",
       "      <td>0.0</td>\n",
       "      <td>2</td>\n",
       "      <td>1.0</td>\n",
       "      <td>1.0</td>\n",
       "      <td>1.0</td>\n",
       "      <td>Apartment</td>\n",
       "      <td>Private room</td>\n",
       "      <td>285</td>\n",
       "      <td>1</td>\n",
       "      <td>0</td>\n",
       "      <td>2009-03-12</td>\n",
       "      <td>strict_14_with_grace_period</td>\n",
       "      <td>3</td>\n",
       "    </tr>\n",
       "    <tr>\n",
       "      <th>1</th>\n",
       "      <td>700.0</td>\n",
       "      <td>Bondi Beach</td>\n",
       "      <td>151.274506</td>\n",
       "      <td>-33.889087</td>\n",
       "      <td>95.0</td>\n",
       "      <td>53</td>\n",
       "      <td>4</td>\n",
       "      <td>1500.0</td>\n",
       "      <td>370.0</td>\n",
       "      <td>11</td>\n",
       "      <td>3.0</td>\n",
       "      <td>5.0</td>\n",
       "      <td>7.0</td>\n",
       "      <td>House</td>\n",
       "      <td>Entire home/apt</td>\n",
       "      <td>255</td>\n",
       "      <td>1</td>\n",
       "      <td>1</td>\n",
       "      <td>2010-08-14</td>\n",
       "      <td>strict_14_with_grace_period</td>\n",
       "      <td>1</td>\n",
       "    </tr>\n",
       "    <tr>\n",
       "      <th>2</th>\n",
       "      <td>190.0</td>\n",
       "      <td>Bondi</td>\n",
       "      <td>151.271029</td>\n",
       "      <td>-33.897393</td>\n",
       "      <td>94.0</td>\n",
       "      <td>12</td>\n",
       "      <td>2</td>\n",
       "      <td>500.0</td>\n",
       "      <td>150.0</td>\n",
       "      <td>4</td>\n",
       "      <td>1.0</td>\n",
       "      <td>2.0</td>\n",
       "      <td>3.0</td>\n",
       "      <td>Apartment</td>\n",
       "      <td>Entire home/apt</td>\n",
       "      <td>233</td>\n",
       "      <td>1</td>\n",
       "      <td>0</td>\n",
       "      <td>2010-04-26</td>\n",
       "      <td>strict_14_with_grace_period</td>\n",
       "      <td>0</td>\n",
       "    </tr>\n",
       "    <tr>\n",
       "      <th>3</th>\n",
       "      <td>225.0</td>\n",
       "      <td>North Bondi</td>\n",
       "      <td>151.283553</td>\n",
       "      <td>-33.889633</td>\n",
       "      <td>79.0</td>\n",
       "      <td>16</td>\n",
       "      <td>2</td>\n",
       "      <td>500.0</td>\n",
       "      <td>130.0</td>\n",
       "      <td>4</td>\n",
       "      <td>1.0</td>\n",
       "      <td>2.0</td>\n",
       "      <td>2.0</td>\n",
       "      <td>Apartment</td>\n",
       "      <td>Entire home/apt</td>\n",
       "      <td>152</td>\n",
       "      <td>1</td>\n",
       "      <td>0</td>\n",
       "      <td>2010-04-26</td>\n",
       "      <td>strict_14_with_grace_period</td>\n",
       "      <td>6</td>\n",
       "    </tr>\n",
       "    <tr>\n",
       "      <th>4</th>\n",
       "      <td>130.0</td>\n",
       "      <td>Bondi Beach</td>\n",
       "      <td>151.273084</td>\n",
       "      <td>-33.891846</td>\n",
       "      <td>95.0</td>\n",
       "      <td>119</td>\n",
       "      <td>4</td>\n",
       "      <td>200.0</td>\n",
       "      <td>60.0</td>\n",
       "      <td>2</td>\n",
       "      <td>1.0</td>\n",
       "      <td>1.0</td>\n",
       "      <td>1.0</td>\n",
       "      <td>Apartment</td>\n",
       "      <td>Entire home/apt</td>\n",
       "      <td>94</td>\n",
       "      <td>1</td>\n",
       "      <td>1</td>\n",
       "      <td>2012-01-18</td>\n",
       "      <td>strict_14_with_grace_period</td>\n",
       "      <td>1</td>\n",
       "    </tr>\n",
       "  </tbody>\n",
       "</table>\n",
       "</div>"
      ],
      "text/plain": [
       "   price          city   longitude   latitude  review_scores_rating  \\\n",
       "0  111.0  Darlinghurst  151.216541 -33.880455                  88.0   \n",
       "1  700.0   Bondi Beach  151.274506 -33.889087                  95.0   \n",
       "2  190.0         Bondi  151.271029 -33.897393                  94.0   \n",
       "3  225.0   North Bondi  151.283553 -33.889633                  79.0   \n",
       "4  130.0   Bondi Beach  151.273084 -33.891846                  95.0   \n",
       "\n",
       "   number_of_reviews  minimum_nights  security_deposit  cleaning_fee  \\\n",
       "0                272               2               0.0           0.0   \n",
       "1                 53               4            1500.0         370.0   \n",
       "2                 12               2             500.0         150.0   \n",
       "3                 16               2             500.0         130.0   \n",
       "4                119               4             200.0          60.0   \n",
       "\n",
       "   accommodates  bathrooms  bedrooms  beds property_type        room_type  \\\n",
       "0             2        1.0       1.0   1.0     Apartment     Private room   \n",
       "1            11        3.0       5.0   7.0         House  Entire home/apt   \n",
       "2             4        1.0       2.0   3.0     Apartment  Entire home/apt   \n",
       "3             4        1.0       2.0   2.0     Apartment  Entire home/apt   \n",
       "4             2        1.0       1.0   1.0     Apartment  Entire home/apt   \n",
       "\n",
       "   availability_365  host_identity_verified  host_is_superhost host_since  \\\n",
       "0               285                       1                  0 2009-03-12   \n",
       "1               255                       1                  1 2010-08-14   \n",
       "2               233                       1                  0 2010-04-26   \n",
       "3               152                       1                  0 2010-04-26   \n",
       "4                94                       1                  1 2012-01-18   \n",
       "\n",
       "           cancellation_policy  city_code  \n",
       "0  strict_14_with_grace_period          3  \n",
       "1  strict_14_with_grace_period          1  \n",
       "2  strict_14_with_grace_period          0  \n",
       "3  strict_14_with_grace_period          6  \n",
       "4  strict_14_with_grace_period          1  "
      ]
     },
     "execution_count": 32,
     "metadata": {},
     "output_type": "execute_result"
    }
   ],
   "source": [
    "df.head()"
   ]
  },
  {
   "cell_type": "markdown",
   "metadata": {
    "colab_type": "text",
    "id": "NC_m5jM_qCbu"
   },
   "source": [
    "### Stratified Shuffle Split cross-validator\n",
    "\n",
    "Provides train/test indices to split data in train/test sets.\n",
    "\n",
    "This cross-validation object is a merge of StratifiedKFold and ShuffleSplit, which returns stratified randomized folds. The folds are made by preserving the percentage of samples for each class."
   ]
  },
  {
   "cell_type": "code",
   "execution_count": 33,
   "metadata": {
    "colab": {},
    "colab_type": "code",
    "id": "mwIMKxThw5LM"
   },
   "outputs": [],
   "source": [
    "## we will stratify according to city\n",
    "\n",
    "split = StratifiedShuffleSplit(n_splits=1, test_size=0.2, random_state=42)\n",
    "for train_index, test_index in split.split(df, df[\"city_code\"]):\n",
    "    del df[\"city_code\"]\n",
    "    strat_train_set = df.loc[train_index]\n",
    "    strat_test_set = df.loc[test_index]"
   ]
  },
  {
   "cell_type": "code",
   "execution_count": 34,
   "metadata": {
    "colab": {
     "base_uri": "https://localhost:8080/",
     "height": 225
    },
    "colab_type": "code",
    "executionInfo": {
     "elapsed": 428,
     "status": "ok",
     "timestamp": 1573950270547,
     "user": {
      "displayName": "Rajeev Ratan",
      "photoUrl": "https://lh3.googleusercontent.com/a-/AAuE7mCGo6aIm0tOcd5EhqWlYb0rime9sBvHS9YMpx0D2w=s64",
      "userId": "08597265227091462140"
     },
     "user_tz": 0
    },
    "id": "fXrt7-6zw5LV",
    "outputId": "ef1fe420-61cb-4427-f40c-5db5c510621d"
   },
   "outputs": [
    {
     "data": {
      "text/plain": [
       "city\n",
       "Bondi           198.745223\n",
       "Bondi Beach     199.879880\n",
       "Coogee          196.574627\n",
       "Darlinghurst    184.700000\n",
       "Manly           223.447368\n",
       "Newtown         117.938776\n",
       "North Bondi     248.857143\n",
       "Randwick        178.072993\n",
       "Surry Hills     175.732240\n",
       "Sydney          193.962687\n",
       "Name: price, dtype: float64"
      ]
     },
     "execution_count": 34,
     "metadata": {},
     "output_type": "execute_result"
    }
   ],
   "source": [
    "## Average price per area\n",
    "strat_test_set.groupby(\"city\")[\"price\"].mean()"
   ]
  },
  {
   "cell_type": "markdown",
   "metadata": {
    "colab_type": "text",
    "id": "a-Rbqr4Lw5Ll"
   },
   "source": [
    "# Further Data Exploration and Visualization"
   ]
  },
  {
   "cell_type": "code",
   "execution_count": 35,
   "metadata": {
    "colab": {},
    "colab_type": "code",
    "id": "e-PE8Bmuw5Ln"
   },
   "outputs": [],
   "source": [
    "traval = strat_train_set.copy() ##traval - training and validation set"
   ]
  },
  {
   "cell_type": "code",
   "execution_count": 36,
   "metadata": {
    "colab": {
     "base_uri": "https://localhost:8080/",
     "height": 315
    },
    "colab_type": "code",
    "executionInfo": {
     "elapsed": 1247,
     "status": "ok",
     "timestamp": 1573950295336,
     "user": {
      "displayName": "Rajeev Ratan",
      "photoUrl": "https://lh3.googleusercontent.com/a-/AAuE7mCGo6aIm0tOcd5EhqWlYb0rime9sBvHS9YMpx0D2w=s64",
      "userId": "08597265227091462140"
     },
     "user_tz": 0
    },
    "id": "_SN0cbvQw5L5",
    "outputId": "b74d46f4-ed5b-4f76-93df-47cae12872fa"
   },
   "outputs": [
    {
     "name": "stdout",
     "output_type": "stream",
     "text": [
      "Saving figure bad_visualization_plot\n"
     ]
    },
    {
     "data": {
      "image/png": "[encoded data removed]",
      "text/plain": [
       "<Figure size 432x288 with 1 Axes>"
      ]
     },
     "metadata": {
      "needs_background": "light"
     },
     "output_type": "display_data"
    }
   ],
   "source": [
    "# Let's plot our cordinates which is a way of visualizing a map of the locations\n",
    "\n",
    "traval.plot(kind=\"scatter\", x=\"longitude\", y=\"latitude\")\n",
    "save_fig(\"bad_visualization_plot\")"
   ]
  },
  {
   "cell_type": "code",
   "execution_count": 37,
   "metadata": {
    "colab": {
     "base_uri": "https://localhost:8080/",
     "height": 315
    },
    "colab_type": "code",
    "executionInfo": {
     "elapsed": 1427,
     "status": "ok",
     "timestamp": 1573950318253,
     "user": {
      "displayName": "Rajeev Ratan",
      "photoUrl": "https://lh3.googleusercontent.com/a-/AAuE7mCGo6aIm0tOcd5EhqWlYb0rime9sBvHS9YMpx0D2w=s64",
      "userId": "08597265227091462140"
     },
     "user_tz": 0
    },
    "id": "1CPPYjTqw5MJ",
    "outputId": "0450768b-ff44-40ba-acba-1dcc4a09902c"
   },
   "outputs": [
    {
     "name": "stdout",
     "output_type": "stream",
     "text": [
      "Saving figure better_visualization_plot\n"
     ]
    },
    {
     "data": {
      "image/png": "[encoded data removed]",
      "text/plain": [
       "<Figure size 432x288 with 1 Axes>"
      ]
     },
     "metadata": {
      "needs_background": "light"
     },
     "output_type": "display_data"
    }
   ],
   "source": [
    "traval.plot(kind=\"scatter\", x=\"longitude\", y=\"latitude\", alpha=0.1)\n",
    "save_fig(\"better_visualization_plot\")"
   ]
  },
  {
   "cell_type": "code",
   "execution_count": 38,
   "metadata": {
    "colab": {},
    "colab_type": "code",
    "id": "Hd4OBhY2w5Mc"
   },
   "outputs": [],
   "source": [
    "# Let's narrow our visual map and remove locations outside the main area\n",
    "traval_co = traval[(traval[\"longitude\"]>151.16)&(traval[\"latitude\"]<-33.75)].reset_index(drop=True)\n",
    "\n",
    "traval_co = traval_co[traval_co[\"latitude\"]>-33.95].reset_index(drop=True)\n",
    "\n",
    "# And only look at locations under $600\n",
    "traval_co = traval_co[traval_co[\"price\"]<600].reset_index(drop=True)"
   ]
  },
  {
   "cell_type": "markdown",
   "metadata": {
    "colab_type": "text",
    "id": "HGXo15xYq-2O"
   },
   "source": [
    "The argument `sharex=False` fixes a display bug (the x-axis values and legend were not displayed). This is a temporary fix (see: https://github.com/pandas-dev/pandas/issues/10611). Thanks to Wilmer Arellano for pointing it out."
   ]
  },
  {
   "cell_type": "code",
   "execution_count": 39,
   "metadata": {
    "colab": {
     "base_uri": "https://localhost:8080/",
     "height": 531
    },
    "colab_type": "code",
    "executionInfo": {
     "elapsed": 2980,
     "status": "ok",
     "timestamp": 1573950373586,
     "user": {
      "displayName": "Rajeev Ratan",
      "photoUrl": "https://lh3.googleusercontent.com/a-/AAuE7mCGo6aIm0tOcd5EhqWlYb0rime9sBvHS9YMpx0D2w=s64",
      "userId": "08597265227091462140"
     },
     "user_tz": 0
    },
    "id": "E2r10b4ew5Mk",
    "outputId": "07d1abac-0195-44ee-9a0f-daee60a3924f"
   },
   "outputs": [
    {
     "name": "stdout",
     "output_type": "stream",
     "text": [
      "Saving figure housing_prices_scatterplot\n"
     ]
    },
    {
     "data": {
      "image/png": "[encoded data removed]",
      "text/plain": [
       "<Figure size 720x504 with 2 Axes>"
      ]
     },
     "metadata": {
      "needs_background": "light"
     },
     "output_type": "display_data"
    }
   ],
   "source": [
    "traval_co.plot(kind=\"scatter\", x=\"longitude\", y=\"latitude\", alpha=0.5,\n",
    "    s=traval_co[\"number_of_reviews\"]/2, label=\"Reviews\", figsize=(10,7),\n",
    "    c=\"price\", cmap=plt.get_cmap(\"jet\"), colorbar=True,\n",
    "    sharex=False)\n",
    "plt.legend()\n",
    "save_fig(\"housing_prices_scatterplot\")"
   ]
  },
  {
   "cell_type": "code",
   "execution_count": 40,
   "metadata": {
    "colab": {
     "base_uri": "https://localhost:8080/",
     "height": 35
    },
    "colab_type": "code",
    "executionInfo": {
     "elapsed": 505,
     "status": "ok",
     "timestamp": 1573950405217,
     "user": {
      "displayName": "Rajeev Ratan",
      "photoUrl": "https://lh3.googleusercontent.com/a-/AAuE7mCGo6aIm0tOcd5EhqWlYb0rime9sBvHS9YMpx0D2w=s64",
      "userId": "08597265227091462140"
     },
     "user_tz": 0
    },
    "id": "BDkwytJqwSW2",
    "outputId": "441427ef-ee84-4565-8ea7-c05dc0c58406"
   },
   "outputs": [
    {
     "data": {
      "text/plain": [
       "(6230, 20)"
      ]
     },
     "execution_count": 40,
     "metadata": {},
     "output_type": "execute_result"
    }
   ],
   "source": [
    "traval_co.shape"
   ]
  },
  {
   "cell_type": "code",
   "execution_count": 41,
   "metadata": {
    "colab": {
     "base_uri": "https://localhost:8080/",
     "height": 621
    },
    "colab_type": "code",
    "executionInfo": {
     "elapsed": 1095,
     "status": "ok",
     "timestamp": 1573950421928,
     "user": {
      "displayName": "Rajeev Ratan",
      "photoUrl": "https://lh3.googleusercontent.com/a-/AAuE7mCGo6aIm0tOcd5EhqWlYb0rime9sBvHS9YMpx0D2w=s64",
      "userId": "08597265227091462140"
     },
     "user_tz": 0
    },
    "id": "wpYvVA5Sw5Mt",
    "outputId": "02c0154f-593e-4bde-883b-dd57f5b058b3"
   },
   "outputs": [
    {
     "data": {
      "text/plain": [
       "Text(0.5, 1.0, 'Heatmap of Correlation Matrix')"
      ]
     },
     "execution_count": 41,
     "metadata": {},
     "output_type": "execute_result"
    },
    {
     "data": {
      "image/png": "[encoded data removed]",
      "text/plain": [
       "<Figure size 720x720 with 2 Axes>"
      ]
     },
     "metadata": {
      "needs_background": "light"
     },
     "output_type": "display_data"
    }
   ],
   "source": [
    "# Now let's explore our correlation matrix\n",
    "\n",
    "corr_matrix = traval.corr()\n",
    "\n",
    "# Heatmap\n",
    "plt.figure(figsize = (10,10))\n",
    "cmap = sns.diverging_palette(220,10,as_cmap = True)\n",
    "\n",
    "#Deep dive into diverging_pattern\n",
    "sns.heatmap(corr_matrix, xticklabels=corr_matrix.columns.values,\n",
    "           yticklabels=corr_matrix.columns.values, cmap=cmap, vmax=1, center=0, square=True, linewidths=.5, cbar_kws={\"shrink\": .82})\n",
    "plt.title('Heatmap of Correlation Matrix')"
   ]
  },
  {
   "cell_type": "code",
   "execution_count": 42,
   "metadata": {
    "colab": {
     "base_uri": "https://localhost:8080/",
     "height": 295
    },
    "colab_type": "code",
    "executionInfo": {
     "elapsed": 476,
     "status": "ok",
     "timestamp": 1573950488984,
     "user": {
      "displayName": "Rajeev Ratan",
      "photoUrl": "https://lh3.googleusercontent.com/a-/AAuE7mCGo6aIm0tOcd5EhqWlYb0rime9sBvHS9YMpx0D2w=s64",
      "userId": "08597265227091462140"
     },
     "user_tz": 0
    },
    "id": "HHtMTAziw5My",
    "outputId": "ca6903d7-722d-47c8-a232-5e2007b8db64"
   },
   "outputs": [
    {
     "data": {
      "text/plain": [
       "price                     1.000000\n",
       "accommodates              0.674368\n",
       "bedrooms                  0.668963\n",
       "beds                      0.582378\n",
       "bathrooms                 0.553773\n",
       "cleaning_fee              0.529834\n",
       "security_deposit          0.469423\n",
       "longitude                 0.157902\n",
       "availability_365          0.148263\n",
       "latitude                  0.131160\n",
       "review_scores_rating      0.067066\n",
       "host_identity_verified    0.048821\n",
       "minimum_nights            0.022103\n",
       "host_is_superhost        -0.016695\n",
       "number_of_reviews        -0.064011\n",
       "Name: price, dtype: float64"
      ]
     },
     "execution_count": 42,
     "metadata": {},
     "output_type": "execute_result"
    }
   ],
   "source": [
    "corr_matrix[\"price\"].sort_values(ascending=False)"
   ]
  },
  {
   "cell_type": "code",
   "execution_count": 43,
   "metadata": {
    "colab": {
     "base_uri": "https://localhost:8080/",
     "height": 603
    },
    "colab_type": "code",
    "executionInfo": {
     "elapsed": 11469,
     "status": "ok",
     "timestamp": 1573950517620,
     "user": {
      "displayName": "Rajeev Ratan",
      "photoUrl": "https://lh3.googleusercontent.com/a-/AAuE7mCGo6aIm0tOcd5EhqWlYb0rime9sBvHS9YMpx0D2w=s64",
      "userId": "08597265227091462140"
     },
     "user_tz": 0
    },
    "id": "v3Po_K3Lw5M7",
    "outputId": "ba8a993a-2f06-4091-de95-324a73dfca2f"
   },
   "outputs": [
    {
     "name": "stdout",
     "output_type": "stream",
     "text": [
      "Saving figure scatter_matrix_plot\n"
     ]
    },
    {
     "data": {
      "image/png": "[encoded data removed]",
      "text/plain": [
       "<Figure size 864x576 with 25 Axes>"
      ]
     },
     "metadata": {
      "needs_background": "light"
     },
     "output_type": "display_data"
    }
   ],
   "source": [
    "# from pandas.tools.plotting import scatter_matrix # For older versions of Pandas\n",
    "\n",
    "\n",
    "attributes = [\"price\", \"accommodates\", \"bedrooms\",\n",
    "              \"cleaning_fee\",\"review_scores_rating\"]\n",
    "scatter_matrix(traval[attributes], figsize=(12, 8))\n",
    "save_fig(\"scatter_matrix_plot\")"
   ]
  },
  {
   "cell_type": "code",
   "execution_count": 44,
   "metadata": {
    "colab": {
     "base_uri": "https://localhost:8080/",
     "height": 315
    },
    "colab_type": "code",
    "executionInfo": {
     "elapsed": 1636,
     "status": "ok",
     "timestamp": 1573950554347,
     "user": {
      "displayName": "Rajeev Ratan",
      "photoUrl": "https://lh3.googleusercontent.com/a-/AAuE7mCGo6aIm0tOcd5EhqWlYb0rime9sBvHS9YMpx0D2w=s64",
      "userId": "08597265227091462140"
     },
     "user_tz": 0
    },
    "id": "YtjGL1F_w5NR",
    "outputId": "66c24d37-0d09-4129-809c-46bbf2830398"
   },
   "outputs": [
    {
     "name": "stdout",
     "output_type": "stream",
     "text": [
      "Saving figure income_vs_house_value_scatterplot\n"
     ]
    },
    {
     "data": {
      "image/png": "[encoded data removed]",
      "text/plain": [
       "<Figure size 432x288 with 1 Axes>"
      ]
     },
     "metadata": {
      "needs_background": "light"
     },
     "output_type": "display_data"
    }
   ],
   "source": [
    "traval.plot(kind=\"scatter\", x=\"accommodates\", y=\"price\", alpha=0.1)\n",
    "save_fig(\"income_vs_house_value_scatterplot\")"
   ]
  },
  {
   "cell_type": "code",
   "execution_count": 45,
   "metadata": {
    "colab": {
     "base_uri": "https://localhost:8080/",
     "height": 309
    },
    "colab_type": "code",
    "executionInfo": {
     "elapsed": 466,
     "status": "ok",
     "timestamp": 1573950572129,
     "user": {
      "displayName": "Rajeev Ratan",
      "photoUrl": "https://lh3.googleusercontent.com/a-/AAuE7mCGo6aIm0tOcd5EhqWlYb0rime9sBvHS9YMpx0D2w=s64",
      "userId": "08597265227091462140"
     },
     "user_tz": 0
    },
    "id": "sOCF-KD_w5Nh",
    "outputId": "8637deab-4292-4ae9-ed8c-9c489dd31aba"
   },
   "outputs": [
    {
     "data": {
      "text/html": [
       "<div>\n",
       "<style scoped>\n",
       "    .dataframe tbody tr th:only-of-type {\n",
       "        vertical-align: middle;\n",
       "    }\n",
       "\n",
       "    .dataframe tbody tr th {\n",
       "        vertical-align: top;\n",
       "    }\n",
       "\n",
       "    .dataframe thead th {\n",
       "        text-align: right;\n",
       "    }\n",
       "</style>\n",
       "<table border=\"1\" class=\"dataframe\">\n",
       "  <thead>\n",
       "    <tr style=\"text-align: right;\">\n",
       "      <th></th>\n",
       "      <th>price</th>\n",
       "      <th>city</th>\n",
       "      <th>longitude</th>\n",
       "      <th>latitude</th>\n",
       "      <th>review_scores_rating</th>\n",
       "      <th>number_of_reviews</th>\n",
       "      <th>minimum_nights</th>\n",
       "      <th>security_deposit</th>\n",
       "      <th>cleaning_fee</th>\n",
       "      <th>accommodates</th>\n",
       "      <th>bathrooms</th>\n",
       "      <th>bedrooms</th>\n",
       "      <th>beds</th>\n",
       "      <th>property_type</th>\n",
       "      <th>room_type</th>\n",
       "      <th>availability_365</th>\n",
       "      <th>host_identity_verified</th>\n",
       "      <th>host_is_superhost</th>\n",
       "      <th>host_since</th>\n",
       "      <th>cancellation_policy</th>\n",
       "    </tr>\n",
       "  </thead>\n",
       "  <tbody>\n",
       "    <tr>\n",
       "      <th>5484</th>\n",
       "      <td>200.0</td>\n",
       "      <td>Newtown</td>\n",
       "      <td>151.178552</td>\n",
       "      <td>-33.907150</td>\n",
       "      <td>96.0</td>\n",
       "      <td>61</td>\n",
       "      <td>2</td>\n",
       "      <td>250.0</td>\n",
       "      <td>85.0</td>\n",
       "      <td>4</td>\n",
       "      <td>1.0</td>\n",
       "      <td>2.0</td>\n",
       "      <td>2.0</td>\n",
       "      <td>House</td>\n",
       "      <td>Entire home/apt</td>\n",
       "      <td>127</td>\n",
       "      <td>1</td>\n",
       "      <td>0</td>\n",
       "      <td>2016-01-22</td>\n",
       "      <td>moderate</td>\n",
       "    </tr>\n",
       "    <tr>\n",
       "      <th>1267</th>\n",
       "      <td>183.0</td>\n",
       "      <td>Randwick</td>\n",
       "      <td>151.249030</td>\n",
       "      <td>-33.906190</td>\n",
       "      <td>97.0</td>\n",
       "      <td>6</td>\n",
       "      <td>4</td>\n",
       "      <td>0.0</td>\n",
       "      <td>20.0</td>\n",
       "      <td>2</td>\n",
       "      <td>1.0</td>\n",
       "      <td>1.0</td>\n",
       "      <td>1.0</td>\n",
       "      <td>Apartment</td>\n",
       "      <td>Private room</td>\n",
       "      <td>0</td>\n",
       "      <td>1</td>\n",
       "      <td>0</td>\n",
       "      <td>2014-03-28</td>\n",
       "      <td>moderate</td>\n",
       "    </tr>\n",
       "    <tr>\n",
       "      <th>6658</th>\n",
       "      <td>175.0</td>\n",
       "      <td>Manly</td>\n",
       "      <td>151.288491</td>\n",
       "      <td>-33.802074</td>\n",
       "      <td>100.0</td>\n",
       "      <td>2</td>\n",
       "      <td>2</td>\n",
       "      <td>0.0</td>\n",
       "      <td>40.0</td>\n",
       "      <td>2</td>\n",
       "      <td>1.0</td>\n",
       "      <td>1.0</td>\n",
       "      <td>1.0</td>\n",
       "      <td>Apartment</td>\n",
       "      <td>Entire home/apt</td>\n",
       "      <td>0</td>\n",
       "      <td>1</td>\n",
       "      <td>0</td>\n",
       "      <td>2014-01-09</td>\n",
       "      <td>strict_14_with_grace_period</td>\n",
       "    </tr>\n",
       "    <tr>\n",
       "      <th>2522</th>\n",
       "      <td>85.0</td>\n",
       "      <td>Randwick</td>\n",
       "      <td>151.236423</td>\n",
       "      <td>-33.913614</td>\n",
       "      <td>94.0</td>\n",
       "      <td>20</td>\n",
       "      <td>3</td>\n",
       "      <td>0.0</td>\n",
       "      <td>0.0</td>\n",
       "      <td>2</td>\n",
       "      <td>1.0</td>\n",
       "      <td>1.0</td>\n",
       "      <td>1.0</td>\n",
       "      <td>Apartment</td>\n",
       "      <td>Private room</td>\n",
       "      <td>90</td>\n",
       "      <td>0</td>\n",
       "      <td>0</td>\n",
       "      <td>2015-11-22</td>\n",
       "      <td>flexible</td>\n",
       "    </tr>\n",
       "    <tr>\n",
       "      <th>722</th>\n",
       "      <td>80.0</td>\n",
       "      <td>Coogee</td>\n",
       "      <td>151.259342</td>\n",
       "      <td>-33.918435</td>\n",
       "      <td>92.0</td>\n",
       "      <td>139</td>\n",
       "      <td>30</td>\n",
       "      <td>0.0</td>\n",
       "      <td>0.0</td>\n",
       "      <td>3</td>\n",
       "      <td>1.0</td>\n",
       "      <td>1.0</td>\n",
       "      <td>2.0</td>\n",
       "      <td>Apartment</td>\n",
       "      <td>Private room</td>\n",
       "      <td>0</td>\n",
       "      <td>1</td>\n",
       "      <td>0</td>\n",
       "      <td>2014-01-07</td>\n",
       "      <td>strict_14_with_grace_period</td>\n",
       "    </tr>\n",
       "  </tbody>\n",
       "</table>\n",
       "</div>"
      ],
      "text/plain": [
       "      price      city   longitude   latitude  review_scores_rating  \\\n",
       "5484  200.0   Newtown  151.178552 -33.907150                  96.0   \n",
       "1267  183.0  Randwick  151.249030 -33.906190                  97.0   \n",
       "6658  175.0     Manly  151.288491 -33.802074                 100.0   \n",
       "2522   85.0  Randwick  151.236423 -33.913614                  94.0   \n",
       "722    80.0    Coogee  151.259342 -33.918435                  92.0   \n",
       "\n",
       "      number_of_reviews  minimum_nights  security_deposit  cleaning_fee  \\\n",
       "5484                 61               2             250.0          85.0   \n",
       "1267                  6               4               0.0          20.0   \n",
       "6658                  2               2               0.0          40.0   \n",
       "2522                 20               3               0.0           0.0   \n",
       "722                 139              30               0.0           0.0   \n",
       "\n",
       "      accommodates  bathrooms  bedrooms  beds property_type        room_type  \\\n",
       "5484             4        1.0       2.0   2.0         House  Entire home/apt   \n",
       "1267             2        1.0       1.0   1.0     Apartment     Private room   \n",
       "6658             2        1.0       1.0   1.0     Apartment  Entire home/apt   \n",
       "2522             2        1.0       1.0   1.0     Apartment     Private room   \n",
       "722              3        1.0       1.0   2.0     Apartment     Private room   \n",
       "\n",
       "      availability_365  host_identity_verified  host_is_superhost host_since  \\\n",
       "5484               127                       1                  0 2016-01-22   \n",
       "1267                 0                       1                  0 2014-03-28   \n",
       "6658                 0                       1                  0 2014-01-09   \n",
       "2522                90                       0                  0 2015-11-22   \n",
       "722                  0                       1                  0 2014-01-07   \n",
       "\n",
       "              cancellation_policy  \n",
       "5484                     moderate  \n",
       "1267                     moderate  \n",
       "6658  strict_14_with_grace_period  \n",
       "2522                     flexible  \n",
       "722   strict_14_with_grace_period  "
      ]
     },
     "execution_count": 45,
     "metadata": {},
     "output_type": "execute_result"
    }
   ],
   "source": [
    "traval.head()"
   ]
  },
  {
   "cell_type": "code",
   "execution_count": 46,
   "metadata": {
    "colab": {},
    "colab_type": "code",
    "id": "4oF78gHzw5Nw"
   },
   "outputs": [],
   "source": [
    "#### Now let's create some new features\n",
    "\n",
    "traval[\"bedrooms_per_person\"] = traval[\"bedrooms\"]/traval[\"accommodates\"]\n",
    "traval[\"bathrooms_per_person\"] = traval[\"bathrooms\"]/traval[\"accommodates\"]\n",
    "traval['host_since'] = pd.to_datetime(traval['host_since'])\n",
    "traval['days_on_airbnb'] = (pd.to_datetime('today') - traval['host_since']).dt.days"
   ]
  },
  {
   "cell_type": "code",
   "execution_count": 47,
   "metadata": {
    "colab": {
     "base_uri": "https://localhost:8080/",
     "height": 309
    },
    "colab_type": "code",
    "executionInfo": {
     "elapsed": 409,
     "status": "ok",
     "timestamp": 1573950615106,
     "user": {
      "displayName": "Rajeev Ratan",
      "photoUrl": "https://lh3.googleusercontent.com/a-/AAuE7mCGo6aIm0tOcd5EhqWlYb0rime9sBvHS9YMpx0D2w=s64",
      "userId": "08597265227091462140"
     },
     "user_tz": 0
    },
    "id": "CNAcLg-csHJV",
    "outputId": "322af103-6d66-403e-d209-b133b843fb8c"
   },
   "outputs": [
    {
     "data": {
      "text/html": [
       "<div>\n",
       "<style scoped>\n",
       "    .dataframe tbody tr th:only-of-type {\n",
       "        vertical-align: middle;\n",
       "    }\n",
       "\n",
       "    .dataframe tbody tr th {\n",
       "        vertical-align: top;\n",
       "    }\n",
       "\n",
       "    .dataframe thead th {\n",
       "        text-align: right;\n",
       "    }\n",
       "</style>\n",
       "<table border=\"1\" class=\"dataframe\">\n",
       "  <thead>\n",
       "    <tr style=\"text-align: right;\">\n",
       "      <th></th>\n",
       "      <th>price</th>\n",
       "      <th>city</th>\n",
       "      <th>longitude</th>\n",
       "      <th>latitude</th>\n",
       "      <th>review_scores_rating</th>\n",
       "      <th>number_of_reviews</th>\n",
       "      <th>minimum_nights</th>\n",
       "      <th>security_deposit</th>\n",
       "      <th>cleaning_fee</th>\n",
       "      <th>accommodates</th>\n",
       "      <th>bathrooms</th>\n",
       "      <th>bedrooms</th>\n",
       "      <th>beds</th>\n",
       "      <th>property_type</th>\n",
       "      <th>room_type</th>\n",
       "      <th>availability_365</th>\n",
       "      <th>host_identity_verified</th>\n",
       "      <th>host_is_superhost</th>\n",
       "      <th>host_since</th>\n",
       "      <th>cancellation_policy</th>\n",
       "      <th>bedrooms_per_person</th>\n",
       "      <th>bathrooms_per_person</th>\n",
       "      <th>days_on_airbnb</th>\n",
       "    </tr>\n",
       "  </thead>\n",
       "  <tbody>\n",
       "    <tr>\n",
       "      <th>5484</th>\n",
       "      <td>200.0</td>\n",
       "      <td>Newtown</td>\n",
       "      <td>151.178552</td>\n",
       "      <td>-33.907150</td>\n",
       "      <td>96.0</td>\n",
       "      <td>61</td>\n",
       "      <td>2</td>\n",
       "      <td>250.0</td>\n",
       "      <td>85.0</td>\n",
       "      <td>4</td>\n",
       "      <td>1.0</td>\n",
       "      <td>2.0</td>\n",
       "      <td>2.0</td>\n",
       "      <td>House</td>\n",
       "      <td>Entire home/apt</td>\n",
       "      <td>127</td>\n",
       "      <td>1</td>\n",
       "      <td>0</td>\n",
       "      <td>2016-01-22</td>\n",
       "      <td>moderate</td>\n",
       "      <td>0.500000</td>\n",
       "      <td>0.250000</td>\n",
       "      <td>1831.0</td>\n",
       "    </tr>\n",
       "    <tr>\n",
       "      <th>1267</th>\n",
       "      <td>183.0</td>\n",
       "      <td>Randwick</td>\n",
       "      <td>151.249030</td>\n",
       "      <td>-33.906190</td>\n",
       "      <td>97.0</td>\n",
       "      <td>6</td>\n",
       "      <td>4</td>\n",
       "      <td>0.0</td>\n",
       "      <td>20.0</td>\n",
       "      <td>2</td>\n",
       "      <td>1.0</td>\n",
       "      <td>1.0</td>\n",
       "      <td>1.0</td>\n",
       "      <td>Apartment</td>\n",
       "      <td>Private room</td>\n",
       "      <td>0</td>\n",
       "      <td>1</td>\n",
       "      <td>0</td>\n",
       "      <td>2014-03-28</td>\n",
       "      <td>moderate</td>\n",
       "      <td>0.500000</td>\n",
       "      <td>0.500000</td>\n",
       "      <td>2496.0</td>\n",
       "    </tr>\n",
       "    <tr>\n",
       "      <th>6658</th>\n",
       "      <td>175.0</td>\n",
       "      <td>Manly</td>\n",
       "      <td>151.288491</td>\n",
       "      <td>-33.802074</td>\n",
       "      <td>100.0</td>\n",
       "      <td>2</td>\n",
       "      <td>2</td>\n",
       "      <td>0.0</td>\n",
       "      <td>40.0</td>\n",
       "      <td>2</td>\n",
       "      <td>1.0</td>\n",
       "      <td>1.0</td>\n",
       "      <td>1.0</td>\n",
       "      <td>Apartment</td>\n",
       "      <td>Entire home/apt</td>\n",
       "      <td>0</td>\n",
       "      <td>1</td>\n",
       "      <td>0</td>\n",
       "      <td>2014-01-09</td>\n",
       "      <td>strict_14_with_grace_period</td>\n",
       "      <td>0.500000</td>\n",
       "      <td>0.500000</td>\n",
       "      <td>2574.0</td>\n",
       "    </tr>\n",
       "    <tr>\n",
       "      <th>2522</th>\n",
       "      <td>85.0</td>\n",
       "      <td>Randwick</td>\n",
       "      <td>151.236423</td>\n",
       "      <td>-33.913614</td>\n",
       "      <td>94.0</td>\n",
       "      <td>20</td>\n",
       "      <td>3</td>\n",
       "      <td>0.0</td>\n",
       "      <td>0.0</td>\n",
       "      <td>2</td>\n",
       "      <td>1.0</td>\n",
       "      <td>1.0</td>\n",
       "      <td>1.0</td>\n",
       "      <td>Apartment</td>\n",
       "      <td>Private room</td>\n",
       "      <td>90</td>\n",
       "      <td>0</td>\n",
       "      <td>0</td>\n",
       "      <td>2015-11-22</td>\n",
       "      <td>flexible</td>\n",
       "      <td>0.500000</td>\n",
       "      <td>0.500000</td>\n",
       "      <td>1892.0</td>\n",
       "    </tr>\n",
       "    <tr>\n",
       "      <th>722</th>\n",
       "      <td>80.0</td>\n",
       "      <td>Coogee</td>\n",
       "      <td>151.259342</td>\n",
       "      <td>-33.918435</td>\n",
       "      <td>92.0</td>\n",
       "      <td>139</td>\n",
       "      <td>30</td>\n",
       "      <td>0.0</td>\n",
       "      <td>0.0</td>\n",
       "      <td>3</td>\n",
       "      <td>1.0</td>\n",
       "      <td>1.0</td>\n",
       "      <td>2.0</td>\n",
       "      <td>Apartment</td>\n",
       "      <td>Private room</td>\n",
       "      <td>0</td>\n",
       "      <td>1</td>\n",
       "      <td>0</td>\n",
       "      <td>2014-01-07</td>\n",
       "      <td>strict_14_with_grace_period</td>\n",
       "      <td>0.333333</td>\n",
       "      <td>0.333333</td>\n",
       "      <td>2576.0</td>\n",
       "    </tr>\n",
       "  </tbody>\n",
       "</table>\n",
       "</div>"
      ],
      "text/plain": [
       "      price      city   longitude   latitude  review_scores_rating  \\\n",
       "5484  200.0   Newtown  151.178552 -33.907150                  96.0   \n",
       "1267  183.0  Randwick  151.249030 -33.906190                  97.0   \n",
       "6658  175.0     Manly  151.288491 -33.802074                 100.0   \n",
       "2522   85.0  Randwick  151.236423 -33.913614                  94.0   \n",
       "722    80.0    Coogee  151.259342 -33.918435                  92.0   \n",
       "\n",
       "      number_of_reviews  minimum_nights  security_deposit  cleaning_fee  \\\n",
       "5484                 61               2             250.0          85.0   \n",
       "1267                  6               4               0.0          20.0   \n",
       "6658                  2               2               0.0          40.0   \n",
       "2522                 20               3               0.0           0.0   \n",
       "722                 139              30               0.0           0.0   \n",
       "\n",
       "      accommodates  bathrooms  bedrooms  beds property_type        room_type  \\\n",
       "5484             4        1.0       2.0   2.0         House  Entire home/apt   \n",
       "1267             2        1.0       1.0   1.0     Apartment     Private room   \n",
       "6658             2        1.0       1.0   1.0     Apartment  Entire home/apt   \n",
       "2522             2        1.0       1.0   1.0     Apartment     Private room   \n",
       "722              3        1.0       1.0   2.0     Apartment     Private room   \n",
       "\n",
       "      availability_365  host_identity_verified  host_is_superhost host_since  \\\n",
       "5484               127                       1                  0 2016-01-22   \n",
       "1267                 0                       1                  0 2014-03-28   \n",
       "6658                 0                       1                  0 2014-01-09   \n",
       "2522                90                       0                  0 2015-11-22   \n",
       "722                  0                       1                  0 2014-01-07   \n",
       "\n",
       "              cancellation_policy  bedrooms_per_person  bathrooms_per_person  \\\n",
       "5484                     moderate             0.500000              0.250000   \n",
       "1267                     moderate             0.500000              0.500000   \n",
       "6658  strict_14_with_grace_period             0.500000              0.500000   \n",
       "2522                     flexible             0.500000              0.500000   \n",
       "722   strict_14_with_grace_period             0.333333              0.333333   \n",
       "\n",
       "      days_on_airbnb  \n",
       "5484          1831.0  \n",
       "1267          2496.0  \n",
       "6658          2574.0  \n",
       "2522          1892.0  \n",
       "722           2576.0  "
      ]
     },
     "execution_count": 47,
     "metadata": {},
     "output_type": "execute_result"
    }
   ],
   "source": [
    "traval.head()"
   ]
  },
  {
   "cell_type": "markdown",
   "metadata": {
    "colab_type": "text",
    "id": "3cXZ9PZWw5N1"
   },
   "source": [
    "# Prepare the data for Machine Learning algorithms"
   ]
  },
  {
   "cell_type": "code",
   "execution_count": 48,
   "metadata": {
    "colab": {},
    "colab_type": "code",
    "id": "7Dl2cqXBw5N4"
   },
   "outputs": [],
   "source": [
    "## Here I will forget about traval and use a more formal way of introducing...\n",
    "## ..preprocessing using pipelines"
   ]
  },
  {
   "cell_type": "code",
   "execution_count": 49,
   "metadata": {
    "colab": {},
    "colab_type": "code",
    "id": "gFyYERMgw5N9"
   },
   "outputs": [],
   "source": [
    "# Firstly we remove our price (or labels from our travel dataset)\n",
    "X  = traval.copy().drop(\"price\", axis=1) # drop labels for training set"
   ]
  },
  {
   "cell_type": "code",
   "execution_count": 50,
   "metadata": {
    "colab": {
     "base_uri": "https://localhost:8080/",
     "height": 326
    },
    "colab_type": "code",
    "executionInfo": {
     "elapsed": 421,
     "status": "ok",
     "timestamp": 1573951615295,
     "user": {
      "displayName": "Rajeev Ratan",
      "photoUrl": "https://lh3.googleusercontent.com/a-/AAuE7mCGo6aIm0tOcd5EhqWlYb0rime9sBvHS9YMpx0D2w=s64",
      "userId": "08597265227091462140"
     },
     "user_tz": 0
    },
    "id": "7etxdWRJw5OC",
    "outputId": "e0cdad95-9894-41eb-acf1-b32b0810d5b7"
   },
   "outputs": [
    {
     "name": "stdout",
     "output_type": "stream",
     "text": [
      "(5, 22)\n"
     ]
    },
    {
     "data": {
      "text/html": [
       "<div>\n",
       "<style scoped>\n",
       "    .dataframe tbody tr th:only-of-type {\n",
       "        vertical-align: middle;\n",
       "    }\n",
       "\n",
       "    .dataframe tbody tr th {\n",
       "        vertical-align: top;\n",
       "    }\n",
       "\n",
       "    .dataframe thead th {\n",
       "        text-align: right;\n",
       "    }\n",
       "</style>\n",
       "<table border=\"1\" class=\"dataframe\">\n",
       "  <thead>\n",
       "    <tr style=\"text-align: right;\">\n",
       "      <th></th>\n",
       "      <th>city</th>\n",
       "      <th>longitude</th>\n",
       "      <th>latitude</th>\n",
       "      <th>review_scores_rating</th>\n",
       "      <th>number_of_reviews</th>\n",
       "      <th>minimum_nights</th>\n",
       "      <th>security_deposit</th>\n",
       "      <th>cleaning_fee</th>\n",
       "      <th>accommodates</th>\n",
       "      <th>bathrooms</th>\n",
       "      <th>bedrooms</th>\n",
       "      <th>beds</th>\n",
       "      <th>property_type</th>\n",
       "      <th>room_type</th>\n",
       "      <th>availability_365</th>\n",
       "      <th>host_identity_verified</th>\n",
       "      <th>host_is_superhost</th>\n",
       "      <th>host_since</th>\n",
       "      <th>cancellation_policy</th>\n",
       "      <th>bedrooms_per_person</th>\n",
       "      <th>bathrooms_per_person</th>\n",
       "      <th>days_on_airbnb</th>\n",
       "    </tr>\n",
       "  </thead>\n",
       "  <tbody>\n",
       "    <tr>\n",
       "      <th>5594</th>\n",
       "      <td>Randwick</td>\n",
       "      <td>151.238806</td>\n",
       "      <td>-33.913834</td>\n",
       "      <td>NaN</td>\n",
       "      <td>0</td>\n",
       "      <td>2</td>\n",
       "      <td>800.0</td>\n",
       "      <td>80.0</td>\n",
       "      <td>6</td>\n",
       "      <td>1.0</td>\n",
       "      <td>3.0</td>\n",
       "      <td>3.0</td>\n",
       "      <td>House</td>\n",
       "      <td>Entire home/apt</td>\n",
       "      <td>0</td>\n",
       "      <td>0</td>\n",
       "      <td>0</td>\n",
       "      <td>2013-11-27</td>\n",
       "      <td>moderate</td>\n",
       "      <td>0.500000</td>\n",
       "      <td>0.166667</td>\n",
       "      <td>2617.0</td>\n",
       "    </tr>\n",
       "    <tr>\n",
       "      <th>5439</th>\n",
       "      <td>Newtown</td>\n",
       "      <td>151.184469</td>\n",
       "      <td>-33.894582</td>\n",
       "      <td>NaN</td>\n",
       "      <td>0</td>\n",
       "      <td>3</td>\n",
       "      <td>5000.0</td>\n",
       "      <td>100.0</td>\n",
       "      <td>11</td>\n",
       "      <td>2.0</td>\n",
       "      <td>3.0</td>\n",
       "      <td>4.0</td>\n",
       "      <td>Apartment</td>\n",
       "      <td>Entire home/apt</td>\n",
       "      <td>0</td>\n",
       "      <td>1</td>\n",
       "      <td>0</td>\n",
       "      <td>2014-07-16</td>\n",
       "      <td>strict_14_with_grace_period</td>\n",
       "      <td>0.272727</td>\n",
       "      <td>0.181818</td>\n",
       "      <td>2386.0</td>\n",
       "    </tr>\n",
       "    <tr>\n",
       "      <th>3847</th>\n",
       "      <td>Bondi Beach</td>\n",
       "      <td>151.273077</td>\n",
       "      <td>-33.895142</td>\n",
       "      <td>NaN</td>\n",
       "      <td>0</td>\n",
       "      <td>7</td>\n",
       "      <td>271.0</td>\n",
       "      <td>27.0</td>\n",
       "      <td>2</td>\n",
       "      <td>1.0</td>\n",
       "      <td>1.0</td>\n",
       "      <td>1.0</td>\n",
       "      <td>Apartment</td>\n",
       "      <td>Private room</td>\n",
       "      <td>0</td>\n",
       "      <td>0</td>\n",
       "      <td>0</td>\n",
       "      <td>2015-12-07</td>\n",
       "      <td>strict_14_with_grace_period</td>\n",
       "      <td>0.500000</td>\n",
       "      <td>0.500000</td>\n",
       "      <td>1877.0</td>\n",
       "    </tr>\n",
       "    <tr>\n",
       "      <th>1312</th>\n",
       "      <td>Randwick</td>\n",
       "      <td>151.245793</td>\n",
       "      <td>-33.920622</td>\n",
       "      <td>NaN</td>\n",
       "      <td>0</td>\n",
       "      <td>3</td>\n",
       "      <td>0.0</td>\n",
       "      <td>80.0</td>\n",
       "      <td>3</td>\n",
       "      <td>1.0</td>\n",
       "      <td>2.0</td>\n",
       "      <td>2.0</td>\n",
       "      <td>Apartment</td>\n",
       "      <td>Entire home/apt</td>\n",
       "      <td>0</td>\n",
       "      <td>0</td>\n",
       "      <td>0</td>\n",
       "      <td>2015-10-02</td>\n",
       "      <td>strict_14_with_grace_period</td>\n",
       "      <td>0.666667</td>\n",
       "      <td>0.333333</td>\n",
       "      <td>1943.0</td>\n",
       "    </tr>\n",
       "    <tr>\n",
       "      <th>6194</th>\n",
       "      <td>Bondi Beach</td>\n",
       "      <td>151.273411</td>\n",
       "      <td>-33.888113</td>\n",
       "      <td>NaN</td>\n",
       "      <td>0</td>\n",
       "      <td>10</td>\n",
       "      <td>0.0</td>\n",
       "      <td>0.0</td>\n",
       "      <td>2</td>\n",
       "      <td>1.0</td>\n",
       "      <td>1.0</td>\n",
       "      <td>1.0</td>\n",
       "      <td>Apartment</td>\n",
       "      <td>Private room</td>\n",
       "      <td>0</td>\n",
       "      <td>1</td>\n",
       "      <td>0</td>\n",
       "      <td>2015-08-14</td>\n",
       "      <td>moderate</td>\n",
       "      <td>0.500000</td>\n",
       "      <td>0.500000</td>\n",
       "      <td>1992.0</td>\n",
       "    </tr>\n",
       "  </tbody>\n",
       "</table>\n",
       "</div>"
      ],
      "text/plain": [
       "             city   longitude   latitude  review_scores_rating  \\\n",
       "5594     Randwick  151.238806 -33.913834                   NaN   \n",
       "5439      Newtown  151.184469 -33.894582                   NaN   \n",
       "3847  Bondi Beach  151.273077 -33.895142                   NaN   \n",
       "1312     Randwick  151.245793 -33.920622                   NaN   \n",
       "6194  Bondi Beach  151.273411 -33.888113                   NaN   \n",
       "\n",
       "      number_of_reviews  minimum_nights  security_deposit  cleaning_fee  \\\n",
       "5594                  0               2             800.0          80.0   \n",
       "5439                  0               3            5000.0         100.0   \n",
       "3847                  0               7             271.0          27.0   \n",
       "1312                  0               3               0.0          80.0   \n",
       "6194                  0              10               0.0           0.0   \n",
       "\n",
       "      accommodates  bathrooms  bedrooms  beds property_type        room_type  \\\n",
       "5594             6        1.0       3.0   3.0         House  Entire home/apt   \n",
       "5439            11        2.0       3.0   4.0     Apartment  Entire home/apt   \n",
       "3847             2        1.0       1.0   1.0     Apartment     Private room   \n",
       "1312             3        1.0       2.0   2.0     Apartment  Entire home/apt   \n",
       "6194             2        1.0       1.0   1.0     Apartment     Private room   \n",
       "\n",
       "      availability_365  host_identity_verified  host_is_superhost host_since  \\\n",
       "5594                 0                       0                  0 2013-11-27   \n",
       "5439                 0                       1                  0 2014-07-16   \n",
       "3847                 0                       0                  0 2015-12-07   \n",
       "1312                 0                       0                  0 2015-10-02   \n",
       "6194                 0                       1                  0 2015-08-14   \n",
       "\n",
       "              cancellation_policy  bedrooms_per_person  bathrooms_per_person  \\\n",
       "5594                     moderate             0.500000              0.166667   \n",
       "5439  strict_14_with_grace_period             0.272727              0.181818   \n",
       "3847  strict_14_with_grace_period             0.500000              0.500000   \n",
       "1312  strict_14_with_grace_period             0.666667              0.333333   \n",
       "6194                     moderate             0.500000              0.500000   \n",
       "\n",
       "      days_on_airbnb  \n",
       "5594          2617.0  \n",
       "5439          2386.0  \n",
       "3847          1877.0  \n",
       "1312          1943.0  \n",
       "6194          1992.0  "
      ]
     },
     "execution_count": 50,
     "metadata": {},
     "output_type": "execute_result"
    }
   ],
   "source": [
    "# Show the rows of data with missing values\n",
    "\n",
    "sample_incomplete_rows = X[X.isnull().any(axis=1)].head()\n",
    "print(sample_incomplete_rows.shape)\n",
    "sample_incomplete_rows"
   ]
  },
  {
   "cell_type": "code",
   "execution_count": 51,
   "metadata": {
    "colab": {
     "base_uri": "https://localhost:8080/",
     "height": 69
    },
    "colab_type": "code",
    "executionInfo": {
     "elapsed": 430,
     "status": "ok",
     "timestamp": 1573951660572,
     "user": {
      "displayName": "Rajeev Ratan",
      "photoUrl": "https://lh3.googleusercontent.com/a-/AAuE7mCGo6aIm0tOcd5EhqWlYb0rime9sBvHS9YMpx0D2w=s64",
      "userId": "08597265227091462140"
     },
     "user_tz": 0
    },
    "id": "GtCPLD4Ew5OI",
    "outputId": "edce69b8-fbaa-4120-9e99-6a40a209bf36"
   },
   "outputs": [
    {
     "data": {
      "text/html": [
       "<div>\n",
       "<style scoped>\n",
       "    .dataframe tbody tr th:only-of-type {\n",
       "        vertical-align: middle;\n",
       "    }\n",
       "\n",
       "    .dataframe tbody tr th {\n",
       "        vertical-align: top;\n",
       "    }\n",
       "\n",
       "    .dataframe thead th {\n",
       "        text-align: right;\n",
       "    }\n",
       "</style>\n",
       "<table border=\"1\" class=\"dataframe\">\n",
       "  <thead>\n",
       "    <tr style=\"text-align: right;\">\n",
       "      <th></th>\n",
       "      <th>city</th>\n",
       "      <th>longitude</th>\n",
       "      <th>latitude</th>\n",
       "      <th>review_scores_rating</th>\n",
       "      <th>number_of_reviews</th>\n",
       "      <th>minimum_nights</th>\n",
       "      <th>security_deposit</th>\n",
       "      <th>cleaning_fee</th>\n",
       "      <th>accommodates</th>\n",
       "      <th>bathrooms</th>\n",
       "      <th>bedrooms</th>\n",
       "      <th>beds</th>\n",
       "      <th>property_type</th>\n",
       "      <th>room_type</th>\n",
       "      <th>availability_365</th>\n",
       "      <th>host_identity_verified</th>\n",
       "      <th>host_is_superhost</th>\n",
       "      <th>host_since</th>\n",
       "      <th>cancellation_policy</th>\n",
       "      <th>bedrooms_per_person</th>\n",
       "      <th>bathrooms_per_person</th>\n",
       "      <th>days_on_airbnb</th>\n",
       "    </tr>\n",
       "  </thead>\n",
       "  <tbody>\n",
       "  </tbody>\n",
       "</table>\n",
       "</div>"
      ],
      "text/plain": [
       "Empty DataFrame\n",
       "Columns: [city, longitude, latitude, review_scores_rating, number_of_reviews, minimum_nights, security_deposit, cleaning_fee, accommodates, bathrooms, bedrooms, beds, property_type, room_type, availability_365, host_identity_verified, host_is_superhost, host_since, cancellation_policy, bedrooms_per_person, bathrooms_per_person, days_on_airbnb]\n",
       "Index: []"
      ]
     },
     "execution_count": 51,
     "metadata": {},
     "output_type": "execute_result"
    }
   ],
   "source": [
    "# Rows Remove\n",
    "sample_incomplete_rows.dropna(subset=[\"review_scores_rating\"])    # option 1"
   ]
  },
  {
   "cell_type": "code",
   "execution_count": 52,
   "metadata": {
    "colab": {
     "base_uri": "https://localhost:8080/",
     "height": 309
    },
    "colab_type": "code",
    "executionInfo": {
     "elapsed": 439,
     "status": "ok",
     "timestamp": 1573951666628,
     "user": {
      "displayName": "Rajeev Ratan",
      "photoUrl": "https://lh3.googleusercontent.com/a-/AAuE7mCGo6aIm0tOcd5EhqWlYb0rime9sBvHS9YMpx0D2w=s64",
      "userId": "08597265227091462140"
     },
     "user_tz": 0
    },
    "id": "ka6RIgWlw5OU",
    "outputId": "ee793542-11f7-40ea-a8e9-e9560950c156"
   },
   "outputs": [
    {
     "data": {
      "text/html": [
       "<div>\n",
       "<style scoped>\n",
       "    .dataframe tbody tr th:only-of-type {\n",
       "        vertical-align: middle;\n",
       "    }\n",
       "\n",
       "    .dataframe tbody tr th {\n",
       "        vertical-align: top;\n",
       "    }\n",
       "\n",
       "    .dataframe thead th {\n",
       "        text-align: right;\n",
       "    }\n",
       "</style>\n",
       "<table border=\"1\" class=\"dataframe\">\n",
       "  <thead>\n",
       "    <tr style=\"text-align: right;\">\n",
       "      <th></th>\n",
       "      <th>city</th>\n",
       "      <th>longitude</th>\n",
       "      <th>latitude</th>\n",
       "      <th>number_of_reviews</th>\n",
       "      <th>minimum_nights</th>\n",
       "      <th>security_deposit</th>\n",
       "      <th>cleaning_fee</th>\n",
       "      <th>accommodates</th>\n",
       "      <th>bathrooms</th>\n",
       "      <th>bedrooms</th>\n",
       "      <th>beds</th>\n",
       "      <th>property_type</th>\n",
       "      <th>room_type</th>\n",
       "      <th>availability_365</th>\n",
       "      <th>host_identity_verified</th>\n",
       "      <th>host_is_superhost</th>\n",
       "      <th>host_since</th>\n",
       "      <th>cancellation_policy</th>\n",
       "      <th>bedrooms_per_person</th>\n",
       "      <th>bathrooms_per_person</th>\n",
       "      <th>days_on_airbnb</th>\n",
       "    </tr>\n",
       "  </thead>\n",
       "  <tbody>\n",
       "    <tr>\n",
       "      <th>5594</th>\n",
       "      <td>Randwick</td>\n",
       "      <td>151.238806</td>\n",
       "      <td>-33.913834</td>\n",
       "      <td>0</td>\n",
       "      <td>2</td>\n",
       "      <td>800.0</td>\n",
       "      <td>80.0</td>\n",
       "      <td>6</td>\n",
       "      <td>1.0</td>\n",
       "      <td>3.0</td>\n",
       "      <td>3.0</td>\n",
       "      <td>House</td>\n",
       "      <td>Entire home/apt</td>\n",
       "      <td>0</td>\n",
       "      <td>0</td>\n",
       "      <td>0</td>\n",
       "      <td>2013-11-27</td>\n",
       "      <td>moderate</td>\n",
       "      <td>0.500000</td>\n",
       "      <td>0.166667</td>\n",
       "      <td>2617.0</td>\n",
       "    </tr>\n",
       "    <tr>\n",
       "      <th>5439</th>\n",
       "      <td>Newtown</td>\n",
       "      <td>151.184469</td>\n",
       "      <td>-33.894582</td>\n",
       "      <td>0</td>\n",
       "      <td>3</td>\n",
       "      <td>5000.0</td>\n",
       "      <td>100.0</td>\n",
       "      <td>11</td>\n",
       "      <td>2.0</td>\n",
       "      <td>3.0</td>\n",
       "      <td>4.0</td>\n",
       "      <td>Apartment</td>\n",
       "      <td>Entire home/apt</td>\n",
       "      <td>0</td>\n",
       "      <td>1</td>\n",
       "      <td>0</td>\n",
       "      <td>2014-07-16</td>\n",
       "      <td>strict_14_with_grace_period</td>\n",
       "      <td>0.272727</td>\n",
       "      <td>0.181818</td>\n",
       "      <td>2386.0</td>\n",
       "    </tr>\n",
       "    <tr>\n",
       "      <th>3847</th>\n",
       "      <td>Bondi Beach</td>\n",
       "      <td>151.273077</td>\n",
       "      <td>-33.895142</td>\n",
       "      <td>0</td>\n",
       "      <td>7</td>\n",
       "      <td>271.0</td>\n",
       "      <td>27.0</td>\n",
       "      <td>2</td>\n",
       "      <td>1.0</td>\n",
       "      <td>1.0</td>\n",
       "      <td>1.0</td>\n",
       "      <td>Apartment</td>\n",
       "      <td>Private room</td>\n",
       "      <td>0</td>\n",
       "      <td>0</td>\n",
       "      <td>0</td>\n",
       "      <td>2015-12-07</td>\n",
       "      <td>strict_14_with_grace_period</td>\n",
       "      <td>0.500000</td>\n",
       "      <td>0.500000</td>\n",
       "      <td>1877.0</td>\n",
       "    </tr>\n",
       "    <tr>\n",
       "      <th>1312</th>\n",
       "      <td>Randwick</td>\n",
       "      <td>151.245793</td>\n",
       "      <td>-33.920622</td>\n",
       "      <td>0</td>\n",
       "      <td>3</td>\n",
       "      <td>0.0</td>\n",
       "      <td>80.0</td>\n",
       "      <td>3</td>\n",
       "      <td>1.0</td>\n",
       "      <td>2.0</td>\n",
       "      <td>2.0</td>\n",
       "      <td>Apartment</td>\n",
       "      <td>Entire home/apt</td>\n",
       "      <td>0</td>\n",
       "      <td>0</td>\n",
       "      <td>0</td>\n",
       "      <td>2015-10-02</td>\n",
       "      <td>strict_14_with_grace_period</td>\n",
       "      <td>0.666667</td>\n",
       "      <td>0.333333</td>\n",
       "      <td>1943.0</td>\n",
       "    </tr>\n",
       "    <tr>\n",
       "      <th>6194</th>\n",
       "      <td>Bondi Beach</td>\n",
       "      <td>151.273411</td>\n",
       "      <td>-33.888113</td>\n",
       "      <td>0</td>\n",
       "      <td>10</td>\n",
       "      <td>0.0</td>\n",
       "      <td>0.0</td>\n",
       "      <td>2</td>\n",
       "      <td>1.0</td>\n",
       "      <td>1.0</td>\n",
       "      <td>1.0</td>\n",
       "      <td>Apartment</td>\n",
       "      <td>Private room</td>\n",
       "      <td>0</td>\n",
       "      <td>1</td>\n",
       "      <td>0</td>\n",
       "      <td>2015-08-14</td>\n",
       "      <td>moderate</td>\n",
       "      <td>0.500000</td>\n",
       "      <td>0.500000</td>\n",
       "      <td>1992.0</td>\n",
       "    </tr>\n",
       "  </tbody>\n",
       "</table>\n",
       "</div>"
      ],
      "text/plain": [
       "             city   longitude   latitude  number_of_reviews  minimum_nights  \\\n",
       "5594     Randwick  151.238806 -33.913834                  0               2   \n",
       "5439      Newtown  151.184469 -33.894582                  0               3   \n",
       "3847  Bondi Beach  151.273077 -33.895142                  0               7   \n",
       "1312     Randwick  151.245793 -33.920622                  0               3   \n",
       "6194  Bondi Beach  151.273411 -33.888113                  0              10   \n",
       "\n",
       "      security_deposit  cleaning_fee  accommodates  bathrooms  bedrooms  beds  \\\n",
       "5594             800.0          80.0             6        1.0       3.0   3.0   \n",
       "5439            5000.0         100.0            11        2.0       3.0   4.0   \n",
       "3847             271.0          27.0             2        1.0       1.0   1.0   \n",
       "1312               0.0          80.0             3        1.0       2.0   2.0   \n",
       "6194               0.0           0.0             2        1.0       1.0   1.0   \n",
       "\n",
       "     property_type        room_type  availability_365  host_identity_verified  \\\n",
       "5594         House  Entire home/apt                 0                       0   \n",
       "5439     Apartment  Entire home/apt                 0                       1   \n",
       "3847     Apartment     Private room                 0                       0   \n",
       "1312     Apartment  Entire home/apt                 0                       0   \n",
       "6194     Apartment     Private room                 0                       1   \n",
       "\n",
       "      host_is_superhost host_since          cancellation_policy  \\\n",
       "5594                  0 2013-11-27                     moderate   \n",
       "5439                  0 2014-07-16  strict_14_with_grace_period   \n",
       "3847                  0 2015-12-07  strict_14_with_grace_period   \n",
       "1312                  0 2015-10-02  strict_14_with_grace_period   \n",
       "6194                  0 2015-08-14                     moderate   \n",
       "\n",
       "      bedrooms_per_person  bathrooms_per_person  days_on_airbnb  \n",
       "5594             0.500000              0.166667          2617.0  \n",
       "5439             0.272727              0.181818          2386.0  \n",
       "3847             0.500000              0.500000          1877.0  \n",
       "1312             0.666667              0.333333          1943.0  \n",
       "6194             0.500000              0.500000          1992.0  "
      ]
     },
     "execution_count": 52,
     "metadata": {},
     "output_type": "execute_result"
    }
   ],
   "source": [
    "# Columns Remove\n",
    "sample_incomplete_rows.drop([\"review_scores_rating\"], axis=1)       # option 2"
   ]
  },
  {
   "cell_type": "code",
   "execution_count": 53,
   "metadata": {
    "colab": {
     "base_uri": "https://localhost:8080/",
     "height": 309
    },
    "colab_type": "code",
    "executionInfo": {
     "elapsed": 397,
     "status": "ok",
     "timestamp": 1573951710280,
     "user": {
      "displayName": "Rajeev Ratan",
      "photoUrl": "https://lh3.googleusercontent.com/a-/AAuE7mCGo6aIm0tOcd5EhqWlYb0rime9sBvHS9YMpx0D2w=s64",
      "userId": "08597265227091462140"
     },
     "user_tz": 0
    },
    "id": "wJ4II0G-w5Oe",
    "outputId": "ed998db8-53ea-4980-d9b7-33e64fca6e1e"
   },
   "outputs": [
    {
     "data": {
      "text/html": [
       "<div>\n",
       "<style scoped>\n",
       "    .dataframe tbody tr th:only-of-type {\n",
       "        vertical-align: middle;\n",
       "    }\n",
       "\n",
       "    .dataframe tbody tr th {\n",
       "        vertical-align: top;\n",
       "    }\n",
       "\n",
       "    .dataframe thead th {\n",
       "        text-align: right;\n",
       "    }\n",
       "</style>\n",
       "<table border=\"1\" class=\"dataframe\">\n",
       "  <thead>\n",
       "    <tr style=\"text-align: right;\">\n",
       "      <th></th>\n",
       "      <th>city</th>\n",
       "      <th>longitude</th>\n",
       "      <th>latitude</th>\n",
       "      <th>review_scores_rating</th>\n",
       "      <th>number_of_reviews</th>\n",
       "      <th>minimum_nights</th>\n",
       "      <th>security_deposit</th>\n",
       "      <th>cleaning_fee</th>\n",
       "      <th>accommodates</th>\n",
       "      <th>bathrooms</th>\n",
       "      <th>bedrooms</th>\n",
       "      <th>beds</th>\n",
       "      <th>property_type</th>\n",
       "      <th>room_type</th>\n",
       "      <th>availability_365</th>\n",
       "      <th>host_identity_verified</th>\n",
       "      <th>host_is_superhost</th>\n",
       "      <th>host_since</th>\n",
       "      <th>cancellation_policy</th>\n",
       "      <th>bedrooms_per_person</th>\n",
       "      <th>bathrooms_per_person</th>\n",
       "      <th>days_on_airbnb</th>\n",
       "    </tr>\n",
       "  </thead>\n",
       "  <tbody>\n",
       "    <tr>\n",
       "      <th>5594</th>\n",
       "      <td>Randwick</td>\n",
       "      <td>151.238806</td>\n",
       "      <td>-33.913834</td>\n",
       "      <td>96.0</td>\n",
       "      <td>0</td>\n",
       "      <td>2</td>\n",
       "      <td>800.0</td>\n",
       "      <td>80.0</td>\n",
       "      <td>6</td>\n",
       "      <td>1.0</td>\n",
       "      <td>3.0</td>\n",
       "      <td>3.0</td>\n",
       "      <td>House</td>\n",
       "      <td>Entire home/apt</td>\n",
       "      <td>0</td>\n",
       "      <td>0</td>\n",
       "      <td>0</td>\n",
       "      <td>2013-11-27</td>\n",
       "      <td>moderate</td>\n",
       "      <td>0.500000</td>\n",
       "      <td>0.166667</td>\n",
       "      <td>2617.0</td>\n",
       "    </tr>\n",
       "    <tr>\n",
       "      <th>5439</th>\n",
       "      <td>Newtown</td>\n",
       "      <td>151.184469</td>\n",
       "      <td>-33.894582</td>\n",
       "      <td>96.0</td>\n",
       "      <td>0</td>\n",
       "      <td>3</td>\n",
       "      <td>5000.0</td>\n",
       "      <td>100.0</td>\n",
       "      <td>11</td>\n",
       "      <td>2.0</td>\n",
       "      <td>3.0</td>\n",
       "      <td>4.0</td>\n",
       "      <td>Apartment</td>\n",
       "      <td>Entire home/apt</td>\n",
       "      <td>0</td>\n",
       "      <td>1</td>\n",
       "      <td>0</td>\n",
       "      <td>2014-07-16</td>\n",
       "      <td>strict_14_with_grace_period</td>\n",
       "      <td>0.272727</td>\n",
       "      <td>0.181818</td>\n",
       "      <td>2386.0</td>\n",
       "    </tr>\n",
       "    <tr>\n",
       "      <th>3847</th>\n",
       "      <td>Bondi Beach</td>\n",
       "      <td>151.273077</td>\n",
       "      <td>-33.895142</td>\n",
       "      <td>96.0</td>\n",
       "      <td>0</td>\n",
       "      <td>7</td>\n",
       "      <td>271.0</td>\n",
       "      <td>27.0</td>\n",
       "      <td>2</td>\n",
       "      <td>1.0</td>\n",
       "      <td>1.0</td>\n",
       "      <td>1.0</td>\n",
       "      <td>Apartment</td>\n",
       "      <td>Private room</td>\n",
       "      <td>0</td>\n",
       "      <td>0</td>\n",
       "      <td>0</td>\n",
       "      <td>2015-12-07</td>\n",
       "      <td>strict_14_with_grace_period</td>\n",
       "      <td>0.500000</td>\n",
       "      <td>0.500000</td>\n",
       "      <td>1877.0</td>\n",
       "    </tr>\n",
       "    <tr>\n",
       "      <th>1312</th>\n",
       "      <td>Randwick</td>\n",
       "      <td>151.245793</td>\n",
       "      <td>-33.920622</td>\n",
       "      <td>96.0</td>\n",
       "      <td>0</td>\n",
       "      <td>3</td>\n",
       "      <td>0.0</td>\n",
       "      <td>80.0</td>\n",
       "      <td>3</td>\n",
       "      <td>1.0</td>\n",
       "      <td>2.0</td>\n",
       "      <td>2.0</td>\n",
       "      <td>Apartment</td>\n",
       "      <td>Entire home/apt</td>\n",
       "      <td>0</td>\n",
       "      <td>0</td>\n",
       "      <td>0</td>\n",
       "      <td>2015-10-02</td>\n",
       "      <td>strict_14_with_grace_period</td>\n",
       "      <td>0.666667</td>\n",
       "      <td>0.333333</td>\n",
       "      <td>1943.0</td>\n",
       "    </tr>\n",
       "    <tr>\n",
       "      <th>6194</th>\n",
       "      <td>Bondi Beach</td>\n",
       "      <td>151.273411</td>\n",
       "      <td>-33.888113</td>\n",
       "      <td>96.0</td>\n",
       "      <td>0</td>\n",
       "      <td>10</td>\n",
       "      <td>0.0</td>\n",
       "      <td>0.0</td>\n",
       "      <td>2</td>\n",
       "      <td>1.0</td>\n",
       "      <td>1.0</td>\n",
       "      <td>1.0</td>\n",
       "      <td>Apartment</td>\n",
       "      <td>Private room</td>\n",
       "      <td>0</td>\n",
       "      <td>1</td>\n",
       "      <td>0</td>\n",
       "      <td>2015-08-14</td>\n",
       "      <td>moderate</td>\n",
       "      <td>0.500000</td>\n",
       "      <td>0.500000</td>\n",
       "      <td>1992.0</td>\n",
       "    </tr>\n",
       "  </tbody>\n",
       "</table>\n",
       "</div>"
      ],
      "text/plain": [
       "             city   longitude   latitude  review_scores_rating  \\\n",
       "5594     Randwick  151.238806 -33.913834                  96.0   \n",
       "5439      Newtown  151.184469 -33.894582                  96.0   \n",
       "3847  Bondi Beach  151.273077 -33.895142                  96.0   \n",
       "1312     Randwick  151.245793 -33.920622                  96.0   \n",
       "6194  Bondi Beach  151.273411 -33.888113                  96.0   \n",
       "\n",
       "      number_of_reviews  minimum_nights  security_deposit  cleaning_fee  \\\n",
       "5594                  0               2             800.0          80.0   \n",
       "5439                  0               3            5000.0         100.0   \n",
       "3847                  0               7             271.0          27.0   \n",
       "1312                  0               3               0.0          80.0   \n",
       "6194                  0              10               0.0           0.0   \n",
       "\n",
       "      accommodates  bathrooms  bedrooms  beds property_type        room_type  \\\n",
       "5594             6        1.0       3.0   3.0         House  Entire home/apt   \n",
       "5439            11        2.0       3.0   4.0     Apartment  Entire home/apt   \n",
       "3847             2        1.0       1.0   1.0     Apartment     Private room   \n",
       "1312             3        1.0       2.0   2.0     Apartment  Entire home/apt   \n",
       "6194             2        1.0       1.0   1.0     Apartment     Private room   \n",
       "\n",
       "      availability_365  host_identity_verified  host_is_superhost host_since  \\\n",
       "5594                 0                       0                  0 2013-11-27   \n",
       "5439                 0                       1                  0 2014-07-16   \n",
       "3847                 0                       0                  0 2015-12-07   \n",
       "1312                 0                       0                  0 2015-10-02   \n",
       "6194                 0                       1                  0 2015-08-14   \n",
       "\n",
       "              cancellation_policy  bedrooms_per_person  bathrooms_per_person  \\\n",
       "5594                     moderate             0.500000              0.166667   \n",
       "5439  strict_14_with_grace_period             0.272727              0.181818   \n",
       "3847  strict_14_with_grace_period             0.500000              0.500000   \n",
       "1312  strict_14_with_grace_period             0.666667              0.333333   \n",
       "6194                     moderate             0.500000              0.500000   \n",
       "\n",
       "      days_on_airbnb  \n",
       "5594          2617.0  \n",
       "5439          2386.0  \n",
       "3847          1877.0  \n",
       "1312          1943.0  \n",
       "6194          1992.0  "
      ]
     },
     "execution_count": 53,
     "metadata": {},
     "output_type": "execute_result"
    }
   ],
   "source": [
    "median = X[\"review_scores_rating\"].median()\n",
    "sample_incomplete_rows[\"review_scores_rating\"].fillna(median, inplace=True) # option 3\n",
    "\n",
    "sample_incomplete_rows"
   ]
  },
  {
   "cell_type": "code",
   "execution_count": 54,
   "metadata": {
    "colab": {
     "base_uri": "https://localhost:8080/",
     "height": 72
    },
    "colab_type": "code",
    "executionInfo": {
     "elapsed": 516,
     "status": "ok",
     "timestamp": 1573951746348,
     "user": {
      "displayName": "Rajeev Ratan",
      "photoUrl": "https://lh3.googleusercontent.com/a-/AAuE7mCGo6aIm0tOcd5EhqWlYb0rime9sBvHS9YMpx0D2w=s64",
      "userId": "08597265227091462140"
     },
     "user_tz": 0
    },
    "id": "5W1NjzUfw5Ok",
    "outputId": "f0235056-9954-40f1-a191-bdaa04858359"
   },
   "outputs": [],
   "source": [
    "# let's fill in the missing values using sklearn's imputer, we employ the median strategy here\n",
    "\n",
    "from sklearn.impute import SimpleImputer\n",
    "\n",
    "imputer = SimpleImputer(missing_values=np.nan, strategy='median')"
   ]
  },
  {
   "cell_type": "code",
   "execution_count": 55,
   "metadata": {
    "colab": {
     "base_uri": "https://localhost:8080/",
     "height": 343
    },
    "colab_type": "code",
    "executionInfo": {
     "elapsed": 596,
     "status": "ok",
     "timestamp": 1573951784676,
     "user": {
      "displayName": "Rajeev Ratan",
      "photoUrl": "https://lh3.googleusercontent.com/a-/AAuE7mCGo6aIm0tOcd5EhqWlYb0rime9sBvHS9YMpx0D2w=s64",
      "userId": "08597265227091462140"
     },
     "user_tz": 0
    },
    "id": "ambiARQ_7yHB",
    "outputId": "83c17a55-1949-4c3a-92e1-d9778f4cbafe"
   },
   "outputs": [
    {
     "data": {
      "text/html": [
       "<div>\n",
       "<style scoped>\n",
       "    .dataframe tbody tr th:only-of-type {\n",
       "        vertical-align: middle;\n",
       "    }\n",
       "\n",
       "    .dataframe tbody tr th {\n",
       "        vertical-align: top;\n",
       "    }\n",
       "\n",
       "    .dataframe thead th {\n",
       "        text-align: right;\n",
       "    }\n",
       "</style>\n",
       "<table border=\"1\" class=\"dataframe\">\n",
       "  <thead>\n",
       "    <tr style=\"text-align: right;\">\n",
       "      <th></th>\n",
       "      <th>city</th>\n",
       "      <th>longitude</th>\n",
       "      <th>latitude</th>\n",
       "      <th>review_scores_rating</th>\n",
       "      <th>number_of_reviews</th>\n",
       "      <th>minimum_nights</th>\n",
       "      <th>security_deposit</th>\n",
       "      <th>cleaning_fee</th>\n",
       "      <th>accommodates</th>\n",
       "      <th>bathrooms</th>\n",
       "      <th>bedrooms</th>\n",
       "      <th>beds</th>\n",
       "      <th>property_type</th>\n",
       "      <th>room_type</th>\n",
       "      <th>availability_365</th>\n",
       "      <th>host_identity_verified</th>\n",
       "      <th>host_is_superhost</th>\n",
       "      <th>host_since</th>\n",
       "      <th>cancellation_policy</th>\n",
       "      <th>bedrooms_per_person</th>\n",
       "      <th>bathrooms_per_person</th>\n",
       "      <th>days_on_airbnb</th>\n",
       "    </tr>\n",
       "  </thead>\n",
       "  <tbody>\n",
       "    <tr>\n",
       "      <th>5484</th>\n",
       "      <td>Newtown</td>\n",
       "      <td>151.178552</td>\n",
       "      <td>-33.907150</td>\n",
       "      <td>96.0</td>\n",
       "      <td>61</td>\n",
       "      <td>2</td>\n",
       "      <td>250.0</td>\n",
       "      <td>85.0</td>\n",
       "      <td>4</td>\n",
       "      <td>1.0</td>\n",
       "      <td>2.0</td>\n",
       "      <td>2.0</td>\n",
       "      <td>House</td>\n",
       "      <td>Entire home/apt</td>\n",
       "      <td>127</td>\n",
       "      <td>0</td>\n",
       "      <td>0</td>\n",
       "      <td>2016-01-22</td>\n",
       "      <td>moderate</td>\n",
       "      <td>0.500000</td>\n",
       "      <td>0.250000</td>\n",
       "      <td>1831.0</td>\n",
       "    </tr>\n",
       "    <tr>\n",
       "      <th>1267</th>\n",
       "      <td>Randwick</td>\n",
       "      <td>151.249030</td>\n",
       "      <td>-33.906190</td>\n",
       "      <td>97.0</td>\n",
       "      <td>6</td>\n",
       "      <td>4</td>\n",
       "      <td>0.0</td>\n",
       "      <td>20.0</td>\n",
       "      <td>2</td>\n",
       "      <td>1.0</td>\n",
       "      <td>1.0</td>\n",
       "      <td>1.0</td>\n",
       "      <td>Apartment</td>\n",
       "      <td>Private room</td>\n",
       "      <td>0</td>\n",
       "      <td>0</td>\n",
       "      <td>0</td>\n",
       "      <td>2014-03-28</td>\n",
       "      <td>moderate</td>\n",
       "      <td>0.500000</td>\n",
       "      <td>0.500000</td>\n",
       "      <td>2496.0</td>\n",
       "    </tr>\n",
       "    <tr>\n",
       "      <th>6658</th>\n",
       "      <td>Manly</td>\n",
       "      <td>151.288491</td>\n",
       "      <td>-33.802074</td>\n",
       "      <td>100.0</td>\n",
       "      <td>2</td>\n",
       "      <td>2</td>\n",
       "      <td>0.0</td>\n",
       "      <td>40.0</td>\n",
       "      <td>2</td>\n",
       "      <td>1.0</td>\n",
       "      <td>1.0</td>\n",
       "      <td>1.0</td>\n",
       "      <td>Apartment</td>\n",
       "      <td>Entire home/apt</td>\n",
       "      <td>0</td>\n",
       "      <td>0</td>\n",
       "      <td>0</td>\n",
       "      <td>2014-01-09</td>\n",
       "      <td>strict_14_with_grace_period</td>\n",
       "      <td>0.500000</td>\n",
       "      <td>0.500000</td>\n",
       "      <td>2574.0</td>\n",
       "    </tr>\n",
       "    <tr>\n",
       "      <th>2522</th>\n",
       "      <td>Randwick</td>\n",
       "      <td>151.236423</td>\n",
       "      <td>-33.913614</td>\n",
       "      <td>94.0</td>\n",
       "      <td>20</td>\n",
       "      <td>3</td>\n",
       "      <td>0.0</td>\n",
       "      <td>0.0</td>\n",
       "      <td>2</td>\n",
       "      <td>1.0</td>\n",
       "      <td>1.0</td>\n",
       "      <td>1.0</td>\n",
       "      <td>Apartment</td>\n",
       "      <td>Private room</td>\n",
       "      <td>90</td>\n",
       "      <td>0</td>\n",
       "      <td>0</td>\n",
       "      <td>2015-11-22</td>\n",
       "      <td>flexible</td>\n",
       "      <td>0.500000</td>\n",
       "      <td>0.500000</td>\n",
       "      <td>1892.0</td>\n",
       "    </tr>\n",
       "    <tr>\n",
       "      <th>722</th>\n",
       "      <td>Coogee</td>\n",
       "      <td>151.259342</td>\n",
       "      <td>-33.918435</td>\n",
       "      <td>92.0</td>\n",
       "      <td>139</td>\n",
       "      <td>30</td>\n",
       "      <td>0.0</td>\n",
       "      <td>0.0</td>\n",
       "      <td>3</td>\n",
       "      <td>1.0</td>\n",
       "      <td>1.0</td>\n",
       "      <td>2.0</td>\n",
       "      <td>Apartment</td>\n",
       "      <td>Private room</td>\n",
       "      <td>0</td>\n",
       "      <td>0</td>\n",
       "      <td>0</td>\n",
       "      <td>2014-01-07</td>\n",
       "      <td>strict_14_with_grace_period</td>\n",
       "      <td>0.333333</td>\n",
       "      <td>0.333333</td>\n",
       "      <td>2576.0</td>\n",
       "    </tr>\n",
       "  </tbody>\n",
       "</table>\n",
       "</div>"
      ],
      "text/plain": [
       "          city   longitude   latitude  review_scores_rating  \\\n",
       "5484   Newtown  151.178552 -33.907150                  96.0   \n",
       "1267  Randwick  151.249030 -33.906190                  97.0   \n",
       "6658     Manly  151.288491 -33.802074                 100.0   \n",
       "2522  Randwick  151.236423 -33.913614                  94.0   \n",
       "722     Coogee  151.259342 -33.918435                  92.0   \n",
       "\n",
       "      number_of_reviews  minimum_nights  security_deposit  cleaning_fee  \\\n",
       "5484                 61               2             250.0          85.0   \n",
       "1267                  6               4               0.0          20.0   \n",
       "6658                  2               2               0.0          40.0   \n",
       "2522                 20               3               0.0           0.0   \n",
       "722                 139              30               0.0           0.0   \n",
       "\n",
       "      accommodates  bathrooms  bedrooms  beds property_type        room_type  \\\n",
       "5484             4        1.0       2.0   2.0         House  Entire home/apt   \n",
       "1267             2        1.0       1.0   1.0     Apartment     Private room   \n",
       "6658             2        1.0       1.0   1.0     Apartment  Entire home/apt   \n",
       "2522             2        1.0       1.0   1.0     Apartment     Private room   \n",
       "722              3        1.0       1.0   2.0     Apartment     Private room   \n",
       "\n",
       "      availability_365  host_identity_verified  host_is_superhost host_since  \\\n",
       "5484               127                       0                  0 2016-01-22   \n",
       "1267                 0                       0                  0 2014-03-28   \n",
       "6658                 0                       0                  0 2014-01-09   \n",
       "2522                90                       0                  0 2015-11-22   \n",
       "722                  0                       0                  0 2014-01-07   \n",
       "\n",
       "              cancellation_policy  bedrooms_per_person  bathrooms_per_person  \\\n",
       "5484                     moderate             0.500000              0.250000   \n",
       "1267                     moderate             0.500000              0.500000   \n",
       "6658  strict_14_with_grace_period             0.500000              0.500000   \n",
       "2522                     flexible             0.500000              0.500000   \n",
       "722   strict_14_with_grace_period             0.333333              0.333333   \n",
       "\n",
       "      days_on_airbnb  \n",
       "5484          1831.0  \n",
       "1267          2496.0  \n",
       "6658          2574.0  \n",
       "2522          1892.0  \n",
       "722           2576.0  "
      ]
     },
     "execution_count": 55,
     "metadata": {},
     "output_type": "execute_result"
    }
   ],
   "source": [
    "from sklearn.preprocessing import LabelEncoder\n",
    "\n",
    "lb = LabelEncoder() \n",
    "\n",
    "X['host_is_superhost'] = X['host_is_superhost'].eq('t').astype(int)\n",
    "X['host_identity_verified'] = X['host_identity_verified'].eq('t').astype(int)\n",
    "X.head()"
   ]
  },
  {
   "cell_type": "markdown",
   "metadata": {
    "colab_type": "text",
    "id": "GpQe6f4Kw5Os"
   },
   "source": [
    "Remove the text attribute because median can only be calculated on numerical attributes:"
   ]
  },
  {
   "cell_type": "code",
   "execution_count": 56,
   "metadata": {
    "colab": {
     "base_uri": "https://localhost:8080/",
     "height": 222
    },
    "colab_type": "code",
    "executionInfo": {
     "elapsed": 436,
     "status": "ok",
     "timestamp": 1573951807402,
     "user": {
      "displayName": "Rajeev Ratan",
      "photoUrl": "https://lh3.googleusercontent.com/a-/AAuE7mCGo6aIm0tOcd5EhqWlYb0rime9sBvHS9YMpx0D2w=s64",
      "userId": "08597265227091462140"
     },
     "user_tz": 0
    },
    "id": "2s_PW2I3w5Ov",
    "outputId": "e4c38c77-1794-4037-b963-c624b24c9d80"
   },
   "outputs": [
    {
     "data": {
      "text/html": [
       "<div>\n",
       "<style scoped>\n",
       "    .dataframe tbody tr th:only-of-type {\n",
       "        vertical-align: middle;\n",
       "    }\n",
       "\n",
       "    .dataframe tbody tr th {\n",
       "        vertical-align: top;\n",
       "    }\n",
       "\n",
       "    .dataframe thead th {\n",
       "        text-align: right;\n",
       "    }\n",
       "</style>\n",
       "<table border=\"1\" class=\"dataframe\">\n",
       "  <thead>\n",
       "    <tr style=\"text-align: right;\">\n",
       "      <th></th>\n",
       "      <th>longitude</th>\n",
       "      <th>latitude</th>\n",
       "      <th>review_scores_rating</th>\n",
       "      <th>number_of_reviews</th>\n",
       "      <th>minimum_nights</th>\n",
       "      <th>security_deposit</th>\n",
       "      <th>cleaning_fee</th>\n",
       "      <th>accommodates</th>\n",
       "      <th>bathrooms</th>\n",
       "      <th>bedrooms</th>\n",
       "      <th>beds</th>\n",
       "      <th>availability_365</th>\n",
       "      <th>host_identity_verified</th>\n",
       "      <th>host_is_superhost</th>\n",
       "      <th>bedrooms_per_person</th>\n",
       "      <th>bathrooms_per_person</th>\n",
       "      <th>days_on_airbnb</th>\n",
       "    </tr>\n",
       "  </thead>\n",
       "  <tbody>\n",
       "    <tr>\n",
       "      <th>5484</th>\n",
       "      <td>151.178552</td>\n",
       "      <td>-33.907150</td>\n",
       "      <td>96.0</td>\n",
       "      <td>61</td>\n",
       "      <td>2</td>\n",
       "      <td>250.0</td>\n",
       "      <td>85.0</td>\n",
       "      <td>4</td>\n",
       "      <td>1.0</td>\n",
       "      <td>2.0</td>\n",
       "      <td>2.0</td>\n",
       "      <td>127</td>\n",
       "      <td>0</td>\n",
       "      <td>0</td>\n",
       "      <td>0.500000</td>\n",
       "      <td>0.250000</td>\n",
       "      <td>1831.0</td>\n",
       "    </tr>\n",
       "    <tr>\n",
       "      <th>1267</th>\n",
       "      <td>151.249030</td>\n",
       "      <td>-33.906190</td>\n",
       "      <td>97.0</td>\n",
       "      <td>6</td>\n",
       "      <td>4</td>\n",
       "      <td>0.0</td>\n",
       "      <td>20.0</td>\n",
       "      <td>2</td>\n",
       "      <td>1.0</td>\n",
       "      <td>1.0</td>\n",
       "      <td>1.0</td>\n",
       "      <td>0</td>\n",
       "      <td>0</td>\n",
       "      <td>0</td>\n",
       "      <td>0.500000</td>\n",
       "      <td>0.500000</td>\n",
       "      <td>2496.0</td>\n",
       "    </tr>\n",
       "    <tr>\n",
       "      <th>6658</th>\n",
       "      <td>151.288491</td>\n",
       "      <td>-33.802074</td>\n",
       "      <td>100.0</td>\n",
       "      <td>2</td>\n",
       "      <td>2</td>\n",
       "      <td>0.0</td>\n",
       "      <td>40.0</td>\n",
       "      <td>2</td>\n",
       "      <td>1.0</td>\n",
       "      <td>1.0</td>\n",
       "      <td>1.0</td>\n",
       "      <td>0</td>\n",
       "      <td>0</td>\n",
       "      <td>0</td>\n",
       "      <td>0.500000</td>\n",
       "      <td>0.500000</td>\n",
       "      <td>2574.0</td>\n",
       "    </tr>\n",
       "    <tr>\n",
       "      <th>2522</th>\n",
       "      <td>151.236423</td>\n",
       "      <td>-33.913614</td>\n",
       "      <td>94.0</td>\n",
       "      <td>20</td>\n",
       "      <td>3</td>\n",
       "      <td>0.0</td>\n",
       "      <td>0.0</td>\n",
       "      <td>2</td>\n",
       "      <td>1.0</td>\n",
       "      <td>1.0</td>\n",
       "      <td>1.0</td>\n",
       "      <td>90</td>\n",
       "      <td>0</td>\n",
       "      <td>0</td>\n",
       "      <td>0.500000</td>\n",
       "      <td>0.500000</td>\n",
       "      <td>1892.0</td>\n",
       "    </tr>\n",
       "    <tr>\n",
       "      <th>722</th>\n",
       "      <td>151.259342</td>\n",
       "      <td>-33.918435</td>\n",
       "      <td>92.0</td>\n",
       "      <td>139</td>\n",
       "      <td>30</td>\n",
       "      <td>0.0</td>\n",
       "      <td>0.0</td>\n",
       "      <td>3</td>\n",
       "      <td>1.0</td>\n",
       "      <td>1.0</td>\n",
       "      <td>2.0</td>\n",
       "      <td>0</td>\n",
       "      <td>0</td>\n",
       "      <td>0</td>\n",
       "      <td>0.333333</td>\n",
       "      <td>0.333333</td>\n",
       "      <td>2576.0</td>\n",
       "    </tr>\n",
       "  </tbody>\n",
       "</table>\n",
       "</div>"
      ],
      "text/plain": [
       "       longitude   latitude  review_scores_rating  number_of_reviews  \\\n",
       "5484  151.178552 -33.907150                  96.0                 61   \n",
       "1267  151.249030 -33.906190                  97.0                  6   \n",
       "6658  151.288491 -33.802074                 100.0                  2   \n",
       "2522  151.236423 -33.913614                  94.0                 20   \n",
       "722   151.259342 -33.918435                  92.0                139   \n",
       "\n",
       "      minimum_nights  security_deposit  cleaning_fee  accommodates  bathrooms  \\\n",
       "5484               2             250.0          85.0             4        1.0   \n",
       "1267               4               0.0          20.0             2        1.0   \n",
       "6658               2               0.0          40.0             2        1.0   \n",
       "2522               3               0.0           0.0             2        1.0   \n",
       "722               30               0.0           0.0             3        1.0   \n",
       "\n",
       "      bedrooms  beds  availability_365  host_identity_verified  \\\n",
       "5484       2.0   2.0               127                       0   \n",
       "1267       1.0   1.0                 0                       0   \n",
       "6658       1.0   1.0                 0                       0   \n",
       "2522       1.0   1.0                90                       0   \n",
       "722        1.0   2.0                 0                       0   \n",
       "\n",
       "      host_is_superhost  bedrooms_per_person  bathrooms_per_person  \\\n",
       "5484                  0             0.500000              0.250000   \n",
       "1267                  0             0.500000              0.500000   \n",
       "6658                  0             0.500000              0.500000   \n",
       "2522                  0             0.500000              0.500000   \n",
       "722                   0             0.333333              0.333333   \n",
       "\n",
       "      days_on_airbnb  \n",
       "5484          1831.0  \n",
       "1267          2496.0  \n",
       "6658          2574.0  \n",
       "2522          1892.0  \n",
       "722           2576.0  "
      ]
     },
     "execution_count": 56,
     "metadata": {},
     "output_type": "execute_result"
    }
   ],
   "source": [
    "# Columns with missing categorical values can't be imputed so we have no alternative but to drop them\n",
    "\n",
    "cat_cols = [\"city\",\"cancellation_policy\",\"host_since\",\"room_type\",\"property_type\",\"host_since\"]\n",
    "X_num = X.drop(cat_cols, axis=1)\n",
    "X_num.head()"
   ]
  },
  {
   "cell_type": "code",
   "execution_count": 57,
   "metadata": {
    "colab": {
     "base_uri": "https://localhost:8080/",
     "height": 35
    },
    "colab_type": "code",
    "executionInfo": {
     "elapsed": 426,
     "status": "ok",
     "timestamp": 1573951810855,
     "user": {
      "displayName": "Rajeev Ratan",
      "photoUrl": "https://lh3.googleusercontent.com/a-/AAuE7mCGo6aIm0tOcd5EhqWlYb0rime9sBvHS9YMpx0D2w=s64",
      "userId": "08597265227091462140"
     },
     "user_tz": 0
    },
    "id": "Yf3va5snw5PD",
    "outputId": "2948da0e-2b66-4873-ed38-7084d27409fe"
   },
   "outputs": [
    {
     "data": {
      "text/plain": [
       "SimpleImputer(strategy='median')"
      ]
     },
     "execution_count": 57,
     "metadata": {},
     "output_type": "execute_result"
    }
   ],
   "source": [
    "imputer.fit(X_num)"
   ]
  },
  {
   "cell_type": "code",
   "execution_count": 58,
   "metadata": {
    "colab": {
     "base_uri": "https://localhost:8080/",
     "height": 104
    },
    "colab_type": "code",
    "executionInfo": {
     "elapsed": 1300,
     "status": "ok",
     "timestamp": 1573951815753,
     "user": {
      "displayName": "Rajeev Ratan",
      "photoUrl": "https://lh3.googleusercontent.com/a-/AAuE7mCGo6aIm0tOcd5EhqWlYb0rime9sBvHS9YMpx0D2w=s64",
      "userId": "08597265227091462140"
     },
     "user_tz": 0
    },
    "id": "Z7BvFuaVw5PJ",
    "outputId": "1150e1ed-373b-419b-c284-c47a549741a6"
   },
   "outputs": [
    {
     "data": {
      "text/plain": [
       "array([ 1.51259665e+02, -3.38885369e+01,  9.60000000e+01,  3.00000000e+00,\n",
       "        3.00000000e+00,  0.00000000e+00,  5.00000000e+01,  2.00000000e+00,\n",
       "        1.00000000e+00,  1.00000000e+00,  1.00000000e+00,  4.00000000e+00,\n",
       "        0.00000000e+00,  0.00000000e+00,  5.00000000e-01,  5.00000000e-01,\n",
       "        2.25700000e+03])"
      ]
     },
     "execution_count": 58,
     "metadata": {},
     "output_type": "execute_result"
    }
   ],
   "source": [
    "imputer.statistics_"
   ]
  },
  {
   "cell_type": "markdown",
   "metadata": {
    "colab_type": "text",
    "id": "hzxuikicw5PW"
   },
   "source": [
    "Check that this is the same as manually computing the median of each attribute:"
   ]
  },
  {
   "cell_type": "code",
   "execution_count": 59,
   "metadata": {
    "colab": {
     "base_uri": "https://localhost:8080/",
     "height": 104
    },
    "colab_type": "code",
    "executionInfo": {
     "elapsed": 423,
     "status": "ok",
     "timestamp": 1573951818903,
     "user": {
      "displayName": "Rajeev Ratan",
      "photoUrl": "https://lh3.googleusercontent.com/a-/AAuE7mCGo6aIm0tOcd5EhqWlYb0rime9sBvHS9YMpx0D2w=s64",
      "userId": "08597265227091462140"
     },
     "user_tz": 0
    },
    "id": "B5do-SLFw5PX",
    "outputId": "21d62491-97b3-4c35-d71f-b16cd09b1824"
   },
   "outputs": [
    {
     "data": {
      "text/plain": [
       "array([ 1.51259665e+02, -3.38885369e+01,  9.60000000e+01,  3.00000000e+00,\n",
       "        3.00000000e+00,  0.00000000e+00,  5.00000000e+01,  2.00000000e+00,\n",
       "        1.00000000e+00,  1.00000000e+00,  1.00000000e+00,  4.00000000e+00,\n",
       "        0.00000000e+00,  0.00000000e+00,  5.00000000e-01,  5.00000000e-01,\n",
       "        2.25700000e+03])"
      ]
     },
     "execution_count": 59,
     "metadata": {},
     "output_type": "execute_result"
    }
   ],
   "source": [
    "X_num.median().values"
   ]
  },
  {
   "cell_type": "markdown",
   "metadata": {
    "colab_type": "text",
    "id": "jhqi5OU9w5Pe"
   },
   "source": [
    "Transform the training set:"
   ]
  },
  {
   "cell_type": "code",
   "execution_count": 60,
   "metadata": {
    "colab": {},
    "colab_type": "code",
    "id": "Lo700DUsw5Pg"
   },
   "outputs": [],
   "source": [
    "X_num_np = imputer.transform(X_num)"
   ]
  },
  {
   "cell_type": "code",
   "execution_count": 61,
   "metadata": {
    "colab": {},
    "colab_type": "code",
    "id": "lIIwDuqpw5Pl"
   },
   "outputs": [],
   "source": [
    "X_num = pd.DataFrame(X_num_np, columns=X_num.columns,\n",
    "                          index = list(X_num.index.values))"
   ]
  },
  {
   "cell_type": "code",
   "execution_count": 62,
   "metadata": {
    "colab": {
     "base_uri": "https://localhost:8080/",
     "height": 222
    },
    "colab_type": "code",
    "executionInfo": {
     "elapsed": 449,
     "status": "ok",
     "timestamp": 1573951870481,
     "user": {
      "displayName": "Rajeev Ratan",
      "photoUrl": "https://lh3.googleusercontent.com/a-/AAuE7mCGo6aIm0tOcd5EhqWlYb0rime9sBvHS9YMpx0D2w=s64",
      "userId": "08597265227091462140"
     },
     "user_tz": 0
    },
    "id": "GZw1eaSlw5Pp",
    "outputId": "806a76ab-765a-43e9-a2ac-7760fb861bae"
   },
   "outputs": [
    {
     "data": {
      "text/html": [
       "<div>\n",
       "<style scoped>\n",
       "    .dataframe tbody tr th:only-of-type {\n",
       "        vertical-align: middle;\n",
       "    }\n",
       "\n",
       "    .dataframe tbody tr th {\n",
       "        vertical-align: top;\n",
       "    }\n",
       "\n",
       "    .dataframe thead th {\n",
       "        text-align: right;\n",
       "    }\n",
       "</style>\n",
       "<table border=\"1\" class=\"dataframe\">\n",
       "  <thead>\n",
       "    <tr style=\"text-align: right;\">\n",
       "      <th></th>\n",
       "      <th>longitude</th>\n",
       "      <th>latitude</th>\n",
       "      <th>review_scores_rating</th>\n",
       "      <th>number_of_reviews</th>\n",
       "      <th>minimum_nights</th>\n",
       "      <th>security_deposit</th>\n",
       "      <th>cleaning_fee</th>\n",
       "      <th>accommodates</th>\n",
       "      <th>bathrooms</th>\n",
       "      <th>bedrooms</th>\n",
       "      <th>beds</th>\n",
       "      <th>availability_365</th>\n",
       "      <th>host_identity_verified</th>\n",
       "      <th>host_is_superhost</th>\n",
       "      <th>bedrooms_per_person</th>\n",
       "      <th>bathrooms_per_person</th>\n",
       "      <th>days_on_airbnb</th>\n",
       "    </tr>\n",
       "  </thead>\n",
       "  <tbody>\n",
       "    <tr>\n",
       "      <th>5594</th>\n",
       "      <td>151.238806</td>\n",
       "      <td>-33.913834</td>\n",
       "      <td>96.0</td>\n",
       "      <td>0.0</td>\n",
       "      <td>2.0</td>\n",
       "      <td>800.0</td>\n",
       "      <td>80.0</td>\n",
       "      <td>6.0</td>\n",
       "      <td>1.0</td>\n",
       "      <td>3.0</td>\n",
       "      <td>3.0</td>\n",
       "      <td>0.0</td>\n",
       "      <td>0.0</td>\n",
       "      <td>0.0</td>\n",
       "      <td>0.500000</td>\n",
       "      <td>0.166667</td>\n",
       "      <td>2617.0</td>\n",
       "    </tr>\n",
       "    <tr>\n",
       "      <th>5439</th>\n",
       "      <td>151.184469</td>\n",
       "      <td>-33.894582</td>\n",
       "      <td>96.0</td>\n",
       "      <td>0.0</td>\n",
       "      <td>3.0</td>\n",
       "      <td>5000.0</td>\n",
       "      <td>100.0</td>\n",
       "      <td>11.0</td>\n",
       "      <td>2.0</td>\n",
       "      <td>3.0</td>\n",
       "      <td>4.0</td>\n",
       "      <td>0.0</td>\n",
       "      <td>0.0</td>\n",
       "      <td>0.0</td>\n",
       "      <td>0.272727</td>\n",
       "      <td>0.181818</td>\n",
       "      <td>2386.0</td>\n",
       "    </tr>\n",
       "    <tr>\n",
       "      <th>3847</th>\n",
       "      <td>151.273077</td>\n",
       "      <td>-33.895142</td>\n",
       "      <td>96.0</td>\n",
       "      <td>0.0</td>\n",
       "      <td>7.0</td>\n",
       "      <td>271.0</td>\n",
       "      <td>27.0</td>\n",
       "      <td>2.0</td>\n",
       "      <td>1.0</td>\n",
       "      <td>1.0</td>\n",
       "      <td>1.0</td>\n",
       "      <td>0.0</td>\n",
       "      <td>0.0</td>\n",
       "      <td>0.0</td>\n",
       "      <td>0.500000</td>\n",
       "      <td>0.500000</td>\n",
       "      <td>1877.0</td>\n",
       "    </tr>\n",
       "    <tr>\n",
       "      <th>1312</th>\n",
       "      <td>151.245793</td>\n",
       "      <td>-33.920622</td>\n",
       "      <td>96.0</td>\n",
       "      <td>0.0</td>\n",
       "      <td>3.0</td>\n",
       "      <td>0.0</td>\n",
       "      <td>80.0</td>\n",
       "      <td>3.0</td>\n",
       "      <td>1.0</td>\n",
       "      <td>2.0</td>\n",
       "      <td>2.0</td>\n",
       "      <td>0.0</td>\n",
       "      <td>0.0</td>\n",
       "      <td>0.0</td>\n",
       "      <td>0.666667</td>\n",
       "      <td>0.333333</td>\n",
       "      <td>1943.0</td>\n",
       "    </tr>\n",
       "    <tr>\n",
       "      <th>6194</th>\n",
       "      <td>151.273411</td>\n",
       "      <td>-33.888113</td>\n",
       "      <td>96.0</td>\n",
       "      <td>0.0</td>\n",
       "      <td>10.0</td>\n",
       "      <td>0.0</td>\n",
       "      <td>0.0</td>\n",
       "      <td>2.0</td>\n",
       "      <td>1.0</td>\n",
       "      <td>1.0</td>\n",
       "      <td>1.0</td>\n",
       "      <td>0.0</td>\n",
       "      <td>0.0</td>\n",
       "      <td>0.0</td>\n",
       "      <td>0.500000</td>\n",
       "      <td>0.500000</td>\n",
       "      <td>1992.0</td>\n",
       "    </tr>\n",
       "  </tbody>\n",
       "</table>\n",
       "</div>"
      ],
      "text/plain": [
       "       longitude   latitude  review_scores_rating  number_of_reviews  \\\n",
       "5594  151.238806 -33.913834                  96.0                0.0   \n",
       "5439  151.184469 -33.894582                  96.0                0.0   \n",
       "3847  151.273077 -33.895142                  96.0                0.0   \n",
       "1312  151.245793 -33.920622                  96.0                0.0   \n",
       "6194  151.273411 -33.888113                  96.0                0.0   \n",
       "\n",
       "      minimum_nights  security_deposit  cleaning_fee  accommodates  bathrooms  \\\n",
       "5594             2.0             800.0          80.0           6.0        1.0   \n",
       "5439             3.0            5000.0         100.0          11.0        2.0   \n",
       "3847             7.0             271.0          27.0           2.0        1.0   \n",
       "1312             3.0               0.0          80.0           3.0        1.0   \n",
       "6194            10.0               0.0           0.0           2.0        1.0   \n",
       "\n",
       "      bedrooms  beds  availability_365  host_identity_verified  \\\n",
       "5594       3.0   3.0               0.0                     0.0   \n",
       "5439       3.0   4.0               0.0                     0.0   \n",
       "3847       1.0   1.0               0.0                     0.0   \n",
       "1312       2.0   2.0               0.0                     0.0   \n",
       "6194       1.0   1.0               0.0                     0.0   \n",
       "\n",
       "      host_is_superhost  bedrooms_per_person  bathrooms_per_person  \\\n",
       "5594                0.0             0.500000              0.166667   \n",
       "5439                0.0             0.272727              0.181818   \n",
       "3847                0.0             0.500000              0.500000   \n",
       "1312                0.0             0.666667              0.333333   \n",
       "6194                0.0             0.500000              0.500000   \n",
       "\n",
       "      days_on_airbnb  \n",
       "5594          2617.0  \n",
       "5439          2386.0  \n",
       "3847          1877.0  \n",
       "1312          1943.0  \n",
       "6194          1992.0  "
      ]
     },
     "execution_count": 62,
     "metadata": {},
     "output_type": "execute_result"
    }
   ],
   "source": [
    "X_num.loc[sample_incomplete_rows.index.values]"
   ]
  },
  {
   "cell_type": "code",
   "execution_count": 63,
   "metadata": {
    "colab": {
     "base_uri": "https://localhost:8080/",
     "height": 35
    },
    "colab_type": "code",
    "executionInfo": {
     "elapsed": 398,
     "status": "ok",
     "timestamp": 1573951872431,
     "user": {
      "displayName": "Rajeev Ratan",
      "photoUrl": "https://lh3.googleusercontent.com/a-/AAuE7mCGo6aIm0tOcd5EhqWlYb0rime9sBvHS9YMpx0D2w=s64",
      "userId": "08597265227091462140"
     },
     "user_tz": 0
    },
    "id": "AdmidxW3w5P5",
    "outputId": "e75a2d0c-4a66-4521-89bd-0b90a26067dd"
   },
   "outputs": [
    {
     "data": {
      "text/plain": [
       "'median'"
      ]
     },
     "execution_count": 63,
     "metadata": {},
     "output_type": "execute_result"
    }
   ],
   "source": [
    "imputer.strategy"
   ]
  },
  {
   "cell_type": "markdown",
   "metadata": {
    "colab_type": "text",
    "id": "ZzxQqz0iw5QD"
   },
   "source": [
    "Now let's preprocess the categorical input feature, `ocean_proximity`:"
   ]
  },
  {
   "cell_type": "code",
   "execution_count": 64,
   "metadata": {
    "colab": {
     "base_uri": "https://localhost:8080/",
     "height": 355
    },
    "colab_type": "code",
    "executionInfo": {
     "elapsed": 482,
     "status": "ok",
     "timestamp": 1573951907765,
     "user": {
      "displayName": "Rajeev Ratan",
      "photoUrl": "https://lh3.googleusercontent.com/a-/AAuE7mCGo6aIm0tOcd5EhqWlYb0rime9sBvHS9YMpx0D2w=s64",
      "userId": "08597265227091462140"
     },
     "user_tz": 0
    },
    "id": "ZwC3xBx2w5QE",
    "outputId": "58e59cc3-099a-4bb4-8305-d9fda632e62e"
   },
   "outputs": [
    {
     "data": {
      "text/html": [
       "<div>\n",
       "<style scoped>\n",
       "    .dataframe tbody tr th:only-of-type {\n",
       "        vertical-align: middle;\n",
       "    }\n",
       "\n",
       "    .dataframe tbody tr th {\n",
       "        vertical-align: top;\n",
       "    }\n",
       "\n",
       "    .dataframe thead th {\n",
       "        text-align: right;\n",
       "    }\n",
       "</style>\n",
       "<table border=\"1\" class=\"dataframe\">\n",
       "  <thead>\n",
       "    <tr style=\"text-align: right;\">\n",
       "      <th></th>\n",
       "      <th>city</th>\n",
       "      <th>property_type</th>\n",
       "      <th>room_type</th>\n",
       "      <th>cancellation_policy</th>\n",
       "    </tr>\n",
       "  </thead>\n",
       "  <tbody>\n",
       "    <tr>\n",
       "      <th>5484</th>\n",
       "      <td>Newtown</td>\n",
       "      <td>House</td>\n",
       "      <td>Entire home/apt</td>\n",
       "      <td>moderate</td>\n",
       "    </tr>\n",
       "    <tr>\n",
       "      <th>1267</th>\n",
       "      <td>Randwick</td>\n",
       "      <td>Apartment</td>\n",
       "      <td>Private room</td>\n",
       "      <td>moderate</td>\n",
       "    </tr>\n",
       "    <tr>\n",
       "      <th>6658</th>\n",
       "      <td>Manly</td>\n",
       "      <td>Apartment</td>\n",
       "      <td>Entire home/apt</td>\n",
       "      <td>strict_14_with_grace_period</td>\n",
       "    </tr>\n",
       "    <tr>\n",
       "      <th>2522</th>\n",
       "      <td>Randwick</td>\n",
       "      <td>Apartment</td>\n",
       "      <td>Private room</td>\n",
       "      <td>flexible</td>\n",
       "    </tr>\n",
       "    <tr>\n",
       "      <th>722</th>\n",
       "      <td>Coogee</td>\n",
       "      <td>Apartment</td>\n",
       "      <td>Private room</td>\n",
       "      <td>strict_14_with_grace_period</td>\n",
       "    </tr>\n",
       "    <tr>\n",
       "      <th>3150</th>\n",
       "      <td>Manly</td>\n",
       "      <td>Apartment</td>\n",
       "      <td>Entire home/apt</td>\n",
       "      <td>strict_14_with_grace_period</td>\n",
       "    </tr>\n",
       "    <tr>\n",
       "      <th>2865</th>\n",
       "      <td>Surry Hills</td>\n",
       "      <td>Apartment</td>\n",
       "      <td>Entire home/apt</td>\n",
       "      <td>strict_14_with_grace_period</td>\n",
       "    </tr>\n",
       "    <tr>\n",
       "      <th>4906</th>\n",
       "      <td>Bondi Beach</td>\n",
       "      <td>Apartment</td>\n",
       "      <td>Entire home/apt</td>\n",
       "      <td>strict_14_with_grace_period</td>\n",
       "    </tr>\n",
       "    <tr>\n",
       "      <th>575</th>\n",
       "      <td>Coogee</td>\n",
       "      <td>Apartment</td>\n",
       "      <td>Entire home/apt</td>\n",
       "      <td>strict_14_with_grace_period</td>\n",
       "    </tr>\n",
       "    <tr>\n",
       "      <th>5827</th>\n",
       "      <td>Newtown</td>\n",
       "      <td>House</td>\n",
       "      <td>Private room</td>\n",
       "      <td>flexible</td>\n",
       "    </tr>\n",
       "  </tbody>\n",
       "</table>\n",
       "</div>"
      ],
      "text/plain": [
       "             city property_type        room_type          cancellation_policy\n",
       "5484      Newtown         House  Entire home/apt                     moderate\n",
       "1267     Randwick     Apartment     Private room                     moderate\n",
       "6658        Manly     Apartment  Entire home/apt  strict_14_with_grace_period\n",
       "2522     Randwick     Apartment     Private room                     flexible\n",
       "722        Coogee     Apartment     Private room  strict_14_with_grace_period\n",
       "3150        Manly     Apartment  Entire home/apt  strict_14_with_grace_period\n",
       "2865  Surry Hills     Apartment  Entire home/apt  strict_14_with_grace_period\n",
       "4906  Bondi Beach     Apartment  Entire home/apt  strict_14_with_grace_period\n",
       "575        Coogee     Apartment  Entire home/apt  strict_14_with_grace_period\n",
       "5827      Newtown         House     Private room                     flexible"
      ]
     },
     "execution_count": 64,
     "metadata": {},
     "output_type": "execute_result"
    }
   ],
   "source": [
    "X_cat = X.select_dtypes(include=[object])\n",
    "X_cat.head(10)"
   ]
  },
  {
   "cell_type": "code",
   "execution_count": 65,
   "metadata": {
    "colab": {},
    "colab_type": "code",
    "id": "s9bBi-cIw5QJ"
   },
   "outputs": [],
   "source": [
    "from sklearn.preprocessing import OrdinalEncoder"
   ]
  },
  {
   "cell_type": "code",
   "execution_count": 66,
   "metadata": {
    "colab": {
     "base_uri": "https://localhost:8080/",
     "height": 202
    },
    "colab_type": "code",
    "executionInfo": {
     "elapsed": 410,
     "status": "ok",
     "timestamp": 1573951921906,
     "user": {
      "displayName": "Rajeev Ratan",
      "photoUrl": "https://lh3.googleusercontent.com/a-/AAuE7mCGo6aIm0tOcd5EhqWlYb0rime9sBvHS9YMpx0D2w=s64",
      "userId": "08597265227091462140"
     },
     "user_tz": 0
    },
    "id": "1k2uHTfww5QM",
    "outputId": "04e742be-5fd9-41ae-c34b-2d1a37b3c38d"
   },
   "outputs": [
    {
     "data": {
      "text/html": [
       "<div>\n",
       "<style scoped>\n",
       "    .dataframe tbody tr th:only-of-type {\n",
       "        vertical-align: middle;\n",
       "    }\n",
       "\n",
       "    .dataframe tbody tr th {\n",
       "        vertical-align: top;\n",
       "    }\n",
       "\n",
       "    .dataframe thead th {\n",
       "        text-align: right;\n",
       "    }\n",
       "</style>\n",
       "<table border=\"1\" class=\"dataframe\">\n",
       "  <thead>\n",
       "    <tr style=\"text-align: right;\">\n",
       "      <th></th>\n",
       "      <th>city</th>\n",
       "      <th>property_type</th>\n",
       "      <th>room_type</th>\n",
       "      <th>cancellation_policy</th>\n",
       "    </tr>\n",
       "  </thead>\n",
       "  <tbody>\n",
       "    <tr>\n",
       "      <th>5484</th>\n",
       "      <td>Newtown</td>\n",
       "      <td>House</td>\n",
       "      <td>Entire home/apt</td>\n",
       "      <td>moderate</td>\n",
       "    </tr>\n",
       "    <tr>\n",
       "      <th>1267</th>\n",
       "      <td>Randwick</td>\n",
       "      <td>Apartment</td>\n",
       "      <td>Private room</td>\n",
       "      <td>moderate</td>\n",
       "    </tr>\n",
       "    <tr>\n",
       "      <th>6658</th>\n",
       "      <td>Manly</td>\n",
       "      <td>Apartment</td>\n",
       "      <td>Entire home/apt</td>\n",
       "      <td>strict_14_with_grace_period</td>\n",
       "    </tr>\n",
       "    <tr>\n",
       "      <th>2522</th>\n",
       "      <td>Randwick</td>\n",
       "      <td>Apartment</td>\n",
       "      <td>Private room</td>\n",
       "      <td>flexible</td>\n",
       "    </tr>\n",
       "    <tr>\n",
       "      <th>722</th>\n",
       "      <td>Coogee</td>\n",
       "      <td>Apartment</td>\n",
       "      <td>Private room</td>\n",
       "      <td>strict_14_with_grace_period</td>\n",
       "    </tr>\n",
       "  </tbody>\n",
       "</table>\n",
       "</div>"
      ],
      "text/plain": [
       "          city property_type        room_type          cancellation_policy\n",
       "5484   Newtown         House  Entire home/apt                     moderate\n",
       "1267  Randwick     Apartment     Private room                     moderate\n",
       "6658     Manly     Apartment  Entire home/apt  strict_14_with_grace_period\n",
       "2522  Randwick     Apartment     Private room                     flexible\n",
       "722     Coogee     Apartment     Private room  strict_14_with_grace_period"
      ]
     },
     "execution_count": 66,
     "metadata": {},
     "output_type": "execute_result"
    }
   ],
   "source": [
    "X_cat.head()"
   ]
  },
  {
   "cell_type": "code",
   "execution_count": 67,
   "metadata": {
    "colab": {
     "base_uri": "https://localhost:8080/",
     "height": 191
    },
    "colab_type": "code",
    "executionInfo": {
     "elapsed": 382,
     "status": "ok",
     "timestamp": 1573951929320,
     "user": {
      "displayName": "Rajeev Ratan",
      "photoUrl": "https://lh3.googleusercontent.com/a-/AAuE7mCGo6aIm0tOcd5EhqWlYb0rime9sBvHS9YMpx0D2w=s64",
      "userId": "08597265227091462140"
     },
     "user_tz": 0
    },
    "id": "zNdyufW6w5QX",
    "outputId": "cf366448-fe3d-44e4-ccad-722be625304e"
   },
   "outputs": [
    {
     "data": {
      "text/plain": [
       "array([[5., 6., 0., 1.],\n",
       "       [7., 0., 1., 1.],\n",
       "       [4., 0., 0., 2.],\n",
       "       [7., 0., 1., 0.],\n",
       "       [2., 0., 1., 2.],\n",
       "       [4., 0., 0., 2.],\n",
       "       [8., 0., 0., 2.],\n",
       "       [1., 0., 0., 2.],\n",
       "       [2., 0., 0., 2.],\n",
       "       [5., 6., 1., 0.]])"
      ]
     },
     "execution_count": 67,
     "metadata": {},
     "output_type": "execute_result"
    }
   ],
   "source": [
    "ordinal_encoder = OrdinalEncoder()\n",
    "X_cat_enc = ordinal_encoder.fit_transform(X_cat)\n",
    "X_cat_enc[:10]"
   ]
  },
  {
   "cell_type": "code",
   "execution_count": 68,
   "metadata": {
    "colab": {
     "base_uri": "https://localhost:8080/",
     "height": 173
    },
    "colab_type": "code",
    "executionInfo": {
     "elapsed": 428,
     "status": "ok",
     "timestamp": 1573951934494,
     "user": {
      "displayName": "Rajeev Ratan",
      "photoUrl": "https://lh3.googleusercontent.com/a-/AAuE7mCGo6aIm0tOcd5EhqWlYb0rime9sBvHS9YMpx0D2w=s64",
      "userId": "08597265227091462140"
     },
     "user_tz": 0
    },
    "id": "b47WGxuuw5Qh",
    "outputId": "e174896f-98c2-4a63-d7c0-e349d15f10a3"
   },
   "outputs": [
    {
     "data": {
      "text/plain": [
       "[array(['Bondi', 'Bondi Beach', 'Coogee', 'Darlinghurst', 'Manly',\n",
       "        'Newtown', 'North Bondi', 'Randwick', 'Surry Hills', 'Sydney'],\n",
       "       dtype=object),\n",
       " array(['Apartment', 'Bed and breakfast', 'Condominium', 'Guest suite',\n",
       "        'Guesthouse', 'Hostel', 'House', 'Loft', 'Other',\n",
       "        'Serviced apartment', 'Townhouse', 'Villa'], dtype=object),\n",
       " array(['Entire home/apt', 'Private room', 'Shared room'], dtype=object),\n",
       " array(['flexible', 'moderate', 'strict_14_with_grace_period',\n",
       "        'super_strict_60'], dtype=object)]"
      ]
     },
     "execution_count": 68,
     "metadata": {},
     "output_type": "execute_result"
    }
   ],
   "source": [
    "ordinal_encoder.categories_"
   ]
  },
  {
   "cell_type": "code",
   "execution_count": 69,
   "metadata": {
    "colab": {
     "base_uri": "https://localhost:8080/",
     "height": 52
    },
    "colab_type": "code",
    "executionInfo": {
     "elapsed": 395,
     "status": "ok",
     "timestamp": 1573951946326,
     "user": {
      "displayName": "Rajeev Ratan",
      "photoUrl": "https://lh3.googleusercontent.com/a-/AAuE7mCGo6aIm0tOcd5EhqWlYb0rime9sBvHS9YMpx0D2w=s64",
      "userId": "08597265227091462140"
     },
     "user_tz": 0
    },
    "id": "cG-V0NPaw5Qq",
    "outputId": "0db50ed2-041a-4f01-f9dd-1a55afede030"
   },
   "outputs": [
    {
     "data": {
      "text/plain": [
       "<6485x29 sparse matrix of type '<class 'numpy.float64'>'\n",
       "\twith 25940 stored elements in Compressed Sparse Row format>"
      ]
     },
     "execution_count": 69,
     "metadata": {},
     "output_type": "execute_result"
    }
   ],
   "source": [
    "from sklearn.preprocessing import OneHotEncoder\n",
    "\n",
    "cat_encoder = OneHotEncoder()\n",
    "X_cat_1hot = cat_encoder.fit_transform(X_cat)\n",
    "X_cat_1hot"
   ]
  },
  {
   "cell_type": "markdown",
   "metadata": {
    "colab_type": "text",
    "id": "VSbE62pNw5Q8"
   },
   "source": [
    "By default, the `OneHotEncoder` class returns a sparse array, but we can convert it to a dense array if needed by calling the `toarray()` method:"
   ]
  },
  {
   "cell_type": "code",
   "execution_count": 70,
   "metadata": {
    "colab": {
     "base_uri": "https://localhost:8080/",
     "height": 139
    },
    "colab_type": "code",
    "executionInfo": {
     "elapsed": 388,
     "status": "ok",
     "timestamp": 1573951949798,
     "user": {
      "displayName": "Rajeev Ratan",
      "photoUrl": "https://lh3.googleusercontent.com/a-/AAuE7mCGo6aIm0tOcd5EhqWlYb0rime9sBvHS9YMpx0D2w=s64",
      "userId": "08597265227091462140"
     },
     "user_tz": 0
    },
    "id": "wse7kfOJw5Q_",
    "outputId": "f0926a41-c7fc-4e9a-8397-a3025e389bdd"
   },
   "outputs": [
    {
     "data": {
      "text/plain": [
       "array([[0., 0., 0., ..., 1., 0., 0.],\n",
       "       [0., 0., 0., ..., 1., 0., 0.],\n",
       "       [0., 0., 0., ..., 0., 1., 0.],\n",
       "       ...,\n",
       "       [1., 0., 0., ..., 1., 0., 0.],\n",
       "       [0., 0., 0., ..., 0., 1., 0.],\n",
       "       [0., 0., 1., ..., 0., 1., 0.]])"
      ]
     },
     "execution_count": 70,
     "metadata": {},
     "output_type": "execute_result"
    }
   ],
   "source": [
    "X_cat_1hot.toarray()"
   ]
  },
  {
   "cell_type": "markdown",
   "metadata": {
    "colab_type": "text",
    "id": "Czb3Sc58w5RP"
   },
   "source": [
    "Alternatively, you can set `sparse=False` when creating the `OneHotEncoder`:"
   ]
  },
  {
   "cell_type": "code",
   "execution_count": 71,
   "metadata": {
    "colab": {
     "base_uri": "https://localhost:8080/",
     "height": 139
    },
    "colab_type": "code",
    "executionInfo": {
     "elapsed": 483,
     "status": "ok",
     "timestamp": 1573952032658,
     "user": {
      "displayName": "Rajeev Ratan",
      "photoUrl": "https://lh3.googleusercontent.com/a-/AAuE7mCGo6aIm0tOcd5EhqWlYb0rime9sBvHS9YMpx0D2w=s64",
      "userId": "08597265227091462140"
     },
     "user_tz": 0
    },
    "id": "MPvz38hvw5RQ",
    "outputId": "9ac324f3-1196-4a5c-8b9c-f7068795c027"
   },
   "outputs": [
    {
     "data": {
      "text/plain": [
       "array([[0., 0., 0., ..., 1., 0., 0.],\n",
       "       [0., 0., 0., ..., 1., 0., 0.],\n",
       "       [0., 0., 0., ..., 0., 1., 0.],\n",
       "       ...,\n",
       "       [1., 0., 0., ..., 1., 0., 0.],\n",
       "       [0., 0., 0., ..., 0., 1., 0.],\n",
       "       [0., 0., 1., ..., 0., 1., 0.]])"
      ]
     },
     "execution_count": 71,
     "metadata": {},
     "output_type": "execute_result"
    }
   ],
   "source": [
    "cat_encoder = OneHotEncoder(sparse=False)\n",
    "X_cat_1hot = cat_encoder.fit_transform(X_cat)\n",
    "X_cat_1hot"
   ]
  },
  {
   "cell_type": "code",
   "execution_count": 72,
   "metadata": {
    "colab": {
     "base_uri": "https://localhost:8080/",
     "height": 173
    },
    "colab_type": "code",
    "executionInfo": {
     "elapsed": 453,
     "status": "ok",
     "timestamp": 1573168829392,
     "user": {
      "displayName": "Rajeev Ratan",
      "photoUrl": "https://lh3.googleusercontent.com/a-/AAuE7mCGo6aIm0tOcd5EhqWlYb0rime9sBvHS9YMpx0D2w=s64",
      "userId": "08597265227091462140"
     },
     "user_tz": 0
    },
    "id": "_RN9A0Cbw5RY",
    "outputId": "4fcea9d7-3c4e-4834-d791-ab05c60e373f"
   },
   "outputs": [
    {
     "data": {
      "text/plain": [
       "[array(['Bondi', 'Bondi Beach', 'Coogee', 'Darlinghurst', 'Manly',\n",
       "        'Newtown', 'North Bondi', 'Randwick', 'Surry Hills', 'Sydney'],\n",
       "       dtype=object),\n",
       " array(['Apartment', 'Bed and breakfast', 'Condominium', 'Guest suite',\n",
       "        'Guesthouse', 'Hostel', 'House', 'Loft', 'Other',\n",
       "        'Serviced apartment', 'Townhouse', 'Villa'], dtype=object),\n",
       " array(['Entire home/apt', 'Private room', 'Shared room'], dtype=object),\n",
       " array(['flexible', 'moderate', 'strict_14_with_grace_period',\n",
       "        'super_strict_60'], dtype=object)]"
      ]
     },
     "execution_count": 72,
     "metadata": {},
     "output_type": "execute_result"
    }
   ],
   "source": [
    "cat_encoder.categories_"
   ]
  },
  {
   "cell_type": "markdown",
   "metadata": {
    "colab_type": "text",
    "id": "E92-ZqWiw5Rn"
   },
   "source": [
    "Let's create a custom transformer to add extra attributes:"
   ]
  },
  {
   "cell_type": "markdown",
   "metadata": {
    "colab_type": "text",
    "id": "LDHO17Jrw5Ro"
   },
   "source": [
    "#### **Now let's create a pipeline for preprocessing that is built on the techniques we used up and till now and introduce some new pipeline techniques.**"
   ]
  },
  {
   "cell_type": "code",
   "execution_count": 73,
   "metadata": {
    "colab": {},
    "colab_type": "code",
    "id": "BTVFcERtw5Rp"
   },
   "outputs": [],
   "source": [
    "from sklearn.base import BaseEstimator, TransformerMixin\n",
    "from datetime import datetime\n",
    "numerics = ['int16', 'int32', 'int64', 'float16', 'float32', 'float64']\n",
    "\n",
    "# Receive numpy array, convert to pandas for features, convert back to array for output.\n",
    "\n",
    "class CombinedAttributesAdder(BaseEstimator, TransformerMixin):\n",
    "    def __init__(self, popularity = True, num_cols=[]): # no *args or **kargs\n",
    "        self.popularity = popularity\n",
    "    def fit(self, X, y=None):\n",
    "        return self  # nothing else to do\n",
    "    def transform(self, X, y=None):\n",
    "        \n",
    "        ### Some feature engineering\n",
    "        X = pd.DataFrame(X, columns=num_cols)\n",
    "        X[\"bedrooms_per_person\"] = X[\"bedrooms\"]/X[\"accommodates\"]\n",
    "        X[\"bathrooms_per_person\"] = X[\"bathrooms\"]/X[\"accommodates\"]\n",
    "        \n",
    "        global feats\n",
    "        feats = [\"bedrooms_per_person\",\"bathrooms_per_person\"]\n",
    "\n",
    "        if self.popularity:\n",
    "            X[\"past_and_future_popularity\"]=X[\"number_of_reviews\"]/(X[\"availability_365\"]+1)\n",
    "            feats.append(\"past_and_future_popularity\")\n",
    "            \n",
    "            return X.values\n",
    "        else:\n",
    "            return X.values\n",
    "        "
   ]
  },
  {
   "cell_type": "code",
   "execution_count": 74,
   "metadata": {
    "colab": {
     "base_uri": "https://localhost:8080/",
     "height": 72
    },
    "colab_type": "code",
    "executionInfo": {
     "elapsed": 507,
     "status": "ok",
     "timestamp": 1573952315126,
     "user": {
      "displayName": "Rajeev Ratan",
      "photoUrl": "https://lh3.googleusercontent.com/a-/AAuE7mCGo6aIm0tOcd5EhqWlYb0rime9sBvHS9YMpx0D2w=s64",
      "userId": "08597265227091462140"
     },
     "user_tz": 0
    },
    "id": "7Z0PQD7jw5Rx",
    "outputId": "abcc452a-9174-474e-da36-84a4f936e474"
   },
   "outputs": [],
   "source": [
    "from sklearn.pipeline import Pipeline\n",
    "from sklearn.preprocessing import StandardScaler\n",
    "from sklearn.impute import SimpleImputer\n",
    "\n",
    "strat_train_set2 = strat_train_set.dropna()\n",
    "X = strat_train_set2.copy().drop(\"price\",axis=1)\n",
    "Y = strat_train_set2[\"price\"]\n",
    "\n",
    "num_cols = list(X.select_dtypes(include=numerics).columns)\n",
    "cat_cols = list(X.select_dtypes(include=[object]).columns)\n",
    "\n",
    "num_pipeline = Pipeline([\n",
    "        ('imputer', SimpleImputer(strategy=\"median\")),\n",
    "        ('attribs_adder', CombinedAttributesAdder(num_cols=num_cols,popularity=True)),\n",
    "        ('std_scaler', StandardScaler()),\n",
    "    ])"
   ]
  },
  {
   "cell_type": "markdown",
   "metadata": {
    "colab_type": "text",
    "id": "3u34Imrxw5R5"
   },
   "source": [
    "**Warning**: earlier versions of the book applied different transformations to different columns using a solution based on a `DataFrameSelector` transformer and a `FeatureUnion` (see below). It is now preferable to use the `ColumnTransformer` class that will is introduced in Scikit-Learn 0.20. "
   ]
  },
  {
   "cell_type": "code",
   "execution_count": 75,
   "metadata": {
    "colab": {},
    "colab_type": "code",
    "id": "1ssxaRz7w5R6"
   },
   "outputs": [],
   "source": [
    "from sklearn.compose import ColumnTransformer\n",
    "import itertools\n",
    "\n",
    "\n",
    "numerics = ['int16', 'int32', 'int64', 'float16', 'float32', 'float64']\n",
    "\n",
    "mid_pipeline = ColumnTransformer([\n",
    "        (\"num\", num_pipeline, num_cols),\n",
    "        (\"cat\", OneHotEncoder(),cat_cols ),\n",
    "    ])"
   ]
  },
  {
   "cell_type": "code",
   "execution_count": 76,
   "metadata": {
    "colab": {
     "base_uri": "https://localhost:8080/",
     "height": 107
    },
    "colab_type": "code",
    "executionInfo": {
     "elapsed": 463,
     "status": "ok",
     "timestamp": 1573952520839,
     "user": {
      "displayName": "Rajeev Ratan",
      "photoUrl": "https://lh3.googleusercontent.com/a-/AAuE7mCGo6aIm0tOcd5EhqWlYb0rime9sBvHS9YMpx0D2w=s64",
      "userId": "08597265227091462140"
     },
     "user_tz": 0
    },
    "id": "pQwKODGow5R9",
    "outputId": "1fb7e51c-2c98-4989-c3aa-12691a903673"
   },
   "outputs": [
    {
     "name": "stderr",
     "output_type": "stream",
     "text": [
      "C:\\Users\\Atena\\anaconda\\lib\\site-packages\\sklearn\\base.py:209: FutureWarning: From version 0.24, get_params will raise an AttributeError if a parameter cannot be retrieved as an instance attribute. Previously it would return None.\n",
      "  warnings.warn('From version 0.24, get_params will raise an '\n",
      "C:\\Users\\Atena\\anaconda\\lib\\site-packages\\sklearn\\base.py:209: FutureWarning: From version 0.24, get_params will raise an AttributeError if a parameter cannot be retrieved as an instance attribute. Previously it would return None.\n",
      "  warnings.warn('From version 0.24, get_params will raise an '\n"
     ]
    }
   ],
   "source": [
    "mid_pipeline.fit(X) # this one specifically has to be fitted for the cat names\n",
    "cat_encoder = mid_pipeline.named_transformers_[\"cat\"]\n",
    "sublists = [list(bas) for bas in cat_encoder.categories_]\n",
    "one_cols = list(itertools.chain(*sublists))\n",
    "\n",
    "## In this class, I will be converting numpy back to pandas\n",
    "\n",
    "class ToPandasDF(BaseEstimator, TransformerMixin):\n",
    "    def __init__(self, fit_index = [] ): # no *args or **kargs\n",
    "        self.fit_index = fit_index\n",
    "    def fit(self, X_df, y=None):\n",
    "        return self  # nothing else to do\n",
    "    def transform(self, X_df, y=None):\n",
    "        global cols\n",
    "        cols = num_cols.copy()\n",
    "        cols.extend(feats)\n",
    "        cols.extend(one_cols) # one in place of cat\n",
    "        X_df = pd.DataFrame(X_df, columns=cols,index=self.fit_index)\n",
    "\n",
    "        return X_df\n",
    "\n",
    "def pipe(inds):\n",
    "    return Pipeline([\n",
    "            (\"mid\", mid_pipeline),\n",
    "            (\"PD\", ToPandasDF(inds)),\n",
    "        ])\n",
    "    \n",
    "params = {\"inds\" : list(X.index)}\n",
    "\n",
    "X_pr = pipe(**params).fit_transform(X) # Now we have done all the preprocessing instead of\n",
    "                                   #.. doing it bit by bit. The pipeline becomes \n",
    "                                   #.. extremely handy in the cross-validation step."
   ]
  },
  {
   "cell_type": "code",
   "execution_count": 77,
   "metadata": {
    "colab": {
     "base_uri": "https://localhost:8080/",
     "height": 239
    },
    "colab_type": "code",
    "executionInfo": {
     "elapsed": 435,
     "status": "ok",
     "timestamp": 1573952524469,
     "user": {
      "displayName": "Rajeev Ratan",
      "photoUrl": "https://lh3.googleusercontent.com/a-/AAuE7mCGo6aIm0tOcd5EhqWlYb0rime9sBvHS9YMpx0D2w=s64",
      "userId": "08597265227091462140"
     },
     "user_tz": 0
    },
    "id": "qJvFJgXu_as-",
    "outputId": "ecfabbfd-33e2-47e5-f48a-9b882b1107f0"
   },
   "outputs": [
    {
     "data": {
      "text/html": [
       "<div>\n",
       "<style scoped>\n",
       "    .dataframe tbody tr th:only-of-type {\n",
       "        vertical-align: middle;\n",
       "    }\n",
       "\n",
       "    .dataframe tbody tr th {\n",
       "        vertical-align: top;\n",
       "    }\n",
       "\n",
       "    .dataframe thead th {\n",
       "        text-align: right;\n",
       "    }\n",
       "</style>\n",
       "<table border=\"1\" class=\"dataframe\">\n",
       "  <thead>\n",
       "    <tr style=\"text-align: right;\">\n",
       "      <th></th>\n",
       "      <th>longitude</th>\n",
       "      <th>latitude</th>\n",
       "      <th>review_scores_rating</th>\n",
       "      <th>number_of_reviews</th>\n",
       "      <th>minimum_nights</th>\n",
       "      <th>security_deposit</th>\n",
       "      <th>cleaning_fee</th>\n",
       "      <th>accommodates</th>\n",
       "      <th>bathrooms</th>\n",
       "      <th>bedrooms</th>\n",
       "      <th>beds</th>\n",
       "      <th>availability_365</th>\n",
       "      <th>host_identity_verified</th>\n",
       "      <th>host_is_superhost</th>\n",
       "      <th>bedrooms_per_person</th>\n",
       "      <th>bathrooms_per_person</th>\n",
       "      <th>past_and_future_popularity</th>\n",
       "      <th>Bondi</th>\n",
       "      <th>Bondi Beach</th>\n",
       "      <th>Coogee</th>\n",
       "      <th>Darlinghurst</th>\n",
       "      <th>Manly</th>\n",
       "      <th>Newtown</th>\n",
       "      <th>North Bondi</th>\n",
       "      <th>Randwick</th>\n",
       "      <th>Surry Hills</th>\n",
       "      <th>Sydney</th>\n",
       "      <th>Apartment</th>\n",
       "      <th>Bed and breakfast</th>\n",
       "      <th>Condominium</th>\n",
       "      <th>Guest suite</th>\n",
       "      <th>Guesthouse</th>\n",
       "      <th>Hostel</th>\n",
       "      <th>House</th>\n",
       "      <th>Loft</th>\n",
       "      <th>Other</th>\n",
       "      <th>Serviced apartment</th>\n",
       "      <th>Townhouse</th>\n",
       "      <th>Villa</th>\n",
       "      <th>Entire home/apt</th>\n",
       "      <th>Private room</th>\n",
       "      <th>Shared room</th>\n",
       "      <th>flexible</th>\n",
       "      <th>moderate</th>\n",
       "      <th>strict_14_with_grace_period</th>\n",
       "      <th>super_strict_60</th>\n",
       "    </tr>\n",
       "  </thead>\n",
       "  <tbody>\n",
       "    <tr>\n",
       "      <th>5484</th>\n",
       "      <td>-1.998871</td>\n",
       "      <td>-0.783981</td>\n",
       "      <td>0.304899</td>\n",
       "      <td>1.084616</td>\n",
       "      <td>-0.142452</td>\n",
       "      <td>-0.089243</td>\n",
       "      <td>0.214312</td>\n",
       "      <td>0.414626</td>\n",
       "      <td>-0.446702</td>\n",
       "      <td>0.633003</td>\n",
       "      <td>0.124228</td>\n",
       "      <td>0.245249</td>\n",
       "      <td>0.860056</td>\n",
       "      <td>-0.410279</td>\n",
       "      <td>0.066709</td>\n",
       "      <td>-0.812284</td>\n",
       "      <td>-0.265252</td>\n",
       "      <td>0.0</td>\n",
       "      <td>0.0</td>\n",
       "      <td>0.0</td>\n",
       "      <td>0.0</td>\n",
       "      <td>0.0</td>\n",
       "      <td>1.0</td>\n",
       "      <td>0.0</td>\n",
       "      <td>0.0</td>\n",
       "      <td>0.0</td>\n",
       "      <td>0.0</td>\n",
       "      <td>0.0</td>\n",
       "      <td>0.0</td>\n",
       "      <td>0.0</td>\n",
       "      <td>0.0</td>\n",
       "      <td>0.0</td>\n",
       "      <td>0.0</td>\n",
       "      <td>1.0</td>\n",
       "      <td>0.0</td>\n",
       "      <td>0.0</td>\n",
       "      <td>0.0</td>\n",
       "      <td>0.0</td>\n",
       "      <td>0.0</td>\n",
       "      <td>1.0</td>\n",
       "      <td>0.0</td>\n",
       "      <td>0.0</td>\n",
       "      <td>0.0</td>\n",
       "      <td>1.0</td>\n",
       "      <td>0.0</td>\n",
       "      <td>0.0</td>\n",
       "    </tr>\n",
       "    <tr>\n",
       "      <th>1267</th>\n",
       "      <td>0.094447</td>\n",
       "      <td>-0.756122</td>\n",
       "      <td>0.413560</td>\n",
       "      <td>-0.402834</td>\n",
       "      <td>-0.022353</td>\n",
       "      <td>-0.594668</td>\n",
       "      <td>-0.694888</td>\n",
       "      <td>-0.669371</td>\n",
       "      <td>-0.446702</td>\n",
       "      <td>-0.499778</td>\n",
       "      <td>-0.641574</td>\n",
       "      <td>-0.798199</td>\n",
       "      <td>0.860056</td>\n",
       "      <td>-0.410279</td>\n",
       "      <td>0.066709</td>\n",
       "      <td>0.127492</td>\n",
       "      <td>0.297268</td>\n",
       "      <td>0.0</td>\n",
       "      <td>0.0</td>\n",
       "      <td>0.0</td>\n",
       "      <td>0.0</td>\n",
       "      <td>0.0</td>\n",
       "      <td>0.0</td>\n",
       "      <td>0.0</td>\n",
       "      <td>1.0</td>\n",
       "      <td>0.0</td>\n",
       "      <td>0.0</td>\n",
       "      <td>1.0</td>\n",
       "      <td>0.0</td>\n",
       "      <td>0.0</td>\n",
       "      <td>0.0</td>\n",
       "      <td>0.0</td>\n",
       "      <td>0.0</td>\n",
       "      <td>0.0</td>\n",
       "      <td>0.0</td>\n",
       "      <td>0.0</td>\n",
       "      <td>0.0</td>\n",
       "      <td>0.0</td>\n",
       "      <td>0.0</td>\n",
       "      <td>0.0</td>\n",
       "      <td>1.0</td>\n",
       "      <td>0.0</td>\n",
       "      <td>0.0</td>\n",
       "      <td>1.0</td>\n",
       "      <td>0.0</td>\n",
       "      <td>0.0</td>\n",
       "    </tr>\n",
       "    <tr>\n",
       "      <th>6658</th>\n",
       "      <td>1.266501</td>\n",
       "      <td>2.266244</td>\n",
       "      <td>0.739541</td>\n",
       "      <td>-0.511012</td>\n",
       "      <td>-0.142452</td>\n",
       "      <td>-0.594668</td>\n",
       "      <td>-0.415134</td>\n",
       "      <td>-0.669371</td>\n",
       "      <td>-0.446702</td>\n",
       "      <td>-0.499778</td>\n",
       "      <td>-0.641574</td>\n",
       "      <td>-0.798199</td>\n",
       "      <td>0.860056</td>\n",
       "      <td>-0.410279</td>\n",
       "      <td>0.066709</td>\n",
       "      <td>0.127492</td>\n",
       "      <td>-0.110102</td>\n",
       "      <td>0.0</td>\n",
       "      <td>0.0</td>\n",
       "      <td>0.0</td>\n",
       "      <td>0.0</td>\n",
       "      <td>1.0</td>\n",
       "      <td>0.0</td>\n",
       "      <td>0.0</td>\n",
       "      <td>0.0</td>\n",
       "      <td>0.0</td>\n",
       "      <td>0.0</td>\n",
       "      <td>1.0</td>\n",
       "      <td>0.0</td>\n",
       "      <td>0.0</td>\n",
       "      <td>0.0</td>\n",
       "      <td>0.0</td>\n",
       "      <td>0.0</td>\n",
       "      <td>0.0</td>\n",
       "      <td>0.0</td>\n",
       "      <td>0.0</td>\n",
       "      <td>0.0</td>\n",
       "      <td>0.0</td>\n",
       "      <td>0.0</td>\n",
       "      <td>1.0</td>\n",
       "      <td>0.0</td>\n",
       "      <td>0.0</td>\n",
       "      <td>0.0</td>\n",
       "      <td>0.0</td>\n",
       "      <td>1.0</td>\n",
       "      <td>0.0</td>\n",
       "    </tr>\n",
       "    <tr>\n",
       "      <th>2522</th>\n",
       "      <td>-0.280005</td>\n",
       "      <td>-0.971618</td>\n",
       "      <td>0.087578</td>\n",
       "      <td>-0.024210</td>\n",
       "      <td>-0.082403</td>\n",
       "      <td>-0.594668</td>\n",
       "      <td>-0.974641</td>\n",
       "      <td>-0.669371</td>\n",
       "      <td>-0.446702</td>\n",
       "      <td>-0.499778</td>\n",
       "      <td>-0.641574</td>\n",
       "      <td>-0.058748</td>\n",
       "      <td>-1.162716</td>\n",
       "      <td>-0.410279</td>\n",
       "      <td>0.066709</td>\n",
       "      <td>0.127492</td>\n",
       "      <td>-0.291403</td>\n",
       "      <td>0.0</td>\n",
       "      <td>0.0</td>\n",
       "      <td>0.0</td>\n",
       "      <td>0.0</td>\n",
       "      <td>0.0</td>\n",
       "      <td>0.0</td>\n",
       "      <td>0.0</td>\n",
       "      <td>1.0</td>\n",
       "      <td>0.0</td>\n",
       "      <td>0.0</td>\n",
       "      <td>1.0</td>\n",
       "      <td>0.0</td>\n",
       "      <td>0.0</td>\n",
       "      <td>0.0</td>\n",
       "      <td>0.0</td>\n",
       "      <td>0.0</td>\n",
       "      <td>0.0</td>\n",
       "      <td>0.0</td>\n",
       "      <td>0.0</td>\n",
       "      <td>0.0</td>\n",
       "      <td>0.0</td>\n",
       "      <td>0.0</td>\n",
       "      <td>0.0</td>\n",
       "      <td>1.0</td>\n",
       "      <td>0.0</td>\n",
       "      <td>1.0</td>\n",
       "      <td>0.0</td>\n",
       "      <td>0.0</td>\n",
       "      <td>0.0</td>\n",
       "    </tr>\n",
       "    <tr>\n",
       "      <th>722</th>\n",
       "      <td>0.400714</td>\n",
       "      <td>-1.111584</td>\n",
       "      <td>-0.129743</td>\n",
       "      <td>3.194089</td>\n",
       "      <td>1.538926</td>\n",
       "      <td>-0.594668</td>\n",
       "      <td>-0.974641</td>\n",
       "      <td>-0.127373</td>\n",
       "      <td>-0.446702</td>\n",
       "      <td>-0.499778</td>\n",
       "      <td>0.124228</td>\n",
       "      <td>-0.798199</td>\n",
       "      <td>0.860056</td>\n",
       "      <td>-0.410279</td>\n",
       "      <td>-0.618520</td>\n",
       "      <td>-0.499025</td>\n",
       "      <td>13.842301</td>\n",
       "      <td>0.0</td>\n",
       "      <td>0.0</td>\n",
       "      <td>1.0</td>\n",
       "      <td>0.0</td>\n",
       "      <td>0.0</td>\n",
       "      <td>0.0</td>\n",
       "      <td>0.0</td>\n",
       "      <td>0.0</td>\n",
       "      <td>0.0</td>\n",
       "      <td>0.0</td>\n",
       "      <td>1.0</td>\n",
       "      <td>0.0</td>\n",
       "      <td>0.0</td>\n",
       "      <td>0.0</td>\n",
       "      <td>0.0</td>\n",
       "      <td>0.0</td>\n",
       "      <td>0.0</td>\n",
       "      <td>0.0</td>\n",
       "      <td>0.0</td>\n",
       "      <td>0.0</td>\n",
       "      <td>0.0</td>\n",
       "      <td>0.0</td>\n",
       "      <td>0.0</td>\n",
       "      <td>1.0</td>\n",
       "      <td>0.0</td>\n",
       "      <td>0.0</td>\n",
       "      <td>0.0</td>\n",
       "      <td>1.0</td>\n",
       "      <td>0.0</td>\n",
       "    </tr>\n",
       "  </tbody>\n",
       "</table>\n",
       "</div>"
      ],
      "text/plain": [
       "      longitude  latitude  review_scores_rating  number_of_reviews  \\\n",
       "5484  -1.998871 -0.783981              0.304899           1.084616   \n",
       "1267   0.094447 -0.756122              0.413560          -0.402834   \n",
       "6658   1.266501  2.266244              0.739541          -0.511012   \n",
       "2522  -0.280005 -0.971618              0.087578          -0.024210   \n",
       "722    0.400714 -1.111584             -0.129743           3.194089   \n",
       "\n",
       "      minimum_nights  security_deposit  cleaning_fee  accommodates  bathrooms  \\\n",
       "5484       -0.142452         -0.089243      0.214312      0.414626  -0.446702   \n",
       "1267       -0.022353         -0.594668     -0.694888     -0.669371  -0.446702   \n",
       "6658       -0.142452         -0.594668     -0.415134     -0.669371  -0.446702   \n",
       "2522       -0.082403         -0.594668     -0.974641     -0.669371  -0.446702   \n",
       "722         1.538926         -0.594668     -0.974641     -0.127373  -0.446702   \n",
       "\n",
       "      bedrooms      beds  availability_365  host_identity_verified  \\\n",
       "5484  0.633003  0.124228          0.245249                0.860056   \n",
       "1267 -0.499778 -0.641574         -0.798199                0.860056   \n",
       "6658 -0.499778 -0.641574         -0.798199                0.860056   \n",
       "2522 -0.499778 -0.641574         -0.058748               -1.162716   \n",
       "722  -0.499778  0.124228         -0.798199                0.860056   \n",
       "\n",
       "      host_is_superhost  bedrooms_per_person  bathrooms_per_person  \\\n",
       "5484          -0.410279             0.066709             -0.812284   \n",
       "1267          -0.410279             0.066709              0.127492   \n",
       "6658          -0.410279             0.066709              0.127492   \n",
       "2522          -0.410279             0.066709              0.127492   \n",
       "722           -0.410279            -0.618520             -0.499025   \n",
       "\n",
       "      past_and_future_popularity  Bondi  Bondi Beach  Coogee  Darlinghurst  \\\n",
       "5484                   -0.265252    0.0          0.0     0.0           0.0   \n",
       "1267                    0.297268    0.0          0.0     0.0           0.0   \n",
       "6658                   -0.110102    0.0          0.0     0.0           0.0   \n",
       "2522                   -0.291403    0.0          0.0     0.0           0.0   \n",
       "722                    13.842301    0.0          0.0     1.0           0.0   \n",
       "\n",
       "      Manly  Newtown  North Bondi  Randwick  Surry Hills  Sydney  Apartment  \\\n",
       "5484    0.0      1.0          0.0       0.0          0.0     0.0        0.0   \n",
       "1267    0.0      0.0          0.0       1.0          0.0     0.0        1.0   \n",
       "6658    1.0      0.0          0.0       0.0          0.0     0.0        1.0   \n",
       "2522    0.0      0.0          0.0       1.0          0.0     0.0        1.0   \n",
       "722     0.0      0.0          0.0       0.0          0.0     0.0        1.0   \n",
       "\n",
       "      Bed and breakfast  Condominium  Guest suite  Guesthouse  Hostel  House  \\\n",
       "5484                0.0          0.0          0.0         0.0     0.0    1.0   \n",
       "1267                0.0          0.0          0.0         0.0     0.0    0.0   \n",
       "6658                0.0          0.0          0.0         0.0     0.0    0.0   \n",
       "2522                0.0          0.0          0.0         0.0     0.0    0.0   \n",
       "722                 0.0          0.0          0.0         0.0     0.0    0.0   \n",
       "\n",
       "      Loft  Other  Serviced apartment  Townhouse  Villa  Entire home/apt  \\\n",
       "5484   0.0    0.0                 0.0        0.0    0.0              1.0   \n",
       "1267   0.0    0.0                 0.0        0.0    0.0              0.0   \n",
       "6658   0.0    0.0                 0.0        0.0    0.0              1.0   \n",
       "2522   0.0    0.0                 0.0        0.0    0.0              0.0   \n",
       "722    0.0    0.0                 0.0        0.0    0.0              0.0   \n",
       "\n",
       "      Private room  Shared room  flexible  moderate  \\\n",
       "5484           0.0          0.0       0.0       1.0   \n",
       "1267           1.0          0.0       0.0       1.0   \n",
       "6658           0.0          0.0       0.0       0.0   \n",
       "2522           1.0          0.0       1.0       0.0   \n",
       "722            1.0          0.0       0.0       0.0   \n",
       "\n",
       "      strict_14_with_grace_period  super_strict_60  \n",
       "5484                          0.0              0.0  \n",
       "1267                          0.0              0.0  \n",
       "6658                          1.0              0.0  \n",
       "2522                          0.0              0.0  \n",
       "722                           1.0              0.0  "
      ]
     },
     "execution_count": 77,
     "metadata": {},
     "output_type": "execute_result"
    }
   ],
   "source": [
    "X_pr.head()"
   ]
  },
  {
   "cell_type": "markdown",
   "metadata": {
    "colab_type": "text",
    "id": "jjNyCAI4w5SF"
   },
   "source": [
    "# Select and train a model "
   ]
  },
  {
   "cell_type": "code",
   "execution_count": 78,
   "metadata": {
    "colab": {
     "base_uri": "https://localhost:8080/",
     "height": 35
    },
    "colab_type": "code",
    "executionInfo": {
     "elapsed": 478,
     "status": "ok",
     "timestamp": 1573952542218,
     "user": {
      "displayName": "Rajeev Ratan",
      "photoUrl": "https://lh3.googleusercontent.com/a-/AAuE7mCGo6aIm0tOcd5EhqWlYb0rime9sBvHS9YMpx0D2w=s64",
      "userId": "08597265227091462140"
     },
     "user_tz": 0
    },
    "id": "bexu5Jxew5SG",
    "outputId": "538e47f3-a0fe-4fc6-864f-3135c78e8d48"
   },
   "outputs": [
    {
     "data": {
      "text/plain": [
       "LinearRegression()"
      ]
     },
     "execution_count": 78,
     "metadata": {},
     "output_type": "execute_result"
    }
   ],
   "source": [
    "from sklearn.linear_model import LinearRegression\n",
    "Y_pr = Y.copy() # just for naming convention, _pr for processed.\n",
    "\n",
    "lin_reg = LinearRegression()\n",
    "lin_reg.fit(X_pr, Y_pr)"
   ]
  },
  {
   "cell_type": "code",
   "execution_count": 79,
   "metadata": {
    "colab": {
     "base_uri": "https://localhost:8080/",
     "height": 35
    },
    "colab_type": "code",
    "executionInfo": {
     "elapsed": 388,
     "status": "ok",
     "timestamp": 1573952554939,
     "user": {
      "displayName": "Rajeev Ratan",
      "photoUrl": "https://lh3.googleusercontent.com/a-/AAuE7mCGo6aIm0tOcd5EhqWlYb0rime9sBvHS9YMpx0D2w=s64",
      "userId": "08597265227091462140"
     },
     "user_tz": 0
    },
    "id": "nDUC_rAIw5SK",
    "outputId": "bbe44402-3d01-4e84-b36c-95a050cfd89a"
   },
   "outputs": [
    {
     "name": "stdout",
     "output_type": "stream",
     "text": [
      "Predictions: [212.94292778  47.79979448 151.23246225  44.00839484  70.92391741]\n"
     ]
    }
   ],
   "source": [
    "# let's try the full preprocessing pipeline on a few training instances\n",
    "some_data = X.iloc[:5]\n",
    "some_labels = Y.iloc[:5]\n",
    "some_data_prepared = pipe(inds=list(some_data.index)).transform(some_data)\n",
    "\n",
    "print(\"Predictions:\", lin_reg.predict(some_data_prepared))"
   ]
  },
  {
   "cell_type": "markdown",
   "metadata": {
    "colab_type": "text",
    "id": "c5A2Oz8yw5SQ"
   },
   "source": [
    "Compare against the actual values:"
   ]
  },
  {
   "cell_type": "code",
   "execution_count": 80,
   "metadata": {
    "colab": {
     "base_uri": "https://localhost:8080/",
     "height": 35
    },
    "colab_type": "code",
    "executionInfo": {
     "elapsed": 461,
     "status": "ok",
     "timestamp": 1573952571098,
     "user": {
      "displayName": "Rajeev Ratan",
      "photoUrl": "https://lh3.googleusercontent.com/a-/AAuE7mCGo6aIm0tOcd5EhqWlYb0rime9sBvHS9YMpx0D2w=s64",
      "userId": "08597265227091462140"
     },
     "user_tz": 0
    },
    "id": "frLz_Tjxw5SR",
    "outputId": "9dd11d5a-acfa-4c98-81a6-3124cec35c04"
   },
   "outputs": [
    {
     "name": "stdout",
     "output_type": "stream",
     "text": [
      "Labels: [200.0, 183.0, 175.0, 85.0, 80.0]\n"
     ]
    }
   ],
   "source": [
    "print(\"Labels:\", list(some_labels))"
   ]
  },
  {
   "cell_type": "code",
   "execution_count": 81,
   "metadata": {
    "colab": {},
    "colab_type": "code",
    "id": "F7kueKyIw5SY"
   },
   "outputs": [],
   "source": [
    "## Naturally, these metrics are not that fair, because it is insample.\n",
    "## However the first model is linear so overfitting is less likley.\n",
    "## We will deal with out of sample validation later on. "
   ]
  },
  {
   "cell_type": "code",
   "execution_count": 82,
   "metadata": {
    "colab": {
     "base_uri": "https://localhost:8080/",
     "height": 35
    },
    "colab_type": "code",
    "executionInfo": {
     "elapsed": 389,
     "status": "ok",
     "timestamp": 1573952618528,
     "user": {
      "displayName": "Rajeev Ratan",
      "photoUrl": "https://lh3.googleusercontent.com/a-/AAuE7mCGo6aIm0tOcd5EhqWlYb0rime9sBvHS9YMpx0D2w=s64",
      "userId": "08597265227091462140"
     },
     "user_tz": 0
    },
    "id": "ZibYqcsDw5Sb",
    "outputId": "a51330e6-1df4-4e90-e532-6127162c2e0e"
   },
   "outputs": [
    {
     "data": {
      "text/plain": [
       "94.03600601236073"
      ]
     },
     "execution_count": 82,
     "metadata": {},
     "output_type": "execute_result"
    }
   ],
   "source": [
    "from sklearn.metrics import mean_squared_error, mean_absolute_error\n",
    "\n",
    "X_pred = lin_reg.predict(X_pr)\n",
    "lin_mse = mean_squared_error(Y, X_pred)\n",
    "lin_rmse = np.sqrt(lin_mse)\n",
    "lin_rmse"
   ]
  },
  {
   "cell_type": "code",
   "execution_count": 83,
   "metadata": {
    "colab": {
     "base_uri": "https://localhost:8080/",
     "height": 35
    },
    "colab_type": "code",
    "executionInfo": {
     "elapsed": 425,
     "status": "ok",
     "timestamp": 1573952629105,
     "user": {
      "displayName": "Rajeev Ratan",
      "photoUrl": "https://lh3.googleusercontent.com/a-/AAuE7mCGo6aIm0tOcd5EhqWlYb0rime9sBvHS9YMpx0D2w=s64",
      "userId": "08597265227091462140"
     },
     "user_tz": 0
    },
    "id": "9CnEnTcnw5Sg",
    "outputId": "afc946b9-1992-43f4-def0-97baab2ef226"
   },
   "outputs": [
    {
     "data": {
      "text/plain": [
       "60.091434203202695"
      ]
     },
     "execution_count": 83,
     "metadata": {},
     "output_type": "execute_result"
    }
   ],
   "source": [
    "from sklearn.metrics import mean_absolute_error\n",
    "\n",
    "lin_mae = mean_absolute_error(Y, X_pred)\n",
    "lin_mae"
   ]
  },
  {
   "cell_type": "code",
   "execution_count": 84,
   "metadata": {
    "colab": {
     "base_uri": "https://localhost:8080/",
     "height": 104
    },
    "colab_type": "code",
    "executionInfo": {
     "elapsed": 468,
     "status": "ok",
     "timestamp": 1573952635918,
     "user": {
      "displayName": "Rajeev Ratan",
      "photoUrl": "https://lh3.googleusercontent.com/a-/AAuE7mCGo6aIm0tOcd5EhqWlYb0rime9sBvHS9YMpx0D2w=s64",
      "userId": "08597265227091462140"
     },
     "user_tz": 0
    },
    "id": "7DBl7-UGw5So",
    "outputId": "9b0abec9-9cb1-4ada-c16b-1411cf7f8424"
   },
   "outputs": [
    {
     "data": {
      "text/plain": [
       "DecisionTreeRegressor(random_state=42)"
      ]
     },
     "execution_count": 84,
     "metadata": {},
     "output_type": "execute_result"
    }
   ],
   "source": [
    "from sklearn.tree import DecisionTreeRegressor\n",
    "\n",
    "tree_reg = DecisionTreeRegressor(random_state=42)\n",
    "tree_reg.fit(X_pr, Y)"
   ]
  },
  {
   "cell_type": "code",
   "execution_count": 85,
   "metadata": {
    "colab": {
     "base_uri": "https://localhost:8080/",
     "height": 35
    },
    "colab_type": "code",
    "executionInfo": {
     "elapsed": 425,
     "status": "ok",
     "timestamp": 1573952638260,
     "user": {
      "displayName": "Rajeev Ratan",
      "photoUrl": "https://lh3.googleusercontent.com/a-/AAuE7mCGo6aIm0tOcd5EhqWlYb0rime9sBvHS9YMpx0D2w=s64",
      "userId": "08597265227091462140"
     },
     "user_tz": 0
    },
    "id": "-ls5NvMCw5Su",
    "outputId": "cbcf3807-2201-40d5-9f8b-721964e22efb"
   },
   "outputs": [
    {
     "data": {
      "text/plain": [
       "0.0"
      ]
     },
     "execution_count": 85,
     "metadata": {},
     "output_type": "execute_result"
    }
   ],
   "source": [
    "X_pred = tree_reg.predict(X_pr)\n",
    "tree_mse = mean_squared_error(Y, X_pred)\n",
    "tree_rmse = np.sqrt(tree_mse)\n",
    "tree_rmse  ## Model is complex and overfits."
   ]
  },
  {
   "cell_type": "markdown",
   "metadata": {
    "colab_type": "text",
    "id": "H4E18Mu_w5S0"
   },
   "source": [
    "# Fine-tune your model"
   ]
  },
  {
   "cell_type": "code",
   "execution_count": 86,
   "metadata": {
    "colab": {},
    "colab_type": "code",
    "id": "iYD-lPbNw5S1"
   },
   "outputs": [],
   "source": [
    "from sklearn.model_selection import cross_val_score\n",
    "\n",
    "scores = cross_val_score(DecisionTreeRegressor(random_state=42), X_pr, Y,\n",
    "                         scoring=\"neg_mean_squared_error\", cv=10)\n",
    "tree_rmse_scores = np.sqrt(-scores)"
   ]
  },
  {
   "cell_type": "code",
   "execution_count": 87,
   "metadata": {
    "colab": {
     "base_uri": "https://localhost:8080/",
     "height": 87
    },
    "colab_type": "code",
    "executionInfo": {
     "elapsed": 368,
     "status": "ok",
     "timestamp": 1573952657182,
     "user": {
      "displayName": "Rajeev Ratan",
      "photoUrl": "https://lh3.googleusercontent.com/a-/AAuE7mCGo6aIm0tOcd5EhqWlYb0rime9sBvHS9YMpx0D2w=s64",
      "userId": "08597265227091462140"
     },
     "user_tz": 0
    },
    "id": "mY4F8kbow5S5",
    "outputId": "abff91df-3475-46a5-9c9c-009a58046aae"
   },
   "outputs": [
    {
     "name": "stdout",
     "output_type": "stream",
     "text": [
      "Scores: [143.18476292 129.24201691 107.55438947 107.60241316 121.71501021\n",
      " 148.4201201  130.79934231 122.90396501 119.49041552 106.97385654]\n",
      "Mean: 123.78862921531386\n",
      "Standard deviation: 13.760987461932066\n"
     ]
    }
   ],
   "source": [
    "def display_scores(scores):\n",
    "    print(\"Scores:\", scores)\n",
    "    print(\"Mean:\", scores.mean())\n",
    "    print(\"Standard deviation:\", scores.std())\n",
    "\n",
    "display_scores(tree_rmse_scores)"
   ]
  },
  {
   "cell_type": "code",
   "execution_count": 88,
   "metadata": {
    "colab": {
     "base_uri": "https://localhost:8080/",
     "height": 87
    },
    "colab_type": "code",
    "executionInfo": {
     "elapsed": 611,
     "status": "ok",
     "timestamp": 1573952710805,
     "user": {
      "displayName": "Rajeev Ratan",
      "photoUrl": "https://lh3.googleusercontent.com/a-/AAuE7mCGo6aIm0tOcd5EhqWlYb0rime9sBvHS9YMpx0D2w=s64",
      "userId": "08597265227091462140"
     },
     "user_tz": 0
    },
    "id": "Yr_AG4xDw5S-",
    "outputId": "84eeca17-145e-4172-ef47-7dc1b5d977ed"
   },
   "outputs": [
    {
     "name": "stdout",
     "output_type": "stream",
     "text": [
      "Scores: [8.25759572 7.8060109  8.00665993 7.69062181 7.81264019 7.81550975\n",
      " 7.83848569 7.47819323 7.50847731 7.80135161]\n",
      "Mean: 7.801554613894647\n",
      "Standard deviation: 0.21319148804200835\n"
     ]
    }
   ],
   "source": [
    "lin_scores = cross_val_score(LinearRegression(), X_pr, Y,\n",
    "                             scoring=\"neg_mean_absolute_error\", cv=10)\n",
    "lin_rmse_scores = np.sqrt(-lin_scores)\n",
    "display_scores(lin_rmse_scores)\n",
    "## bad performance, might need some regularisation."
   ]
  },
  {
   "cell_type": "code",
   "execution_count": 89,
   "metadata": {
    "colab": {
     "base_uri": "https://localhost:8080/",
     "height": 193
    },
    "colab_type": "code",
    "executionInfo": {
     "elapsed": 864,
     "status": "ok",
     "timestamp": 1573952739556,
     "user": {
      "displayName": "Rajeev Ratan",
      "photoUrl": "https://lh3.googleusercontent.com/a-/AAuE7mCGo6aIm0tOcd5EhqWlYb0rime9sBvHS9YMpx0D2w=s64",
      "userId": "08597265227091462140"
     },
     "user_tz": 0
    },
    "id": "49Khr1V3w5TE",
    "outputId": "6d353ed3-fe14-4a19-8b65-2e285f619e12"
   },
   "outputs": [
    {
     "data": {
      "text/plain": [
       "RandomForestRegressor(random_state=42)"
      ]
     },
     "execution_count": 89,
     "metadata": {},
     "output_type": "execute_result"
    }
   ],
   "source": [
    "from sklearn.ensemble import RandomForestRegressor\n",
    "\n",
    "forest_reg = RandomForestRegressor(random_state=42)\n",
    "forest_reg.fit(X_pr, Y)"
   ]
  },
  {
   "cell_type": "code",
   "execution_count": 90,
   "metadata": {
    "colab": {
     "base_uri": "https://localhost:8080/",
     "height": 35
    },
    "colab_type": "code",
    "executionInfo": {
     "elapsed": 447,
     "status": "ok",
     "timestamp": 1573952742221,
     "user": {
      "displayName": "Rajeev Ratan",
      "photoUrl": "https://lh3.googleusercontent.com/a-/AAuE7mCGo6aIm0tOcd5EhqWlYb0rime9sBvHS9YMpx0D2w=s64",
      "userId": "08597265227091462140"
     },
     "user_tz": 0
    },
    "id": "TZRGtlqKw5TM",
    "outputId": "0a18a228-27cd-4730-f3b7-bdd0cf94aa21"
   },
   "outputs": [
    {
     "data": {
      "text/plain": [
       "33.15477458722292"
      ]
     },
     "execution_count": 90,
     "metadata": {},
     "output_type": "execute_result"
    }
   ],
   "source": [
    "X_pred = forest_reg.predict(X_pr)\n",
    "forest_mse = mean_squared_error(Y, X_pred)\n",
    "forest_rmse = np.sqrt(forest_mse)\n",
    "forest_rmse"
   ]
  },
  {
   "cell_type": "code",
   "execution_count": 91,
   "metadata": {
    "colab": {
     "base_uri": "https://localhost:8080/",
     "height": 87
    },
    "colab_type": "code",
    "executionInfo": {
     "elapsed": 4072,
     "status": "ok",
     "timestamp": 1573952751311,
     "user": {
      "displayName": "Rajeev Ratan",
      "photoUrl": "https://lh3.googleusercontent.com/a-/AAuE7mCGo6aIm0tOcd5EhqWlYb0rime9sBvHS9YMpx0D2w=s64",
      "userId": "08597265227091462140"
     },
     "user_tz": 0
    },
    "id": "0-zM3FnYw5TQ",
    "outputId": "cdf7b58a-0bab-4543-e3e3-540aeeeab869"
   },
   "outputs": [
    {
     "name": "stdout",
     "output_type": "stream",
     "text": [
      "Scores: [98.01969253 90.79854291 85.50499    78.55628977 94.47771505 91.46301289\n",
      " 83.98824641 80.52709658 82.3049749  85.12514409]\n",
      "Mean: 87.07657051412913\n",
      "Standard deviation: 6.014128439519874\n"
     ]
    }
   ],
   "source": [
    "from sklearn.model_selection import cross_val_score\n",
    "\n",
    "forest_scores = cross_val_score(forest_reg, X_pr, Y,\n",
    "                                scoring=\"neg_mean_squared_error\", cv=10)\n",
    "forest_rmse_scores = np.sqrt(-forest_scores)\n",
    "display_scores(forest_rmse_scores)"
   ]
  },
  {
   "cell_type": "code",
   "execution_count": 92,
   "metadata": {
    "colab": {
     "base_uri": "https://localhost:8080/",
     "height": 173
    },
    "colab_type": "code",
    "executionInfo": {
     "elapsed": 602,
     "status": "ok",
     "timestamp": 1573952805666,
     "user": {
      "displayName": "Rajeev Ratan",
      "photoUrl": "https://lh3.googleusercontent.com/a-/AAuE7mCGo6aIm0tOcd5EhqWlYb0rime9sBvHS9YMpx0D2w=s64",
      "userId": "08597265227091462140"
     },
     "user_tz": 0
    },
    "id": "iInfXGrxw5Ta",
    "outputId": "5685cf4b-d9f7-4086-873d-58f39469eecf"
   },
   "outputs": [
    {
     "data": {
      "text/plain": [
       "count     10.000000\n",
       "mean      95.336344\n",
       "std        8.405631\n",
       "min       84.395398\n",
       "25%       87.805766\n",
       "50%       95.952351\n",
       "75%      100.685456\n",
       "max      110.486471\n",
       "dtype: float64"
      ]
     },
     "execution_count": 92,
     "metadata": {},
     "output_type": "execute_result"
    }
   ],
   "source": [
    "scores = cross_val_score(lin_reg,  X_pr, Y, scoring=\"neg_mean_squared_error\", cv=10)\n",
    "pd.Series(np.sqrt(-scores)).describe()"
   ]
  },
  {
   "cell_type": "code",
   "execution_count": 93,
   "metadata": {
    "colab": {
     "base_uri": "https://localhost:8080/",
     "height": 35
    },
    "colab_type": "code",
    "executionInfo": {
     "elapsed": 3588,
     "status": "ok",
     "timestamp": 1573952820343,
     "user": {
      "displayName": "Rajeev Ratan",
      "photoUrl": "https://lh3.googleusercontent.com/a-/AAuE7mCGo6aIm0tOcd5EhqWlYb0rime9sBvHS9YMpx0D2w=s64",
      "userId": "08597265227091462140"
     },
     "user_tz": 0
    },
    "id": "bO6AkZkfw5Th",
    "outputId": "03fc263f-db78-4bd0-ab92-075e330daf8b"
   },
   "outputs": [
    {
     "data": {
      "text/plain": [
       "103.05633889003352"
      ]
     },
     "execution_count": 93,
     "metadata": {},
     "output_type": "execute_result"
    }
   ],
   "source": [
    "from sklearn.svm import SVR\n",
    "\n",
    "svm_reg = SVR(kernel=\"linear\")\n",
    "svm_reg.fit( X_pr, Y,)\n",
    "X_pred = svm_reg.predict(X_pr)\n",
    "svm_mse = mean_squared_error(Y, X_pred)\n",
    "svm_rmse = np.sqrt(svm_mse)\n",
    "svm_rmse"
   ]
  },
  {
   "cell_type": "code",
   "execution_count": 94,
   "metadata": {
    "colab": {
     "base_uri": "https://localhost:8080/",
     "height": 364
    },
    "colab_type": "code",
    "executionInfo": {
     "elapsed": 9205,
     "status": "ok",
     "timestamp": 1573952846488,
     "user": {
      "displayName": "Rajeev Ratan",
      "photoUrl": "https://lh3.googleusercontent.com/a-/AAuE7mCGo6aIm0tOcd5EhqWlYb0rime9sBvHS9YMpx0D2w=s64",
      "userId": "08597265227091462140"
     },
     "user_tz": 0
    },
    "id": "ibHscUwGw5Ts",
    "outputId": "1ce9fa20-e2a7-4c09-9a0e-c78d6daf4c10"
   },
   "outputs": [
    {
     "data": {
      "text/plain": [
       "GridSearchCV(cv=5, estimator=RandomForestRegressor(random_state=42),\n",
       "             param_grid=[{'max_features': [2, 4, 6, 8],\n",
       "                          'n_estimators': [3, 10, 30]},\n",
       "                         {'bootstrap': [False], 'max_features': [2, 3, 4],\n",
       "                          'n_estimators': [3, 10]}],\n",
       "             return_train_score=True, scoring='neg_mean_squared_error')"
      ]
     },
     "execution_count": 94,
     "metadata": {},
     "output_type": "execute_result"
    }
   ],
   "source": [
    "## 30 Seconds to run this code block.\n",
    "from sklearn.model_selection import GridSearchCV\n",
    "\n",
    "param_grid = [\n",
    "    # try 12 (3×4) combinations of hyperparameters\n",
    "    {'n_estimators': [3, 10, 30], 'max_features': [2, 4, 6, 8]},\n",
    "    # then try 6 (2×3) combinations with bootstrap set as False\n",
    "    {'bootstrap': [False], 'n_estimators': [3, 10], 'max_features': [2, 3, 4]},\n",
    "  ]\n",
    "\n",
    "forest_reg = RandomForestRegressor(random_state=42)\n",
    "# train across 5 folds, that's a total of (12+6)*5=90 rounds of training \n",
    "grid_search = GridSearchCV(forest_reg, param_grid, cv=5,\n",
    "                           scoring='neg_mean_squared_error', return_train_score=True)\n",
    "grid_search.fit( X_pr, Y)"
   ]
  },
  {
   "cell_type": "markdown",
   "metadata": {
    "colab_type": "text",
    "id": "qx78BNO3w5Tw"
   },
   "source": [
    "The best hyperparameter combination found:"
   ]
  },
  {
   "cell_type": "code",
   "execution_count": 95,
   "metadata": {
    "colab": {
     "base_uri": "https://localhost:8080/",
     "height": 35
    },
    "colab_type": "code",
    "executionInfo": {
     "elapsed": 428,
     "status": "ok",
     "timestamp": 1573952855889,
     "user": {
      "displayName": "Rajeev Ratan",
      "photoUrl": "https://lh3.googleusercontent.com/a-/AAuE7mCGo6aIm0tOcd5EhqWlYb0rime9sBvHS9YMpx0D2w=s64",
      "userId": "08597265227091462140"
     },
     "user_tz": 0
    },
    "id": "7nNoAm6tw5Tx",
    "outputId": "3cdf102b-5ef4-4e76-d55e-dc54a43ff295"
   },
   "outputs": [
    {
     "data": {
      "text/plain": [
       "{'max_features': 4, 'n_estimators': 30}"
      ]
     },
     "execution_count": 95,
     "metadata": {},
     "output_type": "execute_result"
    }
   ],
   "source": [
    "grid_search.best_params_"
   ]
  },
  {
   "cell_type": "code",
   "execution_count": 96,
   "metadata": {
    "colab": {
     "base_uri": "https://localhost:8080/",
     "height": 139
    },
    "colab_type": "code",
    "executionInfo": {
     "elapsed": 608,
     "status": "ok",
     "timestamp": 1573952861663,
     "user": {
      "displayName": "Rajeev Ratan",
      "photoUrl": "https://lh3.googleusercontent.com/a-/AAuE7mCGo6aIm0tOcd5EhqWlYb0rime9sBvHS9YMpx0D2w=s64",
      "userId": "08597265227091462140"
     },
     "user_tz": 0
    },
    "id": "Mnv6MP-2w5T_",
    "outputId": "781e7426-9799-4beb-ad13-50f87c234d2b"
   },
   "outputs": [
    {
     "data": {
      "text/plain": [
       "RandomForestRegressor(max_features=4, n_estimators=30, random_state=42)"
      ]
     },
     "execution_count": 96,
     "metadata": {},
     "output_type": "execute_result"
    }
   ],
   "source": [
    "grid_search.best_estimator_"
   ]
  },
  {
   "cell_type": "markdown",
   "metadata": {
    "colab_type": "text",
    "id": "W9WoG5q7w5UE"
   },
   "source": [
    "Let's look at the score of each hyperparameter combination tested during the grid search:"
   ]
  },
  {
   "cell_type": "code",
   "execution_count": 97,
   "metadata": {
    "colab": {
     "base_uri": "https://localhost:8080/",
     "height": 364
    },
    "colab_type": "code",
    "executionInfo": {
     "elapsed": 624,
     "status": "ok",
     "timestamp": 1573952875068,
     "user": {
      "displayName": "Rajeev Ratan",
      "photoUrl": "https://lh3.googleusercontent.com/a-/AAuE7mCGo6aIm0tOcd5EhqWlYb0rime9sBvHS9YMpx0D2w=s64",
      "userId": "08597265227091462140"
     },
     "user_tz": 0
    },
    "id": "fCTtGGOtw5UM",
    "outputId": "779ba424-3354-48e0-e4a9-245a12e740ac"
   },
   "outputs": [
    {
     "name": "stdout",
     "output_type": "stream",
     "text": [
      "107.65378681553167 {'max_features': 2, 'n_estimators': 3}\n",
      "93.58239646693814 {'max_features': 2, 'n_estimators': 10}\n",
      "91.3845241162554 {'max_features': 2, 'n_estimators': 30}\n",
      "105.87919008660293 {'max_features': 4, 'n_estimators': 3}\n",
      "92.6181271284703 {'max_features': 4, 'n_estimators': 10}\n",
      "88.21551200622314 {'max_features': 4, 'n_estimators': 30}\n",
      "101.5953685063098 {'max_features': 6, 'n_estimators': 3}\n",
      "92.57886773629306 {'max_features': 6, 'n_estimators': 10}\n",
      "88.7349730781039 {'max_features': 6, 'n_estimators': 30}\n",
      "104.04717161700684 {'max_features': 8, 'n_estimators': 3}\n",
      "91.57171859082746 {'max_features': 8, 'n_estimators': 10}\n",
      "88.62741102402538 {'max_features': 8, 'n_estimators': 30}\n",
      "111.11517405117583 {'bootstrap': False, 'max_features': 2, 'n_estimators': 3}\n",
      "95.36363186115695 {'bootstrap': False, 'max_features': 2, 'n_estimators': 10}\n",
      "104.01380533593832 {'bootstrap': False, 'max_features': 3, 'n_estimators': 3}\n",
      "93.58593440534999 {'bootstrap': False, 'max_features': 3, 'n_estimators': 10}\n",
      "102.5696058124588 {'bootstrap': False, 'max_features': 4, 'n_estimators': 3}\n",
      "91.59131892984418 {'bootstrap': False, 'max_features': 4, 'n_estimators': 10}\n",
      "\n",
      "Best grid-search performance:  88.21551200622314\n"
     ]
    }
   ],
   "source": [
    "cvres = grid_search.cv_results_\n",
    "for mean_score, params in zip(cvres[\"mean_test_score\"], cvres[\"params\"]):\n",
    "    print(np.sqrt(-mean_score), params)\n",
    "    \n",
    "print(\"\")\n",
    "print(\"Best grid-search performance: \", np.sqrt(-cvres[\"mean_test_score\"].max()))"
   ]
  },
  {
   "cell_type": "code",
   "execution_count": 98,
   "metadata": {
    "colab": {
     "base_uri": "https://localhost:8080/",
     "height": 482
    },
    "colab_type": "code",
    "executionInfo": {
     "elapsed": 520,
     "status": "ok",
     "timestamp": 1573952901751,
     "user": {
      "displayName": "Rajeev Ratan",
      "photoUrl": "https://lh3.googleusercontent.com/a-/AAuE7mCGo6aIm0tOcd5EhqWlYb0rime9sBvHS9YMpx0D2w=s64",
      "userId": "08597265227091462140"
     },
     "user_tz": 0
    },
    "id": "CWQL-Wqyw5US",
    "outputId": "f2968427-0130-4bb3-c805-1871028b907b"
   },
   "outputs": [
    {
     "data": {
      "text/html": [
       "<div>\n",
       "<style scoped>\n",
       "    .dataframe tbody tr th:only-of-type {\n",
       "        vertical-align: middle;\n",
       "    }\n",
       "\n",
       "    .dataframe tbody tr th {\n",
       "        vertical-align: top;\n",
       "    }\n",
       "\n",
       "    .dataframe thead th {\n",
       "        text-align: right;\n",
       "    }\n",
       "</style>\n",
       "<table border=\"1\" class=\"dataframe\">\n",
       "  <thead>\n",
       "    <tr style=\"text-align: right;\">\n",
       "      <th></th>\n",
       "      <th>mean_fit_time</th>\n",
       "      <th>std_fit_time</th>\n",
       "      <th>mean_score_time</th>\n",
       "      <th>std_score_time</th>\n",
       "      <th>param_max_features</th>\n",
       "      <th>param_n_estimators</th>\n",
       "      <th>param_bootstrap</th>\n",
       "      <th>params</th>\n",
       "      <th>split0_test_score</th>\n",
       "      <th>split1_test_score</th>\n",
       "      <th>split2_test_score</th>\n",
       "      <th>split3_test_score</th>\n",
       "      <th>split4_test_score</th>\n",
       "      <th>mean_test_score</th>\n",
       "      <th>std_test_score</th>\n",
       "      <th>rank_test_score</th>\n",
       "      <th>split0_train_score</th>\n",
       "      <th>split1_train_score</th>\n",
       "      <th>split2_train_score</th>\n",
       "      <th>split3_train_score</th>\n",
       "      <th>split4_train_score</th>\n",
       "      <th>mean_train_score</th>\n",
       "      <th>std_train_score</th>\n",
       "    </tr>\n",
       "  </thead>\n",
       "  <tbody>\n",
       "    <tr>\n",
       "      <th>0</th>\n",
       "      <td>0.028181</td>\n",
       "      <td>0.005189</td>\n",
       "      <td>0.004598</td>\n",
       "      <td>0.001200</td>\n",
       "      <td>2</td>\n",
       "      <td>3</td>\n",
       "      <td>NaN</td>\n",
       "      <td>{'max_features': 2, 'n_estimators': 3}</td>\n",
       "      <td>-12228.933001</td>\n",
       "      <td>-12359.378750</td>\n",
       "      <td>-11417.469347</td>\n",
       "      <td>-11146.660856</td>\n",
       "      <td>-10794.247124</td>\n",
       "      <td>-11589.337816</td>\n",
       "      <td>609.871447</td>\n",
       "      <td>17</td>\n",
       "      <td>-2822.900628</td>\n",
       "      <td>-3171.549656</td>\n",
       "      <td>-3185.207607</td>\n",
       "      <td>-3053.919809</td>\n",
       "      <td>-2867.099253</td>\n",
       "      <td>-3020.135391</td>\n",
       "      <td>150.756833</td>\n",
       "    </tr>\n",
       "    <tr>\n",
       "      <th>1</th>\n",
       "      <td>0.076955</td>\n",
       "      <td>0.016960</td>\n",
       "      <td>0.006404</td>\n",
       "      <td>0.001019</td>\n",
       "      <td>2</td>\n",
       "      <td>10</td>\n",
       "      <td>NaN</td>\n",
       "      <td>{'max_features': 2, 'n_estimators': 10}</td>\n",
       "      <td>-9738.397535</td>\n",
       "      <td>-9063.870502</td>\n",
       "      <td>-8677.183458</td>\n",
       "      <td>-7741.723543</td>\n",
       "      <td>-8567.149605</td>\n",
       "      <td>-8757.664928</td>\n",
       "      <td>652.764667</td>\n",
       "      <td>9</td>\n",
       "      <td>-1490.757412</td>\n",
       "      <td>-1648.899800</td>\n",
       "      <td>-1832.454981</td>\n",
       "      <td>-1935.587927</td>\n",
       "      <td>-1800.415093</td>\n",
       "      <td>-1741.623043</td>\n",
       "      <td>155.473784</td>\n",
       "    </tr>\n",
       "    <tr>\n",
       "      <th>2</th>\n",
       "      <td>0.165700</td>\n",
       "      <td>0.002477</td>\n",
       "      <td>0.011399</td>\n",
       "      <td>0.000797</td>\n",
       "      <td>2</td>\n",
       "      <td>30</td>\n",
       "      <td>NaN</td>\n",
       "      <td>{'max_features': 2, 'n_estimators': 30}</td>\n",
       "      <td>-9870.923892</td>\n",
       "      <td>-8055.271983</td>\n",
       "      <td>-8385.923827</td>\n",
       "      <td>-7061.647769</td>\n",
       "      <td>-8381.888769</td>\n",
       "      <td>-8351.131248</td>\n",
       "      <td>901.357485</td>\n",
       "      <td>4</td>\n",
       "      <td>-1248.229005</td>\n",
       "      <td>-1319.393964</td>\n",
       "      <td>-1346.735685</td>\n",
       "      <td>-1470.310601</td>\n",
       "      <td>-1308.107214</td>\n",
       "      <td>-1338.555294</td>\n",
       "      <td>73.320475</td>\n",
       "    </tr>\n",
       "    <tr>\n",
       "      <th>3</th>\n",
       "      <td>0.024982</td>\n",
       "      <td>0.002089</td>\n",
       "      <td>0.003601</td>\n",
       "      <td>0.000487</td>\n",
       "      <td>4</td>\n",
       "      <td>3</td>\n",
       "      <td>NaN</td>\n",
       "      <td>{'max_features': 4, 'n_estimators': 3}</td>\n",
       "      <td>-12269.368671</td>\n",
       "      <td>-10339.503024</td>\n",
       "      <td>-12143.947468</td>\n",
       "      <td>-11441.606309</td>\n",
       "      <td>-9857.588996</td>\n",
       "      <td>-11210.402893</td>\n",
       "      <td>962.802268</td>\n",
       "      <td>16</td>\n",
       "      <td>-2845.222252</td>\n",
       "      <td>-2737.879284</td>\n",
       "      <td>-2510.564034</td>\n",
       "      <td>-2846.995731</td>\n",
       "      <td>-3017.015267</td>\n",
       "      <td>-2791.535314</td>\n",
       "      <td>166.507168</td>\n",
       "    </tr>\n",
       "    <tr>\n",
       "      <th>4</th>\n",
       "      <td>0.069959</td>\n",
       "      <td>0.001783</td>\n",
       "      <td>0.005793</td>\n",
       "      <td>0.000398</td>\n",
       "      <td>4</td>\n",
       "      <td>10</td>\n",
       "      <td>NaN</td>\n",
       "      <td>{'max_features': 4, 'n_estimators': 10}</td>\n",
       "      <td>-9593.039808</td>\n",
       "      <td>-8223.561099</td>\n",
       "      <td>-9572.005187</td>\n",
       "      <td>-7449.378997</td>\n",
       "      <td>-8052.602273</td>\n",
       "      <td>-8578.117473</td>\n",
       "      <td>859.512319</td>\n",
       "      <td>8</td>\n",
       "      <td>-1425.585846</td>\n",
       "      <td>-1531.123380</td>\n",
       "      <td>-1541.183335</td>\n",
       "      <td>-1696.244290</td>\n",
       "      <td>-1599.318140</td>\n",
       "      <td>-1558.690998</td>\n",
       "      <td>88.718596</td>\n",
       "    </tr>\n",
       "  </tbody>\n",
       "</table>\n",
       "</div>"
      ],
      "text/plain": [
       "   mean_fit_time  std_fit_time  mean_score_time  std_score_time  \\\n",
       "0       0.028181      0.005189         0.004598        0.001200   \n",
       "1       0.076955      0.016960         0.006404        0.001019   \n",
       "2       0.165700      0.002477         0.011399        0.000797   \n",
       "3       0.024982      0.002089         0.003601        0.000487   \n",
       "4       0.069959      0.001783         0.005793        0.000398   \n",
       "\n",
       "  param_max_features param_n_estimators param_bootstrap  \\\n",
       "0                  2                  3             NaN   \n",
       "1                  2                 10             NaN   \n",
       "2                  2                 30             NaN   \n",
       "3                  4                  3             NaN   \n",
       "4                  4                 10             NaN   \n",
       "\n",
       "                                    params  split0_test_score  \\\n",
       "0   {'max_features': 2, 'n_estimators': 3}      -12228.933001   \n",
       "1  {'max_features': 2, 'n_estimators': 10}       -9738.397535   \n",
       "2  {'max_features': 2, 'n_estimators': 30}       -9870.923892   \n",
       "3   {'max_features': 4, 'n_estimators': 3}      -12269.368671   \n",
       "4  {'max_features': 4, 'n_estimators': 10}       -9593.039808   \n",
       "\n",
       "   split1_test_score  split2_test_score  split3_test_score  split4_test_score  \\\n",
       "0      -12359.378750      -11417.469347      -11146.660856      -10794.247124   \n",
       "1       -9063.870502       -8677.183458       -7741.723543       -8567.149605   \n",
       "2       -8055.271983       -8385.923827       -7061.647769       -8381.888769   \n",
       "3      -10339.503024      -12143.947468      -11441.606309       -9857.588996   \n",
       "4       -8223.561099       -9572.005187       -7449.378997       -8052.602273   \n",
       "\n",
       "   mean_test_score  std_test_score  rank_test_score  split0_train_score  \\\n",
       "0    -11589.337816      609.871447               17        -2822.900628   \n",
       "1     -8757.664928      652.764667                9        -1490.757412   \n",
       "2     -8351.131248      901.357485                4        -1248.229005   \n",
       "3    -11210.402893      962.802268               16        -2845.222252   \n",
       "4     -8578.117473      859.512319                8        -1425.585846   \n",
       "\n",
       "   split1_train_score  split2_train_score  split3_train_score  \\\n",
       "0        -3171.549656        -3185.207607        -3053.919809   \n",
       "1        -1648.899800        -1832.454981        -1935.587927   \n",
       "2        -1319.393964        -1346.735685        -1470.310601   \n",
       "3        -2737.879284        -2510.564034        -2846.995731   \n",
       "4        -1531.123380        -1541.183335        -1696.244290   \n",
       "\n",
       "   split4_train_score  mean_train_score  std_train_score  \n",
       "0        -2867.099253      -3020.135391       150.756833  \n",
       "1        -1800.415093      -1741.623043       155.473784  \n",
       "2        -1308.107214      -1338.555294        73.320475  \n",
       "3        -3017.015267      -2791.535314       166.507168  \n",
       "4        -1599.318140      -1558.690998        88.718596  "
      ]
     },
     "execution_count": 98,
     "metadata": {},
     "output_type": "execute_result"
    }
   ],
   "source": [
    "# Top five results as presented in a dataframe\n",
    "pd.DataFrame(grid_search.cv_results_).head(5)\n"
   ]
  },
  {
   "cell_type": "code",
   "execution_count": 99,
   "metadata": {
    "colab": {
     "base_uri": "https://localhost:8080/",
     "height": 381
    },
    "colab_type": "code",
    "executionInfo": {
     "elapsed": 17046,
     "status": "ok",
     "timestamp": 1573952950369,
     "user": {
      "displayName": "Rajeev Ratan",
      "photoUrl": "https://lh3.googleusercontent.com/a-/AAuE7mCGo6aIm0tOcd5EhqWlYb0rime9sBvHS9YMpx0D2w=s64",
      "userId": "08597265227091462140"
     },
     "user_tz": 0
    },
    "id": "heRyEXOKw5UX",
    "outputId": "5cf63eec-2bbb-43c1-f29b-aed6376fcea6"
   },
   "outputs": [
    {
     "data": {
      "text/plain": [
       "RandomizedSearchCV(cv=5, estimator=RandomForestRegressor(random_state=42),\n",
       "                   n_iter=5,\n",
       "                   param_distributions={'max_features': <scipy.stats._distn_infrastructure.rv_frozen object at 0x000001E7B61DA5B0>,\n",
       "                                        'n_estimators': <scipy.stats._distn_infrastructure.rv_frozen object at 0x000001E7B626E340>},\n",
       "                   random_state=42, scoring='neg_mean_squared_error')"
      ]
     },
     "execution_count": 99,
     "metadata": {},
     "output_type": "execute_result"
    }
   ],
   "source": [
    "from sklearn.model_selection import RandomizedSearchCV\n",
    "from scipy.stats import randint\n",
    "\n",
    "param_distribs = {\n",
    "        'n_estimators': randint(low=1, high=200),\n",
    "        'max_features': randint(low=1, high=8),\n",
    "    }\n",
    "\n",
    "forest_reg = RandomForestRegressor(random_state=42)\n",
    "rnd_search = RandomizedSearchCV(forest_reg, param_distributions=param_distribs,\n",
    "                                n_iter=5, cv=5, scoring='neg_mean_squared_error', random_state=42)\n",
    "rnd_search.fit( X_pr, Y)"
   ]
  },
  {
   "cell_type": "code",
   "execution_count": 100,
   "metadata": {
    "colab": {
     "base_uri": "https://localhost:8080/",
     "height": 121
    },
    "colab_type": "code",
    "executionInfo": {
     "elapsed": 446,
     "status": "ok",
     "timestamp": 1573952958504,
     "user": {
      "displayName": "Rajeev Ratan",
      "photoUrl": "https://lh3.googleusercontent.com/a-/AAuE7mCGo6aIm0tOcd5EhqWlYb0rime9sBvHS9YMpx0D2w=s64",
      "userId": "08597265227091462140"
     },
     "user_tz": 0
    },
    "id": "hq13w9Ebw5Ug",
    "outputId": "160ea345-719d-4caa-fe93-ee0679118d31"
   },
   "outputs": [
    {
     "name": "stdout",
     "output_type": "stream",
     "text": [
      "87.14245549784866 {'max_features': 7, 'n_estimators': 180}\n",
      "89.5004639900209 {'max_features': 5, 'n_estimators': 15}\n",
      "89.36306282813929 {'max_features': 3, 'n_estimators': 72}\n",
      "88.90840067258624 {'max_features': 5, 'n_estimators': 21}\n",
      "87.45397734594887 {'max_features': 7, 'n_estimators': 122}\n",
      "Best grid-search performance:  87.14245549784866\n"
     ]
    }
   ],
   "source": [
    "cvres = rnd_search.cv_results_\n",
    "for mean_score, params in zip(cvres[\"mean_test_score\"], cvres[\"params\"]):\n",
    "    print(np.sqrt(-mean_score), params)\n",
    "    \n",
    "print(\"Best grid-search performance: \", np.sqrt(-cvres[\"mean_test_score\"].max()))"
   ]
  },
  {
   "cell_type": "code",
   "execution_count": 101,
   "metadata": {
    "colab": {
     "base_uri": "https://localhost:8080/",
     "height": 191
    },
    "colab_type": "code",
    "executionInfo": {
     "elapsed": 428,
     "status": "ok",
     "timestamp": 1573952969957,
     "user": {
      "displayName": "Rajeev Ratan",
      "photoUrl": "https://lh3.googleusercontent.com/a-/AAuE7mCGo6aIm0tOcd5EhqWlYb0rime9sBvHS9YMpx0D2w=s64",
      "userId": "08597265227091462140"
     },
     "user_tz": 0
    },
    "id": "D9LAn5JHw5Uu",
    "outputId": "1a1e48ff-c538-4a39-92ef-511a0bedec33"
   },
   "outputs": [
    {
     "data": {
      "text/plain": [
       "array([0.04671257, 0.03542924, 0.02485968, 0.02667908, 0.02464905,\n",
       "       0.0471932 , 0.0672301 , 0.09241247, 0.07534669, 0.12037559,\n",
       "       0.09520841, 0.02811285, 0.00721237, 0.00361203, 0.02110475,\n",
       "       0.05148334, 0.03809242, 0.00295645, 0.00589151, 0.00274736,\n",
       "       0.00244363, 0.00590603, 0.00191609, 0.00686092, 0.00242456,\n",
       "       0.00342799, 0.00300906, 0.01788358, 0.00069609, 0.00096974,\n",
       "       0.00027043, 0.00103372, 0.00073615, 0.03125527, 0.00028692,\n",
       "       0.00083684, 0.00016351, 0.00134207, 0.00512595, 0.04644736,\n",
       "       0.03335415, 0.00183906, 0.00438218, 0.0043074 , 0.00540885,\n",
       "       0.00036331])"
      ]
     },
     "execution_count": 101,
     "metadata": {},
     "output_type": "execute_result"
    }
   ],
   "source": [
    "feature_importances = grid_search.best_estimator_.feature_importances_\n",
    "feature_importances"
   ]
  },
  {
   "cell_type": "code",
   "execution_count": 102,
   "metadata": {
    "colab": {},
    "colab_type": "code",
    "id": "7v-RO30Pw5Uz"
   },
   "outputs": [],
   "source": [
    "feats = pd.DataFrame()\n",
    "feats[\"Name\"] = list(X_pr.columns)\n",
    "feats[\"Score\"] = feature_importances"
   ]
  },
  {
   "cell_type": "code",
   "execution_count": 103,
   "metadata": {
    "colab": {
     "base_uri": "https://localhost:8080/",
     "height": 662
    },
    "colab_type": "code",
    "executionInfo": {
     "elapsed": 400,
     "status": "ok",
     "timestamp": 1573952982048,
     "user": {
      "displayName": "Rajeev Ratan",
      "photoUrl": "https://lh3.googleusercontent.com/a-/AAuE7mCGo6aIm0tOcd5EhqWlYb0rime9sBvHS9YMpx0D2w=s64",
      "userId": "08597265227091462140"
     },
     "user_tz": 0
    },
    "id": "Vcl5kjafw5U6",
    "outputId": "2ad30a33-8fe0-41e7-8afb-543941a4c9c1"
   },
   "outputs": [
    {
     "data": {
      "text/html": [
       "<div>\n",
       "<style scoped>\n",
       "    .dataframe tbody tr th:only-of-type {\n",
       "        vertical-align: middle;\n",
       "    }\n",
       "\n",
       "    .dataframe tbody tr th {\n",
       "        vertical-align: top;\n",
       "    }\n",
       "\n",
       "    .dataframe thead th {\n",
       "        text-align: right;\n",
       "    }\n",
       "</style>\n",
       "<table border=\"1\" class=\"dataframe\">\n",
       "  <thead>\n",
       "    <tr style=\"text-align: right;\">\n",
       "      <th></th>\n",
       "      <th>Name</th>\n",
       "      <th>Score</th>\n",
       "    </tr>\n",
       "  </thead>\n",
       "  <tbody>\n",
       "    <tr>\n",
       "      <th>9</th>\n",
       "      <td>bedrooms</td>\n",
       "      <td>0.12038</td>\n",
       "    </tr>\n",
       "    <tr>\n",
       "      <th>10</th>\n",
       "      <td>beds</td>\n",
       "      <td>0.09521</td>\n",
       "    </tr>\n",
       "    <tr>\n",
       "      <th>7</th>\n",
       "      <td>accommodates</td>\n",
       "      <td>0.09241</td>\n",
       "    </tr>\n",
       "    <tr>\n",
       "      <th>8</th>\n",
       "      <td>bathrooms</td>\n",
       "      <td>0.07535</td>\n",
       "    </tr>\n",
       "    <tr>\n",
       "      <th>6</th>\n",
       "      <td>cleaning_fee</td>\n",
       "      <td>0.06723</td>\n",
       "    </tr>\n",
       "    <tr>\n",
       "      <th>15</th>\n",
       "      <td>bathrooms_per_person</td>\n",
       "      <td>0.05148</td>\n",
       "    </tr>\n",
       "    <tr>\n",
       "      <th>5</th>\n",
       "      <td>security_deposit</td>\n",
       "      <td>0.04719</td>\n",
       "    </tr>\n",
       "    <tr>\n",
       "      <th>0</th>\n",
       "      <td>longitude</td>\n",
       "      <td>0.04671</td>\n",
       "    </tr>\n",
       "    <tr>\n",
       "      <th>39</th>\n",
       "      <td>Entire home/apt</td>\n",
       "      <td>0.04645</td>\n",
       "    </tr>\n",
       "    <tr>\n",
       "      <th>16</th>\n",
       "      <td>past_and_future_popularity</td>\n",
       "      <td>0.03809</td>\n",
       "    </tr>\n",
       "    <tr>\n",
       "      <th>1</th>\n",
       "      <td>latitude</td>\n",
       "      <td>0.03543</td>\n",
       "    </tr>\n",
       "    <tr>\n",
       "      <th>40</th>\n",
       "      <td>Private room</td>\n",
       "      <td>0.03335</td>\n",
       "    </tr>\n",
       "    <tr>\n",
       "      <th>33</th>\n",
       "      <td>House</td>\n",
       "      <td>0.03126</td>\n",
       "    </tr>\n",
       "    <tr>\n",
       "      <th>11</th>\n",
       "      <td>availability_365</td>\n",
       "      <td>0.02811</td>\n",
       "    </tr>\n",
       "    <tr>\n",
       "      <th>3</th>\n",
       "      <td>number_of_reviews</td>\n",
       "      <td>0.02668</td>\n",
       "    </tr>\n",
       "    <tr>\n",
       "      <th>2</th>\n",
       "      <td>review_scores_rating</td>\n",
       "      <td>0.02486</td>\n",
       "    </tr>\n",
       "    <tr>\n",
       "      <th>4</th>\n",
       "      <td>minimum_nights</td>\n",
       "      <td>0.02465</td>\n",
       "    </tr>\n",
       "    <tr>\n",
       "      <th>14</th>\n",
       "      <td>bedrooms_per_person</td>\n",
       "      <td>0.02110</td>\n",
       "    </tr>\n",
       "    <tr>\n",
       "      <th>27</th>\n",
       "      <td>Apartment</td>\n",
       "      <td>0.01788</td>\n",
       "    </tr>\n",
       "    <tr>\n",
       "      <th>12</th>\n",
       "      <td>host_identity_verified</td>\n",
       "      <td>0.00721</td>\n",
       "    </tr>\n",
       "  </tbody>\n",
       "</table>\n",
       "</div>"
      ],
      "text/plain": [
       "                          Name    Score\n",
       "9                     bedrooms  0.12038\n",
       "10                        beds  0.09521\n",
       "7                 accommodates  0.09241\n",
       "8                    bathrooms  0.07535\n",
       "6                 cleaning_fee  0.06723\n",
       "15        bathrooms_per_person  0.05148\n",
       "5             security_deposit  0.04719\n",
       "0                    longitude  0.04671\n",
       "39             Entire home/apt  0.04645\n",
       "16  past_and_future_popularity  0.03809\n",
       "1                     latitude  0.03543\n",
       "40                Private room  0.03335\n",
       "33                       House  0.03126\n",
       "11            availability_365  0.02811\n",
       "3            number_of_reviews  0.02668\n",
       "2         review_scores_rating  0.02486\n",
       "4               minimum_nights  0.02465\n",
       "14         bedrooms_per_person  0.02110\n",
       "27                   Apartment  0.01788\n",
       "12      host_identity_verified  0.00721"
      ]
     },
     "execution_count": 103,
     "metadata": {},
     "output_type": "execute_result"
    }
   ],
   "source": [
    "feats.sort_values(\"Score\",ascending=False).round(5).head(20)"
   ]
  },
  {
   "cell_type": "code",
   "execution_count": 104,
   "metadata": {
    "colab": {
     "base_uri": "https://localhost:8080/",
     "height": 309
    },
    "colab_type": "code",
    "executionInfo": {
     "elapsed": 651,
     "status": "ok",
     "timestamp": 1573952997735,
     "user": {
      "displayName": "Rajeev Ratan",
      "photoUrl": "https://lh3.googleusercontent.com/a-/AAuE7mCGo6aIm0tOcd5EhqWlYb0rime9sBvHS9YMpx0D2w=s64",
      "userId": "08597265227091462140"
     },
     "user_tz": 0
    },
    "id": "iL5nHXrKw5VV",
    "outputId": "db376d29-4c99-40b4-d667-f551089b554e"
   },
   "outputs": [
    {
     "data": {
      "text/html": [
       "<div>\n",
       "<style scoped>\n",
       "    .dataframe tbody tr th:only-of-type {\n",
       "        vertical-align: middle;\n",
       "    }\n",
       "\n",
       "    .dataframe tbody tr th {\n",
       "        vertical-align: top;\n",
       "    }\n",
       "\n",
       "    .dataframe thead th {\n",
       "        text-align: right;\n",
       "    }\n",
       "</style>\n",
       "<table border=\"1\" class=\"dataframe\">\n",
       "  <thead>\n",
       "    <tr style=\"text-align: right;\">\n",
       "      <th></th>\n",
       "      <th>price</th>\n",
       "      <th>city</th>\n",
       "      <th>longitude</th>\n",
       "      <th>latitude</th>\n",
       "      <th>review_scores_rating</th>\n",
       "      <th>number_of_reviews</th>\n",
       "      <th>minimum_nights</th>\n",
       "      <th>security_deposit</th>\n",
       "      <th>cleaning_fee</th>\n",
       "      <th>accommodates</th>\n",
       "      <th>bathrooms</th>\n",
       "      <th>bedrooms</th>\n",
       "      <th>beds</th>\n",
       "      <th>property_type</th>\n",
       "      <th>room_type</th>\n",
       "      <th>availability_365</th>\n",
       "      <th>host_identity_verified</th>\n",
       "      <th>host_is_superhost</th>\n",
       "      <th>host_since</th>\n",
       "      <th>cancellation_policy</th>\n",
       "    </tr>\n",
       "  </thead>\n",
       "  <tbody>\n",
       "    <tr>\n",
       "      <th>1098</th>\n",
       "      <td>110.0</td>\n",
       "      <td>Darlinghurst</td>\n",
       "      <td>151.219597</td>\n",
       "      <td>-33.876213</td>\n",
       "      <td>NaN</td>\n",
       "      <td>0</td>\n",
       "      <td>2</td>\n",
       "      <td>250.0</td>\n",
       "      <td>50.0</td>\n",
       "      <td>2</td>\n",
       "      <td>1.0</td>\n",
       "      <td>1.0</td>\n",
       "      <td>1.0</td>\n",
       "      <td>Apartment</td>\n",
       "      <td>Entire home/apt</td>\n",
       "      <td>0</td>\n",
       "      <td>0</td>\n",
       "      <td>0</td>\n",
       "      <td>2014-07-16</td>\n",
       "      <td>moderate</td>\n",
       "    </tr>\n",
       "    <tr>\n",
       "      <th>4811</th>\n",
       "      <td>225.0</td>\n",
       "      <td>Manly</td>\n",
       "      <td>151.288501</td>\n",
       "      <td>-33.806436</td>\n",
       "      <td>100.0</td>\n",
       "      <td>1</td>\n",
       "      <td>3</td>\n",
       "      <td>750.0</td>\n",
       "      <td>219.0</td>\n",
       "      <td>4</td>\n",
       "      <td>1.0</td>\n",
       "      <td>2.0</td>\n",
       "      <td>2.0</td>\n",
       "      <td>Apartment</td>\n",
       "      <td>Entire home/apt</td>\n",
       "      <td>0</td>\n",
       "      <td>0</td>\n",
       "      <td>0</td>\n",
       "      <td>2012-09-18</td>\n",
       "      <td>strict_14_with_grace_period</td>\n",
       "    </tr>\n",
       "    <tr>\n",
       "      <th>3678</th>\n",
       "      <td>91.0</td>\n",
       "      <td>Bondi Beach</td>\n",
       "      <td>151.277634</td>\n",
       "      <td>-33.888887</td>\n",
       "      <td>NaN</td>\n",
       "      <td>0</td>\n",
       "      <td>3</td>\n",
       "      <td>200.0</td>\n",
       "      <td>25.0</td>\n",
       "      <td>1</td>\n",
       "      <td>1.0</td>\n",
       "      <td>1.0</td>\n",
       "      <td>1.0</td>\n",
       "      <td>Apartment</td>\n",
       "      <td>Private room</td>\n",
       "      <td>0</td>\n",
       "      <td>1</td>\n",
       "      <td>0</td>\n",
       "      <td>2013-10-14</td>\n",
       "      <td>strict_14_with_grace_period</td>\n",
       "    </tr>\n",
       "    <tr>\n",
       "      <th>2982</th>\n",
       "      <td>45.0</td>\n",
       "      <td>Bondi Beach</td>\n",
       "      <td>151.281182</td>\n",
       "      <td>-33.889755</td>\n",
       "      <td>84.0</td>\n",
       "      <td>25</td>\n",
       "      <td>7</td>\n",
       "      <td>400.0</td>\n",
       "      <td>50.0</td>\n",
       "      <td>2</td>\n",
       "      <td>1.0</td>\n",
       "      <td>1.0</td>\n",
       "      <td>1.0</td>\n",
       "      <td>Other</td>\n",
       "      <td>Private room</td>\n",
       "      <td>361</td>\n",
       "      <td>1</td>\n",
       "      <td>0</td>\n",
       "      <td>2015-05-07</td>\n",
       "      <td>strict_14_with_grace_period</td>\n",
       "    </tr>\n",
       "    <tr>\n",
       "      <th>5140</th>\n",
       "      <td>115.0</td>\n",
       "      <td>Manly</td>\n",
       "      <td>151.282273</td>\n",
       "      <td>-33.793341</td>\n",
       "      <td>100.0</td>\n",
       "      <td>14</td>\n",
       "      <td>1</td>\n",
       "      <td>0.0</td>\n",
       "      <td>0.0</td>\n",
       "      <td>2</td>\n",
       "      <td>1.0</td>\n",
       "      <td>1.0</td>\n",
       "      <td>1.0</td>\n",
       "      <td>House</td>\n",
       "      <td>Private room</td>\n",
       "      <td>19</td>\n",
       "      <td>1</td>\n",
       "      <td>0</td>\n",
       "      <td>2016-10-22</td>\n",
       "      <td>moderate</td>\n",
       "    </tr>\n",
       "  </tbody>\n",
       "</table>\n",
       "</div>"
      ],
      "text/plain": [
       "      price          city   longitude   latitude  review_scores_rating  \\\n",
       "1098  110.0  Darlinghurst  151.219597 -33.876213                   NaN   \n",
       "4811  225.0         Manly  151.288501 -33.806436                 100.0   \n",
       "3678   91.0   Bondi Beach  151.277634 -33.888887                   NaN   \n",
       "2982   45.0   Bondi Beach  151.281182 -33.889755                  84.0   \n",
       "5140  115.0         Manly  151.282273 -33.793341                 100.0   \n",
       "\n",
       "      number_of_reviews  minimum_nights  security_deposit  cleaning_fee  \\\n",
       "1098                  0               2             250.0          50.0   \n",
       "4811                  1               3             750.0         219.0   \n",
       "3678                  0               3             200.0          25.0   \n",
       "2982                 25               7             400.0          50.0   \n",
       "5140                 14               1               0.0           0.0   \n",
       "\n",
       "      accommodates  bathrooms  bedrooms  beds property_type        room_type  \\\n",
       "1098             2        1.0       1.0   1.0     Apartment  Entire home/apt   \n",
       "4811             4        1.0       2.0   2.0     Apartment  Entire home/apt   \n",
       "3678             1        1.0       1.0   1.0     Apartment     Private room   \n",
       "2982             2        1.0       1.0   1.0         Other     Private room   \n",
       "5140             2        1.0       1.0   1.0         House     Private room   \n",
       "\n",
       "      availability_365  host_identity_verified  host_is_superhost host_since  \\\n",
       "1098                 0                       0                  0 2014-07-16   \n",
       "4811                 0                       0                  0 2012-09-18   \n",
       "3678                 0                       1                  0 2013-10-14   \n",
       "2982               361                       1                  0 2015-05-07   \n",
       "5140                19                       1                  0 2016-10-22   \n",
       "\n",
       "              cancellation_policy  \n",
       "1098                     moderate  \n",
       "4811  strict_14_with_grace_period  \n",
       "3678  strict_14_with_grace_period  \n",
       "2982  strict_14_with_grace_period  \n",
       "5140                     moderate  "
      ]
     },
     "execution_count": 104,
     "metadata": {},
     "output_type": "execute_result"
    }
   ],
   "source": [
    "strat_test_set.head()"
   ]
  },
  {
   "cell_type": "code",
   "execution_count": 105,
   "metadata": {
    "colab": {},
    "colab_type": "code",
    "id": "wFUjb6tjw5Vf"
   },
   "outputs": [],
   "source": [
    "### Now we can test the out of sample performance. \n",
    "\n",
    "final_model = grid_search.best_estimator_\n",
    "\n",
    "strat_test_set2 = strat_test_set.dropna()\n",
    "X_test = strat_test_set2.drop(\"price\", axis=1)\n",
    "y_test = strat_test_set2[\"price\"].copy()\n",
    "\n",
    "X_test_prepared = pipe(list(X_test.index)).transform(X_test)\n",
    "final_predictions = final_model.predict(X_test_prepared)\n",
    "\n",
    "final_mse = mean_squared_error(y_test, final_predictions)\n",
    "final_rmse = np.sqrt(final_mse)"
   ]
  },
  {
   "cell_type": "code",
   "execution_count": 106,
   "metadata": {
    "colab": {
     "base_uri": "https://localhost:8080/",
     "height": 35
    },
    "colab_type": "code",
    "executionInfo": {
     "elapsed": 447,
     "status": "ok",
     "timestamp": 1573953029400,
     "user": {
      "displayName": "Rajeev Ratan",
      "photoUrl": "https://lh3.googleusercontent.com/a-/AAuE7mCGo6aIm0tOcd5EhqWlYb0rime9sBvHS9YMpx0D2w=s64",
      "userId": "08597265227091462140"
     },
     "user_tz": 0
    },
    "id": "TwCDU_rYw5Vi",
    "outputId": "a5483401-afb5-40cb-d447-18e21803607a"
   },
   "outputs": [
    {
     "data": {
      "text/plain": [
       "84.72540767898073"
      ]
     },
     "execution_count": 106,
     "metadata": {},
     "output_type": "execute_result"
    }
   ],
   "source": [
    "final_rmse"
   ]
  },
  {
   "cell_type": "code",
   "execution_count": 107,
   "metadata": {
    "colab": {},
    "colab_type": "code",
    "id": "EgEMS8TXw5Vo"
   },
   "outputs": [],
   "source": [
    "final_mae = mean_absolute_error(y_test, final_predictions)"
   ]
  },
  {
   "cell_type": "code",
   "execution_count": 108,
   "metadata": {
    "colab": {
     "base_uri": "https://localhost:8080/",
     "height": 35
    },
    "colab_type": "code",
    "executionInfo": {
     "elapsed": 392,
     "status": "ok",
     "timestamp": 1573953032744,
     "user": {
      "displayName": "Rajeev Ratan",
      "photoUrl": "https://lh3.googleusercontent.com/a-/AAuE7mCGo6aIm0tOcd5EhqWlYb0rime9sBvHS9YMpx0D2w=s64",
      "userId": "08597265227091462140"
     },
     "user_tz": 0
    },
    "id": "9224Lkj7w5Vw",
    "outputId": "9e2eb050-9b8a-4092-9006-c9e3a3a1d6ab"
   },
   "outputs": [
    {
     "data": {
      "text/plain": [
       "52.001604202157864"
      ]
     },
     "execution_count": 108,
     "metadata": {},
     "output_type": "execute_result"
    }
   ],
   "source": [
    "final_mae ## not too bad"
   ]
  },
  {
   "cell_type": "markdown",
   "metadata": {
    "colab_type": "text",
    "id": "Phvgr2JL6tQx"
   },
   "source": [
    "## Value Estimation for Client"
   ]
  },
  {
   "cell_type": "code",
   "execution_count": 109,
   "metadata": {
    "colab": {
     "base_uri": "https://localhost:8080/",
     "height": 433
    },
    "colab_type": "code",
    "executionInfo": {
     "elapsed": 701,
     "status": "ok",
     "timestamp": 1573953172660,
     "user": {
      "displayName": "Rajeev Ratan",
      "photoUrl": "https://lh3.googleusercontent.com/a-/AAuE7mCGo6aIm0tOcd5EhqWlYb0rime9sBvHS9YMpx0D2w=s64",
      "userId": "08597265227091462140"
     },
     "user_tz": 0
    },
    "id": "1vo1oYm3w5V_",
    "outputId": "0cf92b83-a507-43c6-cab1-aef1a8de426c"
   },
   "outputs": [
    {
     "name": "stdout",
     "output_type": "stream",
     "text": [
      "<class 'pandas.core.frame.DataFrame'>\n",
      "RangeIndex: 1 entries, 0 to 0\n",
      "Data columns (total 19 columns):\n",
      " #   Column                  Non-Null Count  Dtype         \n",
      "---  ------                  --------------  -----         \n",
      " 0   city                    1 non-null      object        \n",
      " 1   longitude               1 non-null      object        \n",
      " 2   latitude                1 non-null      object        \n",
      " 3   review_scores_rating    1 non-null      object        \n",
      " 4   number_of_reviews       1 non-null      object        \n",
      " 5   minimum_nights          1 non-null      object        \n",
      " 6   accommodates            1 non-null      object        \n",
      " 7   bathrooms               1 non-null      object        \n",
      " 8   bedrooms                1 non-null      object        \n",
      " 9   beds                    1 non-null      object        \n",
      " 10  security_deposit        1 non-null      object        \n",
      " 11  cleaning_fee            1 non-null      object        \n",
      " 12  property_type           1 non-null      object        \n",
      " 13  room_type               1 non-null      object        \n",
      " 14  availability_365        1 non-null      object        \n",
      " 15  host_identity_verified  1 non-null      object        \n",
      " 16  host_is_superhost       1 non-null      object        \n",
      " 17  cancellation_policy     1 non-null      object        \n",
      " 18  host_since              1 non-null      datetime64[ns]\n",
      "dtypes: datetime64[ns](1), object(18)\n",
      "memory usage: 280.0+ bytes\n"
     ]
    }
   ],
   "source": [
    "df_client = pd.DataFrame.from_dict(dict_client, orient='index').T\n",
    "df_client.info()"
   ]
  },
  {
   "cell_type": "code",
   "execution_count": 110,
   "metadata": {
    "colab": {
     "base_uri": "https://localhost:8080/",
     "height": 364
    },
    "colab_type": "code",
    "executionInfo": {
     "elapsed": 539,
     "status": "ok",
     "timestamp": 1573953174247,
     "user": {
      "displayName": "Rajeev Ratan",
      "photoUrl": "https://lh3.googleusercontent.com/a-/AAuE7mCGo6aIm0tOcd5EhqWlYb0rime9sBvHS9YMpx0D2w=s64",
      "userId": "08597265227091462140"
     },
     "user_tz": 0
    },
    "id": "wLSLoIzaLZH_",
    "outputId": "bd1d3304-3ce6-4679-c8d0-37b1f74cb981"
   },
   "outputs": [
    {
     "data": {
      "text/plain": [
       "city                                      Bondi Beach\n",
       "longitude                                     151.275\n",
       "latitude                                     -33.8891\n",
       "review_scores_rating                               95\n",
       "number_of_reviews                                  53\n",
       "minimum_nights                                      4\n",
       "accommodates                                       10\n",
       "bathrooms                                           3\n",
       "bedrooms                                            5\n",
       "beds                                                7\n",
       "security_deposit                                 1500\n",
       "cleaning_fee                                      370\n",
       "property_type                                   House\n",
       "room_type                             Entire home/apt\n",
       "availability_365                                  255\n",
       "host_identity_verified                              t\n",
       "host_is_superhost                                   t\n",
       "cancellation_policy       strict_14_with_grace_period\n",
       "host_since                        2010-01-08 00:00:00\n",
       "Name: 0, dtype: object"
      ]
     },
     "execution_count": 110,
     "metadata": {},
     "output_type": "execute_result"
    }
   ],
   "source": [
    "df_client.iloc[0]"
   ]
  },
  {
   "cell_type": "code",
   "execution_count": 111,
   "metadata": {
    "colab": {
     "base_uri": "https://localhost:8080/",
     "height": 238
    },
    "colab_type": "code",
    "executionInfo": {
     "elapsed": 459,
     "status": "ok",
     "timestamp": 1573953216592,
     "user": {
      "displayName": "Rajeev Ratan",
      "photoUrl": "https://lh3.googleusercontent.com/a-/AAuE7mCGo6aIm0tOcd5EhqWlYb0rime9sBvHS9YMpx0D2w=s64",
      "userId": "08597265227091462140"
     },
     "user_tz": 0
    },
    "id": "qOgH9aA0Q33D",
    "outputId": "7eb2dd47-524b-4781-8496-92b286cc95fb"
   },
   "outputs": [
    {
     "name": "stdout",
     "output_type": "stream",
     "text": [
      "Index(['city', 'longitude', 'latitude', 'review_scores_rating',\n",
      "       'number_of_reviews', 'minimum_nights', 'security_deposit',\n",
      "       'cleaning_fee', 'accommodates', 'bathrooms', 'bedrooms', 'beds',\n",
      "       'property_type', 'room_type', 'availability_365',\n",
      "       'host_identity_verified', 'host_is_superhost', 'host_since',\n",
      "       'cancellation_policy'],\n",
      "      dtype='object')\n"
     ]
    },
    {
     "data": {
      "text/html": [
       "<div>\n",
       "<style scoped>\n",
       "    .dataframe tbody tr th:only-of-type {\n",
       "        vertical-align: middle;\n",
       "    }\n",
       "\n",
       "    .dataframe tbody tr th {\n",
       "        vertical-align: top;\n",
       "    }\n",
       "\n",
       "    .dataframe thead th {\n",
       "        text-align: right;\n",
       "    }\n",
       "</style>\n",
       "<table border=\"1\" class=\"dataframe\">\n",
       "  <thead>\n",
       "    <tr style=\"text-align: right;\">\n",
       "      <th></th>\n",
       "      <th>city</th>\n",
       "      <th>longitude</th>\n",
       "      <th>latitude</th>\n",
       "      <th>review_scores_rating</th>\n",
       "      <th>number_of_reviews</th>\n",
       "      <th>minimum_nights</th>\n",
       "      <th>security_deposit</th>\n",
       "      <th>cleaning_fee</th>\n",
       "      <th>accommodates</th>\n",
       "      <th>bathrooms</th>\n",
       "      <th>bedrooms</th>\n",
       "      <th>beds</th>\n",
       "      <th>property_type</th>\n",
       "      <th>room_type</th>\n",
       "      <th>availability_365</th>\n",
       "      <th>host_identity_verified</th>\n",
       "      <th>host_is_superhost</th>\n",
       "      <th>host_since</th>\n",
       "      <th>cancellation_policy</th>\n",
       "    </tr>\n",
       "  </thead>\n",
       "  <tbody>\n",
       "    <tr>\n",
       "      <th>0</th>\n",
       "      <td>Bondi Beach</td>\n",
       "      <td>151.275</td>\n",
       "      <td>-33.8891</td>\n",
       "      <td>95</td>\n",
       "      <td>53</td>\n",
       "      <td>4</td>\n",
       "      <td>1500</td>\n",
       "      <td>370</td>\n",
       "      <td>10</td>\n",
       "      <td>3</td>\n",
       "      <td>5</td>\n",
       "      <td>7</td>\n",
       "      <td>House</td>\n",
       "      <td>Entire home/apt</td>\n",
       "      <td>255</td>\n",
       "      <td>1</td>\n",
       "      <td>1</td>\n",
       "      <td>2010-01-08</td>\n",
       "      <td>strict_14_with_grace_period</td>\n",
       "    </tr>\n",
       "  </tbody>\n",
       "</table>\n",
       "</div>"
      ],
      "text/plain": [
       "          city longitude latitude review_scores_rating number_of_reviews  \\\n",
       "0  Bondi Beach   151.275 -33.8891                   95                53   \n",
       "\n",
       "  minimum_nights security_deposit cleaning_fee accommodates bathrooms  \\\n",
       "0              4             1500          370           10         3   \n",
       "\n",
       "  bedrooms beds property_type        room_type availability_365  \\\n",
       "0        5    7         House  Entire home/apt              255   \n",
       "\n",
       "  host_identity_verified host_is_superhost host_since  \\\n",
       "0                      1                 1 2010-01-08   \n",
       "\n",
       "           cancellation_policy  \n",
       "0  strict_14_with_grace_period  "
      ]
     },
     "execution_count": 111,
     "metadata": {},
     "output_type": "execute_result"
    }
   ],
   "source": [
    "from dateutil import parser\n",
    "dict_client = {}\n",
    "\n",
    "dict_client[\"city\"] = \"Bondi Beach\"\n",
    "dict_client[\"longitude\"] = 151.274506\n",
    "dict_client[\"latitude\"] = -33.889087\n",
    "dict_client[\"review_scores_rating\"] = 95\n",
    "dict_client[\"number_of_reviews\"] = 53\n",
    "dict_client[\"minimum_nights\"] = 4\n",
    "dict_client[\"security_deposit\"] = 1500\n",
    "dict_client[\"cleaning_fee\"] = 370\n",
    "dict_client[\"accommodates\"] = 10\n",
    "dict_client[\"bathrooms\"] = 3\n",
    "dict_client[\"bedrooms\"] = 5\n",
    "dict_client[\"beds\"] = 7\n",
    "dict_client[\"property_type\"] = \"House\"\n",
    "dict_client[\"room_type\"] = \"Entire home/apt\"\n",
    "dict_client[\"availability_365\"] = 255\n",
    "dict_client[\"host_identity_verified\"] = '1'  ## 1 for yes, 0 for no\n",
    "dict_client[\"host_is_superhost\"] = '1'\n",
    "dict_client[\"host_since\"] = parser.parse(\"01-08-2010\")\n",
    "dict_client[\"cancellation_policy\"] = \"strict_14_with_grace_period\"\n",
    "\n",
    "df_client = pd.DataFrame.from_dict(dict_client, orient='index').T\n",
    "\n",
    "print(df_client.columns)\n",
    "df_client"
   ]
  },
  {
   "cell_type": "code",
   "execution_count": 112,
   "metadata": {
    "colab": {},
    "colab_type": "code",
    "id": "F-4FydXgw5WN"
   },
   "outputs": [],
   "source": [
    "df_client = pipe(list(df_client.index)).transform(df_client)"
   ]
  },
  {
   "cell_type": "code",
   "execution_count": 113,
   "metadata": {
    "colab": {
     "base_uri": "https://localhost:8080/",
     "height": 117
    },
    "colab_type": "code",
    "executionInfo": {
     "elapsed": 478,
     "status": "ok",
     "timestamp": 1573953270387,
     "user": {
      "displayName": "Rajeev Ratan",
      "photoUrl": "https://lh3.googleusercontent.com/a-/AAuE7mCGo6aIm0tOcd5EhqWlYb0rime9sBvHS9YMpx0D2w=s64",
      "userId": "08597265227091462140"
     },
     "user_tz": 0
    },
    "id": "D9XXU34H7OUX",
    "outputId": "d339bfcb-c696-458e-ac6c-6746c9d26b6b"
   },
   "outputs": [
    {
     "data": {
      "text/html": [
       "<div>\n",
       "<style scoped>\n",
       "    .dataframe tbody tr th:only-of-type {\n",
       "        vertical-align: middle;\n",
       "    }\n",
       "\n",
       "    .dataframe tbody tr th {\n",
       "        vertical-align: top;\n",
       "    }\n",
       "\n",
       "    .dataframe thead th {\n",
       "        text-align: right;\n",
       "    }\n",
       "</style>\n",
       "<table border=\"1\" class=\"dataframe\">\n",
       "  <thead>\n",
       "    <tr style=\"text-align: right;\">\n",
       "      <th></th>\n",
       "      <th>longitude</th>\n",
       "      <th>latitude</th>\n",
       "      <th>review_scores_rating</th>\n",
       "      <th>number_of_reviews</th>\n",
       "      <th>minimum_nights</th>\n",
       "      <th>security_deposit</th>\n",
       "      <th>cleaning_fee</th>\n",
       "      <th>accommodates</th>\n",
       "      <th>bathrooms</th>\n",
       "      <th>bedrooms</th>\n",
       "      <th>beds</th>\n",
       "      <th>availability_365</th>\n",
       "      <th>host_identity_verified</th>\n",
       "      <th>host_is_superhost</th>\n",
       "      <th>bedrooms_per_person</th>\n",
       "      <th>bathrooms_per_person</th>\n",
       "      <th>past_and_future_popularity</th>\n",
       "      <th>Bondi</th>\n",
       "      <th>Bondi Beach</th>\n",
       "      <th>Coogee</th>\n",
       "      <th>Darlinghurst</th>\n",
       "      <th>Manly</th>\n",
       "      <th>Newtown</th>\n",
       "      <th>North Bondi</th>\n",
       "      <th>Randwick</th>\n",
       "      <th>Surry Hills</th>\n",
       "      <th>Sydney</th>\n",
       "      <th>Apartment</th>\n",
       "      <th>Bed and breakfast</th>\n",
       "      <th>Condominium</th>\n",
       "      <th>Guest suite</th>\n",
       "      <th>Guesthouse</th>\n",
       "      <th>Hostel</th>\n",
       "      <th>House</th>\n",
       "      <th>Loft</th>\n",
       "      <th>Other</th>\n",
       "      <th>Serviced apartment</th>\n",
       "      <th>Townhouse</th>\n",
       "      <th>Villa</th>\n",
       "      <th>Entire home/apt</th>\n",
       "      <th>Private room</th>\n",
       "      <th>Shared room</th>\n",
       "      <th>flexible</th>\n",
       "      <th>moderate</th>\n",
       "      <th>strict_14_with_grace_period</th>\n",
       "      <th>super_strict_60</th>\n",
       "    </tr>\n",
       "  </thead>\n",
       "  <tbody>\n",
       "    <tr>\n",
       "      <th>0</th>\n",
       "      <td>0.851126</td>\n",
       "      <td>-0.25964</td>\n",
       "      <td>0.196238</td>\n",
       "      <td>0.868259</td>\n",
       "      <td>-0.022353</td>\n",
       "      <td>2.43788</td>\n",
       "      <td>4.200801</td>\n",
       "      <td>3.666618</td>\n",
       "      <td>3.585665</td>\n",
       "      <td>4.031346</td>\n",
       "      <td>3.953237</td>\n",
       "      <td>1.296914</td>\n",
       "      <td>0.860056</td>\n",
       "      <td>2.437363</td>\n",
       "      <td>0.066709</td>\n",
       "      <td>-0.624328</td>\n",
       "      <td>-0.292702</td>\n",
       "      <td>0.0</td>\n",
       "      <td>1.0</td>\n",
       "      <td>0.0</td>\n",
       "      <td>0.0</td>\n",
       "      <td>0.0</td>\n",
       "      <td>0.0</td>\n",
       "      <td>0.0</td>\n",
       "      <td>0.0</td>\n",
       "      <td>0.0</td>\n",
       "      <td>0.0</td>\n",
       "      <td>0.0</td>\n",
       "      <td>0.0</td>\n",
       "      <td>0.0</td>\n",
       "      <td>0.0</td>\n",
       "      <td>0.0</td>\n",
       "      <td>0.0</td>\n",
       "      <td>1.0</td>\n",
       "      <td>0.0</td>\n",
       "      <td>0.0</td>\n",
       "      <td>0.0</td>\n",
       "      <td>0.0</td>\n",
       "      <td>0.0</td>\n",
       "      <td>1.0</td>\n",
       "      <td>0.0</td>\n",
       "      <td>0.0</td>\n",
       "      <td>0.0</td>\n",
       "      <td>0.0</td>\n",
       "      <td>1.0</td>\n",
       "      <td>0.0</td>\n",
       "    </tr>\n",
       "  </tbody>\n",
       "</table>\n",
       "</div>"
      ],
      "text/plain": [
       "   longitude  latitude  review_scores_rating  number_of_reviews  \\\n",
       "0   0.851126  -0.25964              0.196238           0.868259   \n",
       "\n",
       "   minimum_nights  security_deposit  cleaning_fee  accommodates  bathrooms  \\\n",
       "0       -0.022353           2.43788      4.200801      3.666618   3.585665   \n",
       "\n",
       "   bedrooms      beds  availability_365  host_identity_verified  \\\n",
       "0  4.031346  3.953237          1.296914                0.860056   \n",
       "\n",
       "   host_is_superhost  bedrooms_per_person  bathrooms_per_person  \\\n",
       "0           2.437363             0.066709             -0.624328   \n",
       "\n",
       "   past_and_future_popularity  Bondi  Bondi Beach  Coogee  Darlinghurst  \\\n",
       "0                   -0.292702    0.0          1.0     0.0           0.0   \n",
       "\n",
       "   Manly  Newtown  North Bondi  Randwick  Surry Hills  Sydney  Apartment  \\\n",
       "0    0.0      0.0          0.0       0.0          0.0     0.0        0.0   \n",
       "\n",
       "   Bed and breakfast  Condominium  Guest suite  Guesthouse  Hostel  House  \\\n",
       "0                0.0          0.0          0.0         0.0     0.0    1.0   \n",
       "\n",
       "   Loft  Other  Serviced apartment  Townhouse  Villa  Entire home/apt  \\\n",
       "0   0.0    0.0                 0.0        0.0    0.0              1.0   \n",
       "\n",
       "   Private room  Shared room  flexible  moderate  strict_14_with_grace_period  \\\n",
       "0           0.0          0.0       0.0       0.0                          1.0   \n",
       "\n",
       "   super_strict_60  \n",
       "0              0.0  "
      ]
     },
     "execution_count": 113,
     "metadata": {},
     "output_type": "execute_result"
    }
   ],
   "source": [
    "df_client"
   ]
  },
  {
   "cell_type": "code",
   "execution_count": 114,
   "metadata": {
    "colab": {},
    "colab_type": "code",
    "id": "ihA0mreKw5WU"
   },
   "outputs": [],
   "source": [
    "client_pred = final_model.predict(df_client)"
   ]
  },
  {
   "cell_type": "code",
   "execution_count": 117,
   "metadata": {
    "colab": {
     "base_uri": "https://localhost:8080/",
     "height": 69
    },
    "colab_type": "code",
    "executionInfo": {
     "elapsed": 448,
     "status": "ok",
     "timestamp": 1573953317326,
     "user": {
      "displayName": "Rajeev Ratan",
      "photoUrl": "https://lh3.googleusercontent.com/a-/AAuE7mCGo6aIm0tOcd5EhqWlYb0rime9sBvHS9YMpx0D2w=s64",
      "userId": "08597265227091462140"
     },
     "user_tz": 0
    },
    "id": "KMQ5Uyr5w5WW",
    "outputId": "4b764b16-6345-4df7-e4c3-035adc8ad76a"
   },
   "outputs": [
    {
     "name": "stdout",
     "output_type": "stream",
     "text": [
      "\u001b[1;31m735\u001b[0m\n",
      "\u001b[1;31m-500\u001b[0m\n",
      "\u001b[1;31m= 235\u001b[0m\n"
     ]
    }
   ],
   "source": [
    "### Client should be charging about ~$280 more. \n",
    "print('\\x1b[1;31m'+str(round(client_pred[0]))+'\\x1b[0m')\n",
    "print('\\x1b[1;31m'+str(-500)+'\\x1b[0m')\n",
    "print('\\x1b[1;31m'+\"= \"+str(round(client_pred[0]-500))+'\\x1b[0m')"
   ]
  },
  {
   "cell_type": "markdown",
   "metadata": {
    "colab_type": "text",
    "id": "LB7D70eRyaeY"
   },
   "source": [
    "Credit: [Derek Snow](https://www.linkedin.com/company/18004273/admin/)\n",
    "\n"
   ]
  }
 ],
 "metadata": {
  "colab": {
   "collapsed_sections": [],
   "name": "Case Study 1 - Predict AirBnB Prices in Sydney.ipynb",
   "provenance": [
    {
     "file_id": "16ILDbLl6rCD0S3r8LrEV7WXpC8LpDuo7",
     "timestamp": 1564716320020
    }
   ]
  },
  "kernelspec": {
   "display_name": "Python 3",
   "language": "python",
   "name": "python3"
  },
  "language_info": {
   "codemirror_mode": {
    "name": "ipython",
    "version": 3
   },
   "file_extension": ".py",
   "mimetype": "text/x-python",
   "name": "python",
   "nbconvert_exporter": "python",
   "pygments_lexer": "ipython3",
   "version": "3.8.5"
  },
  "nav_menu": {
   "height": "279px",
   "width": "309px"
  },
  "toc": {
   "nav_menu": {},
   "number_sections": true,
   "sideBar": true,
   "skip_h1_title": false,
   "toc_cell": false,
   "toc_position": {},
   "toc_section_display": "block",
   "toc_window_display": false
  }
 },
 "nbformat": 4,
 "nbformat_minor": 1
}
